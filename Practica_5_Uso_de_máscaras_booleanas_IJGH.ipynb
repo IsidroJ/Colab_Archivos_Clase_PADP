{
  "nbformat": 4,
  "nbformat_minor": 0,
  "metadata": {
    "colab": {
      "provenance": [],
      "mount_file_id": "1rsKmiM-5-hoWKcK_dn0cvpajuyKgFGNV",
      "authorship_tag": "ABX9TyOqJYA8ErUUzh6xndHjHgwS",
      "include_colab_link": true
    },
    "kernelspec": {
      "name": "python3",
      "display_name": "Python 3"
    },
    "language_info": {
      "name": "python"
    }
  },
  "cells": [
    {
      "cell_type": "markdown",
      "metadata": {
        "id": "view-in-github",
        "colab_type": "text"
      },
      "source": [
        "<a href=\"https://colab.research.google.com/github/IsidroJ/Colab_Archivos_Clase_PADP/blob/main/Practica_5_Uso_de_m%C3%A1scaras_booleanas_IJGH.ipynb\" target=\"_parent\"><img src=\"https://colab.research.google.com/assets/colab-badge.svg\" alt=\"Open In Colab\"/></a>"
      ]
    },
    {
      "cell_type": "markdown",
      "source": [
        "# **Practica 5. Uso de máscaras booleanas**\n",
        "\n",
        "Crea un arreglo unidimensional con 15 números aleatorios entre 1 y 50, luego:\n",
        "\n",
        "1. Selecciona los elementos mayores que 25 utilizando una máscara booleana.\n",
        "2. Cuenta cuántos elementos son mayores que 25."
      ],
      "metadata": {
        "id": "exOTeSMGGtw7"
      }
    },
    {
      "cell_type": "markdown",
      "source": [
        "# **Creación de un arreglo unidimensional con 15 números aleatorios entre 1 y 50**"
      ],
      "metadata": {
        "id": "UqO-LxEY-ygz"
      }
    },
    {
      "cell_type": "code",
      "source": [
        "import numpy as np\n",
        "\n",
        "arreglo = np.random.randint(1, 51, 15)\n",
        "print(f\"El arreglo resultante es :\\n {arreglo}\")"
      ],
      "metadata": {
        "colab": {
          "base_uri": "https://localhost:8080/"
        },
        "id": "IAWxKCMT-giU",
        "outputId": "5890aba4-50ca-497c-8124-82e688930269"
      },
      "execution_count": 2,
      "outputs": [
        {
          "output_type": "stream",
          "name": "stdout",
          "text": [
            "El arreglo resultante es :\n",
            " [16 22 11 44  8 41 40 18 14 43  2 39 47 23 31]\n"
          ]
        }
      ]
    },
    {
      "cell_type": "markdown",
      "source": [
        "# **1. Seleccionar los elementos mayores que 25 utilizando una máscara booleana.**"
      ],
      "metadata": {
        "id": "f82XISBB_N_s"
      }
    },
    {
      "cell_type": "code",
      "source": [
        "EMayores = arreglo > 25\n",
        "print(\"Los elementos mayores a 25 son:\\n\", arreglo[EMayores])"
      ],
      "metadata": {
        "colab": {
          "base_uri": "https://localhost:8080/"
        },
        "id": "a-gGRNUL_Pca",
        "outputId": "cbdfea3d-4e15-4b9b-dd07-615474dd1224"
      },
      "execution_count": 16,
      "outputs": [
        {
          "output_type": "stream",
          "name": "stdout",
          "text": [
            "Los elementos mayores a 25 son:\n",
            " [44 41 40 43 39 47 31]\n"
          ]
        }
      ]
    },
    {
      "cell_type": "markdown",
      "source": [
        "# **2. Contar cuántos elementos son mayores que 25**"
      ],
      "metadata": {
        "id": "pRrn5o0KADxK"
      }
    },
    {
      "cell_type": "code",
      "source": [
        "NEMayores = len(arreglo[EMayores])\n",
        "print(\"El total de elementos mayores a 25 es:\", NEMayores)\n",
        "\n",
        "print('\\n')\n",
        "\n",
        "print(\"Los elementos mayores a 25 son:\")\n",
        "for x in arreglo:\n",
        "    if x > 25:\n",
        "      print(x)\n"
      ],
      "metadata": {
        "colab": {
          "base_uri": "https://localhost:8080/"
        },
        "id": "W0wc4ScEBxcy",
        "outputId": "aa2a8843-daae-4d44-bfd9-10b8ade8629f"
      },
      "execution_count": 32,
      "outputs": [
        {
          "output_type": "stream",
          "name": "stdout",
          "text": [
            "El total de elementos mayores a 25 es: 7\n",
            "\n",
            "\n",
            "Los elementos mayores a 25 son:\n",
            "44\n",
            "41\n",
            "40\n",
            "43\n",
            "39\n",
            "47\n",
            "31\n"
          ]
        }
      ]
    },
    {
      "cell_type": "code",
      "source": [
        "Contar = np.sum(arreglo > 25)\n",
        "print(\"El total de elementos mayores a 25 es:\", Contar)"
      ],
      "metadata": {
        "colab": {
          "base_uri": "https://localhost:8080/"
        },
        "id": "DssVXkh8JTKf",
        "outputId": "f4c01e3c-5779-4657-cb9a-8abe25eaedc4"
      },
      "execution_count": 19,
      "outputs": [
        {
          "output_type": "stream",
          "name": "stdout",
          "text": [
            "El total de elementos mayores a 25 es: 7\n"
          ]
        }
      ]
    }
  ]
}