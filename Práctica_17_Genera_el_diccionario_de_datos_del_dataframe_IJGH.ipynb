{
  "nbformat": 4,
  "nbformat_minor": 0,
  "metadata": {
    "colab": {
      "provenance": [],
      "mount_file_id": "1GsoMU6LhwStRwxLd2isqOp4C6U75b4ub",
      "authorship_tag": "ABX9TyM4BzSPngSMOuBrVAczz94v",
      "include_colab_link": true
    },
    "kernelspec": {
      "name": "python3",
      "display_name": "Python 3"
    },
    "language_info": {
      "name": "python"
    }
  },
  "cells": [
    {
      "cell_type": "markdown",
      "metadata": {
        "id": "view-in-github",
        "colab_type": "text"
      },
      "source": [
        "<a href=\"https://colab.research.google.com/github/IsidroJ/Colab_Archivos_Clase_PADP/blob/main/Pr%C3%A1ctica_17_Genera_el_diccionario_de_datos_del_dataframe_IJGH.ipynb\" target=\"_parent\"><img src=\"https://colab.research.google.com/assets/colab-badge.svg\" alt=\"Open In Colab\"/></a>"
      ]
    },
    {
      "cell_type": "markdown",
      "source": [
        "**Práctica 17: Genera el diccionario de datos del dataframe preprocesado. Imprime el contenido de dicho diccionario**"
      ],
      "metadata": {
        "id": "bRAcvlBRRt_K"
      }
    },
    {
      "cell_type": "code",
      "execution_count": 3,
      "metadata": {
        "id": "VYYz8mGWQ1TB"
      },
      "outputs": [],
      "source": [
        "import numpy as np\n",
        "import pandas as pd\n",
        "import seaborn as sns\n",
        "import matplotlib.pyplot as plt\n",
        "import seaborn as sns"
      ]
    },
    {
      "cell_type": "code",
      "source": [
        "df = pd.read_csv('/content/drive/MyDrive/1_ClassFiles/8_Clase 29-08-2025/Practicas-Tarea/miaad-nyc-r-s.csv',\n",
        "                 dtype={0: str}, encoding='utf-8', low_memory=False)\n",
        "\n",
        "nueva_columna = df.columns.tolist()\n",
        "nueva_columna[0] = \"INDEX MIIAD\"\n",
        "df.columns = nueva_columna\n",
        "dfNuvNomCol = pd.DataFrame({\"Nombre de las columnas\": df.columns})\n",
        "#print(dfNuvNomCol)\n",
        "\n",
        "df.columns = df.columns.str.lower().str.replace(\" \", \"_\")\n",
        "\n",
        "dfNomCol = pd.DataFrame({\"Nombre de las columnas\": df.columns})"
      ],
      "metadata": {
        "id": "lPX1SkQkRw-4"
      },
      "execution_count": 4,
      "outputs": []
    },
    {
      "cell_type": "code",
      "source": [
        "df[\"sale_price\"] = pd.to_numeric(df[\"sale_price\"], errors=\"coerce\")\n",
        "df[\"land_square_feet\"] = pd.to_numeric(df[\"land_square_feet\"], errors=\"coerce\")\n",
        "df[\"gross_square_feet\"] = pd.to_numeric(df[\"gross_square_feet\"], errors=\"coerce\")"
      ],
      "metadata": {
        "id": "ezsGIpC9Ry75"
      },
      "execution_count": 5,
      "outputs": []
    },
    {
      "cell_type": "code",
      "source": [
        "descripciones = {\n",
        "    \"index_miiad\": \"Identificador único del registro\",\n",
        "    \"borough\": \"Código del borough (distrito) del inmueble o propiedad\",\n",
        "    \"neighborhood\": \"Nombre de la colonia donde se ubica la propiedad\",\n",
        "    \"building_class_category\": \"Categoría del tipo de la propiedad\",\n",
        "    \"tax_class_at_present\": \"Clase de impuesto asignada al inmueble en la actualidad\",\n",
        "    \"block\": \"Número de bloque asignado por catastro\",\n",
        "    \"lot\": \"Número de lote asignado por catastro\",\n",
        "    \"building_class_at_present\": \"Código de clase del inmueble en la actualidad\",\n",
        "    \"address\": \"Dirección del inmueble\",\n",
        "    \"residential_units\": \"Número de unidades residenciales en la propiedad\",\n",
        "    \"commercial_units\": \"Número de unidades comerciales en la propiedad\",\n",
        "    \"total_units\": \"Número total de unidades\",\n",
        "    \"land_square_feet\": \"Superficie de terreno en pies cuadrados\",\n",
        "    \"gross_square_feet\": \"Superficie construida en pies cuadrados\",\n",
        "    \"year_built\": \"Año de construcción del inmueble\",\n",
        "    \"tax_class_at_time_of_sale\": \"Clase de impuesto en el momento de la venta\",\n",
        "    \"building_class_at_time_of_sale\": \"Código de clase del inmueble al momento de la venta\",\n",
        "    \"sale_price\": \"Precio de venta del inmueble\",\n",
        "    \"sale_date\": \"Fecha en la que se registró la venta\"\n",
        "}\n",
        "\n",
        "\n",
        "diccionario_datos = pd.DataFrame({\n",
        "    \"columna\": df.columns,\n",
        "    \"tipo_de_dato\": df.dtypes.astype(str),\n",
        "    \"descripcion\": [descripciones.get(col, \"Descripción pendiente\") for col in df.columns]\n",
        "})\n",
        "\n",
        "print(\"------------------------------------------------------------------------------\")\n",
        "print(\"\\033[1m Diccionario de los datos del DataFrame modificado \\033[0m\")\n",
        "print(\"------------------------------------------------------------------------------\")\n",
        "print(diccionario_datos)"
      ],
      "metadata": {
        "colab": {
          "base_uri": "https://localhost:8080/"
        },
        "id": "kLwkWZzVSKtU",
        "outputId": "94f73754-4612-4472-9365-dc8c72fc65fd"
      },
      "execution_count": 7,
      "outputs": [
        {
          "output_type": "stream",
          "name": "stdout",
          "text": [
            "------------------------------------------------------------------------------\n",
            "\u001b[1m Diccionario de los datos del DataFrame modificado \u001b[0m\n",
            "------------------------------------------------------------------------------\n",
            "                                                       columna tipo_de_dato  \\\n",
            "index_miiad                                        index_miiad       object   \n",
            "borough                                                borough      float64   \n",
            "neighborhood                                      neighborhood       object   \n",
            "building_class_category                building_class_category       object   \n",
            "tax_class_at_present                      tax_class_at_present       object   \n",
            "block                                                    block      float64   \n",
            "lot                                                        lot      float64   \n",
            "ease-ment                                            ease-ment       object   \n",
            "building_class_at_present            building_class_at_present       object   \n",
            "address                                                address       object   \n",
            "apartment_number                              apartment_number       object   \n",
            "zip_code                                              zip_code      float64   \n",
            "residential_units                            residential_units      float64   \n",
            "commercial_units                              commercial_units      float64   \n",
            "total_units                                        total_units      float64   \n",
            "land_square_feet                              land_square_feet      float64   \n",
            "gross_square_feet                            gross_square_feet      float64   \n",
            "year_built                                          year_built      float64   \n",
            "tax_class_at_time_of_sale            tax_class_at_time_of_sale      float64   \n",
            "building_class_at_time_of_sale  building_class_at_time_of_sale       object   \n",
            "sale_price                                          sale_price      float64   \n",
            "sale_date                                            sale_date       object   \n",
            "\n",
            "                                                                      descripcion  \n",
            "index_miiad                                      Identificador único del registro  \n",
            "borough                         Código del borough (distrito) del inmueble o p...  \n",
            "neighborhood                     Nombre de la colonia donde se ubica la propiedad  \n",
            "building_class_category                        Categoría del tipo de la propiedad  \n",
            "tax_class_at_present            Clase de impuesto asignada al inmueble en la a...  \n",
            "block                                      Número de bloque asignado por catastro  \n",
            "lot                                          Número de lote asignado por catastro  \n",
            "ease-ment                                                   Descripción pendiente  \n",
            "building_class_at_present           Código de clase del inmueble en la actualidad  \n",
            "address                                                    Dirección del inmueble  \n",
            "apartment_number                                            Descripción pendiente  \n",
            "zip_code                                                    Descripción pendiente  \n",
            "residential_units                Número de unidades residenciales en la propiedad  \n",
            "commercial_units                   Número de unidades comerciales en la propiedad  \n",
            "total_units                                              Número total de unidades  \n",
            "land_square_feet                          Superficie de terreno en pies cuadrados  \n",
            "gross_square_feet                         Superficie construida en pies cuadrados  \n",
            "year_built                                       Año de construcción del inmueble  \n",
            "tax_class_at_time_of_sale             Clase de impuesto en el momento de la venta  \n",
            "building_class_at_time_of_sale  Código de clase del inmueble al momento de la ...  \n",
            "sale_price                                           Precio de venta del inmueble  \n",
            "sale_date                                    Fecha en la que se registró la venta  \n"
          ]
        }
      ]
    }
  ]
}