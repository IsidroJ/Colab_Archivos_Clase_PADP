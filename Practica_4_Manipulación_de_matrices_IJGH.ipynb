{
  "nbformat": 4,
  "nbformat_minor": 0,
  "metadata": {
    "colab": {
      "provenance": [],
      "mount_file_id": "1ho3dSPMwHWbxyQs74u0cE0U1G_ewBqeQ",
      "authorship_tag": "ABX9TyOqDZbeXmWzRb8Z80RU5DkK",
      "include_colab_link": true
    },
    "kernelspec": {
      "name": "python3",
      "display_name": "Python 3"
    },
    "language_info": {
      "name": "python"
    }
  },
  "cells": [
    {
      "cell_type": "markdown",
      "metadata": {
        "id": "view-in-github",
        "colab_type": "text"
      },
      "source": [
        "<a href=\"https://colab.research.google.com/github/IsidroJ/Colab_Archivos_Clase_PADP/blob/main/Practica_4_Manipulaci%C3%B3n_de_matrices_IJGH.ipynb\" target=\"_parent\"><img src=\"https://colab.research.google.com/assets/colab-badge.svg\" alt=\"Open In Colab\"/></a>"
      ]
    },
    {
      "cell_type": "markdown",
      "source": [
        "# **Practica 4. Manipulación de matrices**\n",
        "\n",
        "Crear dos matrices de 3x3 con números aleatorios entre 1 y 10. Realizar las siguientes operaciones:\n",
        "\n",
        "1. Suma ambas matrices.\n",
        "2. Resta la segunda matriz de la primera.\n",
        "3. Multiplica la primera matriz por 2.\n",
        "4. Realiza una multiplicación matricial entre las dos matrices."
      ],
      "metadata": {
        "id": "S9yROazsB3o-"
      }
    },
    {
      "cell_type": "markdown",
      "source": [
        "# **Creación de dos matrices de 3x3**\n",
        "\n",
        "Cargar la librería NumPy"
      ],
      "metadata": {
        "id": "0UEXm-onCWpW"
      }
    },
    {
      "cell_type": "code",
      "source": [
        "import numpy as np\n",
        "\n",
        "MatrizA = np.random.randint(1, 10, (3, 3))\n",
        "MatrizB = np.random.randint(1, 10, (3, 3))\n",
        "print(\"Matriz A:\\n\", MatrizA)\n",
        "\n",
        "print('\\n')\n",
        "\n",
        "print(\"Matriz B:\\n\", MatrizB)"
      ],
      "metadata": {
        "colab": {
          "base_uri": "https://localhost:8080/"
        },
        "id": "s814h5ThCf_Y",
        "outputId": "95548b5d-d1ec-4c51-df81-d4942ead168b"
      },
      "execution_count": 12,
      "outputs": [
        {
          "output_type": "stream",
          "name": "stdout",
          "text": [
            "Matriz A:\n",
            " [[6 4 3]\n",
            " [2 6 5]\n",
            " [9 6 6]]\n",
            "\n",
            "\n",
            "Matriz B:\n",
            " [[8 1 1]\n",
            " [3 4 6]\n",
            " [8 1 8]]\n"
          ]
        }
      ]
    },
    {
      "cell_type": "markdown",
      "source": [
        "# **1. Suma ambas matrices.**\n",
        "La suma de matrices en matemáticas significa sumar elemento a elemento de dos matrices de igual tamaño. Es decir, mismas dimensiones (mismo número de filas y columnas)."
      ],
      "metadata": {
        "id": "KPR_e9OiFW46"
      }
    },
    {
      "cell_type": "code",
      "source": [
        "SumaMatriz = np.array(MatrizA) + np.array(MatrizB)\n",
        "print(f\"La suma de las matrices es:\\n {SumaMatriz}\")\n"
      ],
      "metadata": {
        "colab": {
          "base_uri": "https://localhost:8080/"
        },
        "id": "O0hx4iE-DhZj",
        "outputId": "27f6d78e-0d15-46a8-9dc2-426ade62acc0"
      },
      "execution_count": 17,
      "outputs": [
        {
          "output_type": "stream",
          "name": "stdout",
          "text": [
            "La suma de las matrices es:\n",
            " [[14  5  4]\n",
            " [ 5 10 11]\n",
            " [17  7 14]]\n"
          ]
        }
      ]
    },
    {
      "cell_type": "markdown",
      "source": [
        "# **2. Resta la segunda matriz de la primera.**\n",
        "La resta de matrices funciona igual que la suma, pero restando cada elemento correspondiente."
      ],
      "metadata": {
        "id": "m1mx1mSxDfCm"
      }
    },
    {
      "cell_type": "code",
      "source": [
        "SumaMatriz = np.array(MatrizA) - np.array(MatrizB)\n",
        "print(f\"La suma de las matrices es:\\n {SumaMatriz}\")\n"
      ],
      "metadata": {
        "colab": {
          "base_uri": "https://localhost:8080/"
        },
        "outputId": "e9c88ad9-35d6-4d84-a4a5-eb9ce7b6c16e",
        "id": "pHvuVNU7GKK5"
      },
      "execution_count": 18,
      "outputs": [
        {
          "output_type": "stream",
          "name": "stdout",
          "text": [
            "La suma de las matrices es:\n",
            " [[-2  3  2]\n",
            " [-1  2 -1]\n",
            " [ 1  5 -2]]\n"
          ]
        }
      ]
    },
    {
      "cell_type": "markdown",
      "source": [
        "# **3. Multiplica la primera matriz por 2.**\n",
        "Multiplicar una matriz por un número (en este caso un escalar) significa multiplicar cada elemento de la matriz por ese número o escalar."
      ],
      "metadata": {
        "id": "vLl2XntMGQbB"
      }
    },
    {
      "cell_type": "code",
      "source": [
        "EscalarMatriz = np.array(MatrizA)*2\n",
        "print(f\"La multiplicaciónd e la matriz por el 2(escalar) es:\\n {EscalarMatriz}\")"
      ],
      "metadata": {
        "colab": {
          "base_uri": "https://localhost:8080/"
        },
        "id": "huobOjFeR0AZ",
        "outputId": "b2d11080-5547-4f3e-9799-0cba744574b7"
      },
      "execution_count": 19,
      "outputs": [
        {
          "output_type": "stream",
          "name": "stdout",
          "text": [
            "La multiplicaciónd e la matriz por el 2(escalar) es:\n",
            " [[12  8  6]\n",
            " [ 4 12 10]\n",
            " [18 12 12]]\n"
          ]
        }
      ]
    },
    {
      "cell_type": "markdown",
      "source": [
        "# **4. Realiza una multiplicación matricial entre las dos matrices.**\n",
        "La multiplicación de dos matrices no es igual a la suma, ni a la resta, ni a la multiplicación por un número(escalar). Aquí se realiza un producto matricial.\n",
        "\n",
        "\n"
      ],
      "metadata": {
        "id": "j0SqJThMRxrf"
      }
    },
    {
      "cell_type": "code",
      "execution_count": 25,
      "metadata": {
        "colab": {
          "base_uri": "https://localhost:8080/"
        },
        "id": "g99RNswGBtV8",
        "outputId": "db49d446-f4dd-4f45-c024-30502452b815"
      },
      "outputs": [
        {
          "output_type": "stream",
          "name": "stdout",
          "text": [
            "MatrizA:\n",
            " [[6 5 8]\n",
            " [5 2 6]\n",
            " [5 2 4]]\n",
            "\n",
            "\n",
            "Matriz B:\n",
            " [[5 9 8]\n",
            " [7 4 5]\n",
            " [2 5 1]]\n",
            "\n",
            "\n",
            "Multiplicación matricial:\n",
            " [[ 84  25  54]\n",
            " [ 74  31  78]\n",
            " [138  39  93]]\n"
          ]
        }
      ],
      "source": [
        "print(\"MatrizA:\\n\", A)\n",
        "print('\\n')\n",
        "\n",
        "print(\"Matriz B:\\n\", B)\n",
        "print('\\n')\n",
        "\n",
        "print(\"Multiplicación matricial:\\n\", np.dot(MatrizA, MatrizB))"
      ]
    }
  ]
}