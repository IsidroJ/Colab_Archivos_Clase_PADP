{
  "nbformat": 4,
  "nbformat_minor": 0,
  "metadata": {
    "colab": {
      "provenance": [],
      "mount_file_id": "1RPrK7IF5asR1vOH5lPDfHfuBDboB9lRH",
      "authorship_tag": "ABX9TyM3oluWFCsGA2w+d8m+AzVg",
      "include_colab_link": true
    },
    "kernelspec": {
      "name": "python3",
      "display_name": "Python 3"
    },
    "language_info": {
      "name": "python"
    }
  },
  "cells": [
    {
      "cell_type": "markdown",
      "metadata": {
        "id": "view-in-github",
        "colab_type": "text"
      },
      "source": [
        "<a href=\"https://colab.research.google.com/github/IsidroJ/Colab_Archivos_Clase_PADP/blob/main/Practica_6_Manejo_de_libreria_Pandas_IJGH.ipynb\" target=\"_parent\"><img src=\"https://colab.research.google.com/assets/colab-badge.svg\" alt=\"Open In Colab\"/></a>"
      ]
    },
    {
      "cell_type": "markdown",
      "source": [
        "# **Practica 6. Manejo de libreria Pandas**\n",
        "\n",
        " Carga el archivo titanic.csv en la carpeta correspondiente de Google drive para realizar los siguientes ejercicios:"
      ],
      "metadata": {
        "id": "bhIGqJlxNEr0"
      }
    },
    {
      "cell_type": "code",
      "source": [
        "import pandas as pd\n",
        "import matplotlib.pyplot as plt\n",
        "import numpy as np\n",
        "\n",
        "\n",
        "dataframe = pd.read_csv('/content/drive/MyDrive/1_ClassFiles/4_Clase 15-08-2025/Titanic-Dataset.csv')\n",
        "print(dataframe)"
      ],
      "metadata": {
        "colab": {
          "base_uri": "https://localhost:8080/"
        },
        "collapsed": true,
        "id": "FEIILMBaOV8U",
        "outputId": "244ca386-d6ba-4aaa-89aa-fcffd5211461"
      },
      "execution_count": 15,
      "outputs": [
        {
          "output_type": "stream",
          "name": "stdout",
          "text": [
            "     PassengerId  Survived  Pclass  \\\n",
            "0              1         0       3   \n",
            "1              2         1       1   \n",
            "2              3         1       3   \n",
            "3              4         1       1   \n",
            "4              5         0       3   \n",
            "..           ...       ...     ...   \n",
            "886          887         0       2   \n",
            "887          888         1       1   \n",
            "888          889         0       3   \n",
            "889          890         1       1   \n",
            "890          891         0       3   \n",
            "\n",
            "                                                  Name     Sex   Age  SibSp  \\\n",
            "0                              Braund, Mr. Owen Harris    male  22.0      1   \n",
            "1    Cumings, Mrs. John Bradley (Florence Briggs Th...  female  38.0      1   \n",
            "2                               Heikkinen, Miss. Laina  female  26.0      0   \n",
            "3         Futrelle, Mrs. Jacques Heath (Lily May Peel)  female  35.0      1   \n",
            "4                             Allen, Mr. William Henry    male  35.0      0   \n",
            "..                                                 ...     ...   ...    ...   \n",
            "886                              Montvila, Rev. Juozas    male  27.0      0   \n",
            "887                       Graham, Miss. Margaret Edith  female  19.0      0   \n",
            "888           Johnston, Miss. Catherine Helen \"Carrie\"  female   NaN      1   \n",
            "889                              Behr, Mr. Karl Howell    male  26.0      0   \n",
            "890                                Dooley, Mr. Patrick    male  32.0      0   \n",
            "\n",
            "     Parch            Ticket     Fare Cabin Embarked  \n",
            "0        0         A/5 21171   7.2500   NaN        S  \n",
            "1        0          PC 17599  71.2833   C85        C  \n",
            "2        0  STON/O2. 3101282   7.9250   NaN        S  \n",
            "3        0            113803  53.1000  C123        S  \n",
            "4        0            373450   8.0500   NaN        S  \n",
            "..     ...               ...      ...   ...      ...  \n",
            "886      0            211536  13.0000   NaN        S  \n",
            "887      0            112053  30.0000   B42        S  \n",
            "888      2        W./C. 6607  23.4500   NaN        S  \n",
            "889      0            111369  30.0000  C148        C  \n",
            "890      0            370376   7.7500   NaN        Q  \n",
            "\n",
            "[891 rows x 12 columns]\n"
          ]
        }
      ]
    },
    {
      "cell_type": "markdown",
      "source": [
        "# **Ejercicio 1: Análisis de la distribución de supervivencia por combinación de sexo y clase del pasajero.**\n",
        "\n",
        "1. Calcula la proporción de supervivencia para cada combinación de 'Sex' y 'Pclass'.\n",
        "2. Identifica qué combinación tuvo la tasa de supervivencia más alta.\n",
        "3. Identifica qué combinación tuvo la tasa de supervivencia más baja."
      ],
      "metadata": {
        "id": "Plb5fWvTNWu8"
      }
    },
    {
      "cell_type": "markdown",
      "source": [
        "**1. Calcula la proporción de supervivencia para cada combinación de 'Sex' y 'Pclass'.**"
      ],
      "metadata": {
        "id": "tYnfHXTsP2Ey"
      }
    },
    {
      "cell_type": "code",
      "source": [
        "# Cantidad de personas que sobrevivieron y murieron por sexo y clase\n",
        "TablaSyNo = pd.crosstab([dataframe[\"Sex\"], dataframe[\"Pclass\"]], dataframe[\"Survived\"])\n",
        "\n",
        "print(TablaSyNo)"
      ],
      "metadata": {
        "colab": {
          "base_uri": "https://localhost:8080/"
        },
        "collapsed": true,
        "id": "tg3qbE3LTm6k",
        "outputId": "669e08af-0599-4b36-d970-7d8c3f0de550"
      },
      "execution_count": 16,
      "outputs": [
        {
          "output_type": "stream",
          "name": "stdout",
          "text": [
            "Survived         0   1\n",
            "Sex    Pclass         \n",
            "female 1         3  91\n",
            "       2         6  70\n",
            "       3        72  72\n",
            "male   1        77  45\n",
            "       2        91  17\n",
            "       3       300  47\n"
          ]
        }
      ]
    },
    {
      "cell_type": "code",
      "execution_count": 17,
      "metadata": {
        "colab": {
          "base_uri": "https://localhost:8080/"
        },
        "id": "xO0M8MbEMzkM",
        "outputId": "105d8738-3688-4365-839e-789f8c686577"
      },
      "outputs": [
        {
          "output_type": "stream",
          "name": "stdout",
          "text": [
            "La proporción de personas que subrevivieron por sexo y clase es:\n",
            " Sex     Pclass\n",
            "female  1         0.9681\n",
            "        2         0.9211\n",
            "        3         0.5000\n",
            "male    1         0.3689\n",
            "        2         0.1574\n",
            "        3         0.1354\n",
            "Name: Survived, dtype: float64\n"
          ]
        }
      ],
      "source": [
        "# Proporción de personas que subrevivieron por sexo y clase\n",
        "\n",
        "TasaSupervi = dataframe.groupby([\"Sex\", \"Pclass\"])[\"Survived\"].mean().round(4)\n",
        "\n",
        "print(f\"La proporción de personas que subrevivieron por sexo y clase es:\\n {TasaSupervi}\")"
      ]
    },
    {
      "cell_type": "markdown",
      "source": [
        "**2. Identificar qué combinación tuvo la tasa de supervivencia más alta.**"
      ],
      "metadata": {
        "id": "3SKfpuo8U_kb"
      }
    },
    {
      "cell_type": "code",
      "source": [
        "Sexo, Clase = TasaSupervi.idxmax()\n",
        "Valor_maximo = TasaSupervi.max()\n",
        "\n",
        "print(f\"La combinación con mayor tasa de supervivencia es: ({Sexo}, Clase {int(Clase)}) con {(100*Valor_maximo):.2f}%\")"
      ],
      "metadata": {
        "colab": {
          "base_uri": "https://localhost:8080/"
        },
        "id": "rU7T5j7raMgE",
        "outputId": "a0e65171-9cca-44e5-9f94-cb48019e4722"
      },
      "execution_count": 18,
      "outputs": [
        {
          "output_type": "stream",
          "name": "stdout",
          "text": [
            "La combinación con mayor tasa de supervivencia es: (female, Clase 1) con 96.81%\n"
          ]
        }
      ]
    },
    {
      "cell_type": "markdown",
      "source": [
        "**3. Identifica qué combinación tuvo la tasa de supervivencia más baja.**"
      ],
      "metadata": {
        "id": "Nxs6eDk9bVcG"
      }
    },
    {
      "cell_type": "code",
      "source": [
        "Sexo, Clase = TasaSupervi.idxmin()\n",
        "Valor_minimo = TasaSupervi.min()\n",
        "\n",
        "print(f\"La combinación con menor tasa de supervivencia es: ({Sexo}, Clase {int(Clase)}) con {(100*Valor_minimo):.2f}%\")"
      ],
      "metadata": {
        "colab": {
          "base_uri": "https://localhost:8080/"
        },
        "id": "7tOxadpLbbOO",
        "outputId": "9b11ed5c-7e79-4e70-99bc-e2dde2d26d41"
      },
      "execution_count": 19,
      "outputs": [
        {
          "output_type": "stream",
          "name": "stdout",
          "text": [
            "La combinación con menor tasa de supervivencia es: (male, Clase 3) con 13.54%\n"
          ]
        }
      ]
    },
    {
      "cell_type": "markdown",
      "source": [
        "# **Ejercicio 2: Identificación de familias grandes a bordo.**\n",
        "\n",
        "1. Crea una nueva columna 'FamilySize' sumando las columnas 'SibSp' y 'Parch'.\n",
        "2. Considera como \"familia grande\" a aquellas donde 'FamilySize' es mayor a 3.\n",
        "3. Calcula el número de pasajeros en familias grandes.\n",
        "4. Calcula la proporción de supervivencia entre los pasajeros que pertenecen a familias grandes."
      ],
      "metadata": {
        "id": "8FSBcBGLcdvz"
      }
    },
    {
      "cell_type": "markdown",
      "source": [
        "**1. Crea una nueva columna 'FamilySize' sumando las columnas 'SibSp' y 'Parch'.**"
      ],
      "metadata": {
        "id": "24b_6tQiclM1"
      }
    },
    {
      "cell_type": "code",
      "source": [
        "# Crear nueva columna 'Promedio'\n",
        "dataframe['FamilySize'] = dataframe[['SibSp', 'Parch']].sum(axis=1)\n",
        "print(dataframe)"
      ],
      "metadata": {
        "colab": {
          "base_uri": "https://localhost:8080/"
        },
        "id": "f6k4BnQfcnRP",
        "outputId": "88fc38f4-3f17-4e5d-f0b2-fe40473766e1"
      },
      "execution_count": 20,
      "outputs": [
        {
          "output_type": "stream",
          "name": "stdout",
          "text": [
            "     PassengerId  Survived  Pclass  \\\n",
            "0              1         0       3   \n",
            "1              2         1       1   \n",
            "2              3         1       3   \n",
            "3              4         1       1   \n",
            "4              5         0       3   \n",
            "..           ...       ...     ...   \n",
            "886          887         0       2   \n",
            "887          888         1       1   \n",
            "888          889         0       3   \n",
            "889          890         1       1   \n",
            "890          891         0       3   \n",
            "\n",
            "                                                  Name     Sex   Age  SibSp  \\\n",
            "0                              Braund, Mr. Owen Harris    male  22.0      1   \n",
            "1    Cumings, Mrs. John Bradley (Florence Briggs Th...  female  38.0      1   \n",
            "2                               Heikkinen, Miss. Laina  female  26.0      0   \n",
            "3         Futrelle, Mrs. Jacques Heath (Lily May Peel)  female  35.0      1   \n",
            "4                             Allen, Mr. William Henry    male  35.0      0   \n",
            "..                                                 ...     ...   ...    ...   \n",
            "886                              Montvila, Rev. Juozas    male  27.0      0   \n",
            "887                       Graham, Miss. Margaret Edith  female  19.0      0   \n",
            "888           Johnston, Miss. Catherine Helen \"Carrie\"  female   NaN      1   \n",
            "889                              Behr, Mr. Karl Howell    male  26.0      0   \n",
            "890                                Dooley, Mr. Patrick    male  32.0      0   \n",
            "\n",
            "     Parch            Ticket     Fare Cabin Embarked  FamilySize  \n",
            "0        0         A/5 21171   7.2500   NaN        S           1  \n",
            "1        0          PC 17599  71.2833   C85        C           1  \n",
            "2        0  STON/O2. 3101282   7.9250   NaN        S           0  \n",
            "3        0            113803  53.1000  C123        S           1  \n",
            "4        0            373450   8.0500   NaN        S           0  \n",
            "..     ...               ...      ...   ...      ...         ...  \n",
            "886      0            211536  13.0000   NaN        S           0  \n",
            "887      0            112053  30.0000   B42        S           0  \n",
            "888      2        W./C. 6607  23.4500   NaN        S           3  \n",
            "889      0            111369  30.0000  C148        C           0  \n",
            "890      0            370376   7.7500   NaN        Q           0  \n",
            "\n",
            "[891 rows x 13 columns]\n"
          ]
        }
      ]
    },
    {
      "cell_type": "markdown",
      "source": [
        "**2. Considera como \"familia grande\" a aquellas donde 'FamilySize' es mayor a 3.**"
      ],
      "metadata": {
        "id": "sHqmx4w9eEFy"
      }
    },
    {
      "cell_type": "code",
      "source": [
        "Familia_grande = dataframe[dataframe['FamilySize'] > 3]\n",
        "print(Familia_grande)"
      ],
      "metadata": {
        "colab": {
          "base_uri": "https://localhost:8080/"
        },
        "id": "-mjuKOaueG_N",
        "outputId": "d656722e-e93b-457a-d0ba-b560728ba4ae"
      },
      "execution_count": 21,
      "outputs": [
        {
          "output_type": "stream",
          "name": "stdout",
          "text": [
            "     PassengerId  Survived  Pclass  \\\n",
            "7              8         0       3   \n",
            "13            14         0       3   \n",
            "16            17         0       3   \n",
            "24            25         0       3   \n",
            "25            26         1       3   \n",
            "..           ...       ...     ...   \n",
            "824          825         0       3   \n",
            "846          847         0       3   \n",
            "850          851         0       3   \n",
            "863          864         0       3   \n",
            "885          886         0       3   \n",
            "\n",
            "                                                  Name     Sex   Age  SibSp  \\\n",
            "7                       Palsson, Master. Gosta Leonard    male   2.0      3   \n",
            "13                         Andersson, Mr. Anders Johan    male  39.0      1   \n",
            "16                                Rice, Master. Eugene    male   2.0      4   \n",
            "24                       Palsson, Miss. Torborg Danira  female   8.0      3   \n",
            "25   Asplund, Mrs. Carl Oscar (Selma Augusta Emilia...  female  38.0      1   \n",
            "..                                                 ...     ...   ...    ...   \n",
            "824                       Panula, Master. Urho Abraham    male   2.0      4   \n",
            "846                           Sage, Mr. Douglas Bullen    male   NaN      8   \n",
            "850            Andersson, Master. Sigvard Harald Elias    male   4.0      4   \n",
            "863                  Sage, Miss. Dorothy Edith \"Dolly\"  female   NaN      8   \n",
            "885               Rice, Mrs. William (Margaret Norton)  female  39.0      0   \n",
            "\n",
            "     Parch    Ticket     Fare Cabin Embarked  FamilySize  \n",
            "7        1    349909  21.0750   NaN        S           4  \n",
            "13       5    347082  31.2750   NaN        S           6  \n",
            "16       1    382652  29.1250   NaN        Q           5  \n",
            "24       1    349909  21.0750   NaN        S           4  \n",
            "25       5    347077  31.3875   NaN        S           6  \n",
            "..     ...       ...      ...   ...      ...         ...  \n",
            "824      1   3101295  39.6875   NaN        S           5  \n",
            "846      2  CA. 2343  69.5500   NaN        S          10  \n",
            "850      2    347082  31.2750   NaN        S           6  \n",
            "863      2  CA. 2343  69.5500   NaN        S          10  \n",
            "885      5    382652  29.1250   NaN        Q           5  \n",
            "\n",
            "[62 rows x 13 columns]\n"
          ]
        }
      ]
    },
    {
      "cell_type": "markdown",
      "source": [
        "**3. Calcula el número de pasajeros en familias grandes.**"
      ],
      "metadata": {
        "id": "2UnS0a92e9j4"
      }
    },
    {
      "cell_type": "code",
      "source": [
        "NumPasFG = len(Familia_grande)\n",
        "print(\"El  número de pasajeros en familias grandes es:\", NumPasFG)"
      ],
      "metadata": {
        "colab": {
          "base_uri": "https://localhost:8080/"
        },
        "id": "-fbzKUDvh3sW",
        "outputId": "e723deb4-1b25-4b5a-e30b-bf75568d6100"
      },
      "execution_count": 22,
      "outputs": [
        {
          "output_type": "stream",
          "name": "stdout",
          "text": [
            "El  número de pasajeros en familias grandes es: 62\n"
          ]
        }
      ]
    },
    {
      "cell_type": "markdown",
      "source": [
        "**4. Calcula la proporción de supervivencia entre los pasajeros que pertenecen a familias grandes.**"
      ],
      "metadata": {
        "id": "Au1TcgDsiegd"
      }
    },
    {
      "cell_type": "code",
      "source": [
        "ProporcionSPFG = Familia_grande[\"Survived\"].mean().round(4)\n",
        "\n",
        "print(f\"La Proporción de supervivencia de los pasajeros en familias grandes es del: {(100*ProporcionSPFG):.2f}%\")"
      ],
      "metadata": {
        "colab": {
          "base_uri": "https://localhost:8080/"
        },
        "id": "eYoDHqUtigkw",
        "outputId": "bfa13497-0506-457d-f773-4a8258937012"
      },
      "execution_count": 23,
      "outputs": [
        {
          "output_type": "stream",
          "name": "stdout",
          "text": [
            "La Proporción de supervivencia de los pasajeros en familias grandes es del: 16.13%\n"
          ]
        }
      ]
    },
    {
      "cell_type": "markdown",
      "source": [
        "# **Ejercicio 3: Segmentación por grupos de edad.**\n",
        "\n",
        "Clasifica a los pasajeros en las siguientes categorías de edad(tip puede resultar mas sencillo realizarlo con una función)\n",
        "\n",
        "* Menor de Edad\n",
        "* Mayor de Edad\n",
        "\n"
      ],
      "metadata": {
        "id": "GVz2zdLgj-ZX"
      }
    },
    {
      "cell_type": "markdown",
      "source": [
        "**1. Clasificación de pasajeros por edad**"
      ],
      "metadata": {
        "id": "z7JA77z3o1NY"
      }
    },
    {
      "cell_type": "code",
      "source": [
        "def edad_pasajero(edad):\n",
        "    if pd.isna(edad):     #verifica que valor es nulo\n",
        "        return np.nan    #mantiene que valor nulo\n",
        "    return \"Menor de Edad\" if edad < 18 else \"Mayor de Edad\"\n",
        "\n",
        "dataframe[\"Grupos_edad\"] = dataframe[\"Age\"].apply(edad_pasajero)\n",
        "\n",
        "print(\"La Distribución de pasajeros por grupos de edad es:\")\n",
        "\n",
        "contar = dataframe[\"Grupos_edad\"].value_counts(dropna=False)\n",
        "\n",
        "orden = [\"Mayor de Edad\", \"Menor de Edad\", np.nan]\n",
        "contar = contar.reindex(orden)\n",
        "\n",
        "print(contar)"
      ],
      "metadata": {
        "colab": {
          "base_uri": "https://localhost:8080/"
        },
        "id": "-RtW8hd0lihk",
        "outputId": "2648b9f9-5ab4-47ee-de0c-ad9e436fec4b"
      },
      "execution_count": 25,
      "outputs": [
        {
          "output_type": "stream",
          "name": "stdout",
          "text": [
            "La Distribución de pasajeros por grupos de edad es:\n",
            "Grupos_edad\n",
            "Mayor de Edad    601\n",
            "Menor de Edad    113\n",
            "NaN              177\n",
            "Name: count, dtype: int64\n"
          ]
        }
      ]
    },
    {
      "cell_type": "markdown",
      "source": [
        "# **Ejercicio 4: Comparación entre promedios calculados manualmente y con Pandas**\n",
        "\n",
        "1. Utiliza NumPy para calcular el promedio de las columnas 'Age' y 'Fare', ignorando valores nulos.\n",
        "2. Compara estos valores con los promedios obtenidos utilizando los métodos nativos de Pandas.\n",
        "3. Verifica que los resultados sean consistentes."
      ],
      "metadata": {
        "id": "zWQ-M6xMD7-V"
      }
    },
    {
      "cell_type": "markdown",
      "source": [
        "**1. Utiliza NumPy para calcular el promedio de las columnas 'Age' y 'Fare', ignorando valores nulos**"
      ],
      "metadata": {
        "id": "hh3obuNppGmE"
      }
    },
    {
      "cell_type": "code",
      "source": [
        "Promedio_edad = np.nanmean(dataframe[\"Age\"])   # np.nanmean ignora los NaN y calcula la media solo con los valores válidos.\n",
        "print(f\"El promedio de la edad sin datos nulos es: {Promedio_edad:.2f}\")\n",
        "\n",
        "Promedio_tarifa = np.nanmean(dataframe[\"Fare\"])\n",
        "print(f\"El promedio de la edad sin datos nulos es: {Promedio_tarifa:.2f}\")"
      ],
      "metadata": {
        "colab": {
          "base_uri": "https://localhost:8080/"
        },
        "id": "2FO_kyGYEF5O",
        "outputId": "5d165fc0-0902-4ea5-f88d-07a5325e7b82"
      },
      "execution_count": 30,
      "outputs": [
        {
          "output_type": "stream",
          "name": "stdout",
          "text": [
            "El promedio de la edad sin datos nulos es: 29.70\n",
            "El promedio de la edad sin datos nulos es: 32.20\n"
          ]
        }
      ]
    },
    {
      "cell_type": "markdown",
      "source": [
        "**2. Compara estos valores con los promedios obtenidos utilizando los métodos nativos de Pandas.**"
      ],
      "metadata": {
        "id": "thx-3RuZqOzn"
      }
    },
    {
      "cell_type": "code",
      "source": [
        "Promedio_edad_pandas = dataframe['Age'].mean()\n",
        "print(f\"El promedio de la edad sin datos nulos es: {Promedio_edad_pandas:.2f}\")\n",
        "\n",
        "Promedio_tarifa_pandas = dataframe['Fare'].mean()\n",
        "print(f\"El promedio de la edad sin datos nulos es: {Promedio_tarifa_pandas:.2f}\")"
      ],
      "metadata": {
        "colab": {
          "base_uri": "https://localhost:8080/"
        },
        "id": "YkrFnYKzqSye",
        "outputId": "824ccee5-0e17-47c6-f122-8411e31422ec"
      },
      "execution_count": 35,
      "outputs": [
        {
          "output_type": "stream",
          "name": "stdout",
          "text": [
            "El promedio de la edad sin datos nulos es: 29.70\n",
            "El promedio de la edad sin datos nulos es: 32.20\n"
          ]
        }
      ]
    },
    {
      "cell_type": "markdown",
      "source": [
        "**3. Verifica que los resultados sean consistentes.**\n",
        "\n",
        "Los resultados son los mismos usando NumPy y Pandas.\n",
        "* En NumPy, np.nanmean ignora valores nulos (NaN) y calcula la media con los valores válidos.\n",
        "* En Pandas, cuando se usa .mean() sobre una serie (columna de un DataFrame), este ignora automáticamente los valores nulos (NaN)."
      ],
      "metadata": {
        "id": "V4GQdskXtUpG"
      }
    },
    {
      "cell_type": "markdown",
      "source": [
        "# **Ejercicio 5. Creación de intervalos de clase usando NumPy y análisis con Pandas**\n",
        "\n",
        "1. Divide la columna 'Fare' en 5 intervalos equidistantes utilizando la función numpy.linspace, el estudiante deberá investigar la operación de esta función en python.\n",
        "2. Crea una nueva columna en el DataFrame que asigne a cada pasajero el intervalo correspondiente de su tarifa.\n",
        "3. Calcula el número de pasajeros en cada intervalo utilizando Pandas y la proporción de supervivientes por intervalo."
      ],
      "metadata": {
        "id": "k8nJP8v2t9DT"
      }
    },
    {
      "cell_type": "markdown",
      "source": [
        "**1. Divide la columna 'Fare' en 5 intervalos equidistantes utilizando la función numpy.linspace, el estudiante deberá investigar la operación de esta función en python.**"
      ],
      "metadata": {
        "id": "fmjNIX6huWdi"
      }
    },
    {
      "cell_type": "code",
      "source": [
        "Tarifa = dataframe[\"Fare\"].dropna()\n",
        "print(Tarifa)\n",
        "\n",
        "print('\\n')\n",
        "\n",
        "Tarifa_minima = dataframe[\"Fare\"].min()\n",
        "print(\"La Tarifa mínima es:\", Tarifa_minima)\n",
        "\n",
        "Tarifa_maxima = dataframe[\"Fare\"].max()\n",
        "print(\"La Tarifa máxima es:\", Tarifa_maxima)\n",
        "\n",
        "print('\\n')\n",
        "\n",
        "Intervalos = np.linspace(Tarifa_minima, Tarifa_maxima, 6)\n",
        "print(\"Los intervalos son:\", Intervalos)\n",
        "\n",
        "\n"
      ],
      "metadata": {
        "colab": {
          "base_uri": "https://localhost:8080/"
        },
        "id": "jBFBIs1QwwX5",
        "outputId": "39f2599e-402a-4092-e45a-6b1cef6355ad"
      },
      "execution_count": 67,
      "outputs": [
        {
          "output_type": "stream",
          "name": "stdout",
          "text": [
            "0       7.2500\n",
            "1      71.2833\n",
            "2       7.9250\n",
            "3      53.1000\n",
            "4       8.0500\n",
            "        ...   \n",
            "886    13.0000\n",
            "887    30.0000\n",
            "888    23.4500\n",
            "889    30.0000\n",
            "890     7.7500\n",
            "Name: Fare, Length: 891, dtype: float64\n",
            "\n",
            "\n",
            "La Tarifa mínima es: 0.0\n",
            "La Tarifa máxima es: 512.3292\n",
            "\n",
            "\n",
            "Los intervalos son: [  0.      102.46584 204.93168 307.39752 409.86336 512.3292 ]\n"
          ]
        }
      ]
    },
    {
      "cell_type": "markdown",
      "source": [
        "**2. Crea una nueva columna en el DataFrame que asigne a cada pasajero el intervalo correspondiente de su tarifa.**"
      ],
      "metadata": {
        "id": "C6ohhdks0jPL"
      }
    },
    {
      "cell_type": "code",
      "source": [
        "# Se crea una columna llamada \"Intervalo_Clase\"\n",
        "dataframe[\"Intervalo_Clase\"] = pd.cut(dataframe[\"Fare\"], Intervalos)\n",
        "print(\"Intervalo correspondiente a la tarifa del pasajero: \\n\", dataframe[\"Intervalo_Clase\"])"
      ],
      "metadata": {
        "colab": {
          "base_uri": "https://localhost:8080/"
        },
        "id": "eG2N1eUH3eHQ",
        "outputId": "1b4c9072-111e-4f87-a31e-74e6390c63c1"
      },
      "execution_count": 65,
      "outputs": [
        {
          "output_type": "stream",
          "name": "stdout",
          "text": [
            "Intervalo correspondiente a la tarifa del pasajero: \n",
            " 0      (0.0, 102.466]\n",
            "1      (0.0, 102.466]\n",
            "2      (0.0, 102.466]\n",
            "3      (0.0, 102.466]\n",
            "4      (0.0, 102.466]\n",
            "            ...      \n",
            "886    (0.0, 102.466]\n",
            "887    (0.0, 102.466]\n",
            "888    (0.0, 102.466]\n",
            "889    (0.0, 102.466]\n",
            "890    (0.0, 102.466]\n",
            "Name: Intervalo_Clase, Length: 891, dtype: category\n",
            "Categories (5, interval[float64, right]): [(0.0, 102.466] < (102.466, 204.932] <\n",
            "                                           (204.932, 307.398] < (307.398, 409.863] <\n",
            "                                           (409.863, 512.329]]\n"
          ]
        }
      ]
    },
    {
      "cell_type": "markdown",
      "source": [
        "**3.Calcula el número de pasajeros en cada intervalo utilizando Pandas y la proporción de supervivientes por intervalo.**"
      ],
      "metadata": {
        "id": "VpcAEFml5znM"
      }
    },
    {
      "cell_type": "code",
      "source": [
        "NumeroPpI = dataframe[\"Intervalo_Clase\"].value_counts().sort_index()\n",
        "print(\"Número de pasajeros por intervalo de clase: \\n\", NumeroPpI)\n",
        "\n",
        "print('\\n')\n",
        "\n",
        "ProporcionSpI = dataframe.groupby(\"Intervalo_Clase\")[\"Survived\"].mean()\n",
        "print(f\"Número de pasajeros por intervalo de clase: \\n\", ProporcionSpI.round(2))"
      ],
      "metadata": {
        "colab": {
          "base_uri": "https://localhost:8080/"
        },
        "id": "rzR8IiMQ53ZE",
        "outputId": "a0301a4e-3334-440a-e930-4ff65252bfd8"
      },
      "execution_count": 103,
      "outputs": [
        {
          "output_type": "stream",
          "name": "stdout",
          "text": [
            "Número de pasajeros por intervalo de clase: \n",
            " Intervalo_Clase\n",
            "(0.0, 102.466]        823\n",
            "(102.466, 204.932]     33\n",
            "(204.932, 307.398]     17\n",
            "(307.398, 409.863]      0\n",
            "(409.863, 512.329]      3\n",
            "Name: count, dtype: int64\n",
            "\n",
            "\n",
            "Número de pasajeros por intervalo de clase: \n",
            " Intervalo_Clase\n",
            "(0.0, 102.466]        0.37\n",
            "(102.466, 204.932]    0.76\n",
            "(204.932, 307.398]    0.65\n",
            "(307.398, 409.863]     NaN\n",
            "(409.863, 512.329]    1.00\n",
            "Name: Survived, dtype: float64\n"
          ]
        },
        {
          "output_type": "stream",
          "name": "stderr",
          "text": [
            "/tmp/ipython-input-2336437740.py:6: FutureWarning: The default of observed=False is deprecated and will be changed to True in a future version of pandas. Pass observed=False to retain current behavior or observed=True to adopt the future default and silence this warning.\n",
            "  ProporcionSpI = dataframe.groupby(\"Intervalo_Clase\")[\"Survived\"].mean()\n"
          ]
        }
      ]
    }
  ]
}