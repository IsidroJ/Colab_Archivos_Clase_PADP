{
  "nbformat": 4,
  "nbformat_minor": 0,
  "metadata": {
    "colab": {
      "provenance": [],
      "mount_file_id": "1KCspGu800Gifkst0Y_gMwQvtVw79ABgD",
      "authorship_tag": "ABX9TyN7zXG8Qn/fGnXiRDZOK4wk",
      "include_colab_link": true
    },
    "kernelspec": {
      "name": "python3",
      "display_name": "Python 3"
    },
    "language_info": {
      "name": "python"
    }
  },
  "cells": [
    {
      "cell_type": "markdown",
      "metadata": {
        "id": "view-in-github",
        "colab_type": "text"
      },
      "source": [
        "<a href=\"https://colab.research.google.com/github/IsidroJ/Colab_Archivos_Clase_PADP/blob/main/Pr%C3%A1ctica_14_Limpieza_y_Transformaci%C3%B3n_de_Datos_Categ%C3%B3ricos_IJGH.ipynb\" target=\"_parent\"><img src=\"https://colab.research.google.com/assets/colab-badge.svg\" alt=\"Open In Colab\"/></a>"
      ]
    },
    {
      "cell_type": "markdown",
      "source": [
        "# **Ejercicio 01: Errores Tipográficos y Valores Inconsistentes: maritalstatus**\n",
        "\n",
        "1. Imprime de la columna 'maritalstatus' los valores únicos.\n",
        "2. Imprime la frecuencia de cada valor único\n",
        "3. Cambia el valor 'Never-Married' a 'Single'\n",
        "4. Imprime la frecuencia de cada valor único."
      ],
      "metadata": {
        "id": "_3idlN7EDUEd"
      }
    },
    {
      "cell_type": "code",
      "execution_count": 109,
      "metadata": {
        "colab": {
          "base_uri": "https://localhost:8080/"
        },
        "id": "rYfvPhugDTIQ",
        "outputId": "98ddb45e-cdf2-4c2f-9642-140ee57231f8",
        "collapsed": true
      },
      "outputs": [
        {
          "output_type": "stream",
          "name": "stdout",
          "text": [
            "          gender  birthmonth  birthyear  highestgradecompleted  maritalstatus  \\\n",
            "personid                                                                        \n",
            "100061    Female           5       1980                   13.0        Married   \n",
            "100139      Male           9       1983                   12.0        Married   \n",
            "100284      Male          11       1984                    7.0  Never-married   \n",
            "100292      Male           4       1982                    NaN            NaN   \n",
            "100583      Male           1       1980                   13.0        Married   \n",
            "...          ...         ...        ...                    ...            ...   \n",
            "999291    Female           4       1981                   16.0        Married   \n",
            "999406      Male           7       1982                   14.0  Never-married   \n",
            "999543    Female           8       1984                   12.0       Divorced   \n",
            "999698    Female           5       1983                   12.0  Never-married   \n",
            "999963    Female           9       1982                   17.0        Married   \n",
            "\n",
            "          childathome  childnotathome  wageincome        weeklyhrscomputer  \\\n",
            "personid                                                                     \n",
            "100061            4.0             0.0     12500.0  10 hours or more a week   \n",
            "100139            2.0             0.0    120000.0      1 to 3 hours a week   \n",
            "100284            1.0             0.0     58000.0                      NaN   \n",
            "100292            NaN             NaN         NaN                      NaN   \n",
            "100583            4.0             0.0     30000.0  Less than 1 hour a week   \n",
            "...               ...             ...         ...                      ...   \n",
            "999291            NaN             NaN     35000.0      7 to 9 hours a week   \n",
            "999406            NaN             NaN    116000.0      4 to 6 hours a week   \n",
            "999543            2.0             0.0         NaN                      NaN   \n",
            "999698            5.0             0.0         NaN      4 to 6 hours a week   \n",
            "999963            2.0             0.0     50000.0      4 to 6 hours a week   \n",
            "\n",
            "                         weeklyhrstv  ...      colenrfeb13      colenroct13  \\\n",
            "personid                              ...                                     \n",
            "100061         11 to 20 hours a week  ...  1. Not enrolled  1. Not enrolled   \n",
            "100139          3 to 10 hours a week  ...  1. Not enrolled  1. Not enrolled   \n",
            "100284         11 to 20 hours a week  ...  1. Not enrolled  1. Not enrolled   \n",
            "100292                           NaN  ...  1. Not enrolled  1. Not enrolled   \n",
            "100583          3 to 10 hours a week  ...  1. Not enrolled  1. Not enrolled   \n",
            "...                              ...  ...              ...              ...   \n",
            "999291    Less than 2 hours per week  ...  1. Not enrolled  1. Not enrolled   \n",
            "999406          3 to 10 hours a week  ...  1. Not enrolled  1. Not enrolled   \n",
            "999543          3 to 10 hours a week  ...  1. Not enrolled  1. Not enrolled   \n",
            "999698     More than 40 hours a week  ...  1. Not enrolled  1. Not enrolled   \n",
            "999963          3 to 10 hours a week  ...  1. Not enrolled  1. Not enrolled   \n",
            "\n",
            "              colenrfeb14      colenroct14      colenrfeb15      colenroct15  \\\n",
            "personid                                                                       \n",
            "100061    1. Not enrolled  1. Not enrolled  1. Not enrolled  1. Not enrolled   \n",
            "100139    1. Not enrolled  1. Not enrolled  1. Not enrolled  1. Not enrolled   \n",
            "100284    1. Not enrolled  1. Not enrolled  1. Not enrolled  1. Not enrolled   \n",
            "100292    1. Not enrolled  1. Not enrolled  1. Not enrolled  1. Not enrolled   \n",
            "100583    1. Not enrolled  1. Not enrolled  1. Not enrolled  1. Not enrolled   \n",
            "...                   ...              ...              ...              ...   \n",
            "999291    1. Not enrolled  1. Not enrolled  1. Not enrolled  1. Not enrolled   \n",
            "999406    1. Not enrolled  1. Not enrolled  1. Not enrolled  1. Not enrolled   \n",
            "999543    1. Not enrolled  1. Not enrolled  1. Not enrolled  1. Not enrolled   \n",
            "999698    1. Not enrolled  1. Not enrolled  1. Not enrolled  1. Not enrolled   \n",
            "999963    1. Not enrolled  1. Not enrolled  1. Not enrolled  1. Not enrolled   \n",
            "\n",
            "              colenrfeb16      colenroct16      colenrfeb17      colenroct17  \n",
            "personid                                                                      \n",
            "100061    1. Not enrolled  1. Not enrolled  1. Not enrolled  1. Not enrolled  \n",
            "100139    1. Not enrolled  1. Not enrolled  1. Not enrolled  1. Not enrolled  \n",
            "100284    1. Not enrolled  1. Not enrolled  1. Not enrolled  1. Not enrolled  \n",
            "100292                NaN              NaN              NaN              NaN  \n",
            "100583    1. Not enrolled  1. Not enrolled  1. Not enrolled  1. Not enrolled  \n",
            "...                   ...              ...              ...              ...  \n",
            "999291    1. Not enrolled  1. Not enrolled  1. Not enrolled  1. Not enrolled  \n",
            "999406    1. Not enrolled  1. Not enrolled  1. Not enrolled  1. Not enrolled  \n",
            "999543    1. Not enrolled  1. Not enrolled  1. Not enrolled  1. Not enrolled  \n",
            "999698    1. Not enrolled  1. Not enrolled  1. Not enrolled  1. Not enrolled  \n",
            "999963    1. Not enrolled  1. Not enrolled  1. Not enrolled  1. Not enrolled  \n",
            "\n",
            "[8984 rows x 88 columns]\n"
          ]
        }
      ],
      "source": [
        "import pandas as pd\n",
        "\n",
        "#Leer el CSV\n",
        "df = pd.read_csv('/content/drive/MyDrive/1_ClassFiles/10_Clase 05-09-2025/Tarea/nls97.csv',index_col=0)\n",
        "\n",
        "print(df)"
      ]
    },
    {
      "cell_type": "markdown",
      "source": [
        "**1. Imprime de la columna 'maritalstatus' los valores únicos.**"
      ],
      "metadata": {
        "id": "VWBZ6rQXFObW"
      }
    },
    {
      "cell_type": "code",
      "source": [
        "#Imprimimos los valores únicos\n",
        "print('------------------------------------------------------------------------------')\n",
        "print('\\033[1m Valores únicos de la columna \"maritalstatus\" \\033[0m')\n",
        "print('------------------------------------------------------------------------------')\n",
        "print(df['maritalstatus'].unique())\n"
      ],
      "metadata": {
        "colab": {
          "base_uri": "https://localhost:8080/"
        },
        "id": "rgN1TBNZFERR",
        "outputId": "f1874d98-64e6-440a-e3f3-e6bccadf1610"
      },
      "execution_count": 134,
      "outputs": [
        {
          "output_type": "stream",
          "name": "stdout",
          "text": [
            "------------------------------------------------------------------------------\n",
            "\u001b[1m Valores únicos de la columna \"maritalstatus\" \u001b[0m\n",
            "------------------------------------------------------------------------------\n",
            "['Married' 'Single' nan 'Divorced' 'Separated' 'Widowed']\n"
          ]
        }
      ]
    },
    {
      "cell_type": "markdown",
      "source": [
        "**2. Imprime la frecuencia de cada valor único**"
      ],
      "metadata": {
        "id": "wqHwKn4dFiRj"
      }
    },
    {
      "cell_type": "code",
      "source": [
        "#Feecuencia de los valores únicos\n",
        "print('------------------------------------------------------------------------------')\n",
        "print('\\033[1m Frecuencia de los valores únicos de la columna \"maritalstatus\" \\033[0m')\n",
        "print('------------------------------------------------------------------------------')\n",
        "print(df['maritalstatus'].value_counts())"
      ],
      "metadata": {
        "colab": {
          "base_uri": "https://localhost:8080/"
        },
        "id": "kymXzw8aFnIL",
        "outputId": "c2d615c0-b01f-423b-9305-3a98169135f4"
      },
      "execution_count": 111,
      "outputs": [
        {
          "output_type": "stream",
          "name": "stdout",
          "text": [
            "------------------------------------------------------------------------------\n",
            "\u001b[1m Frecuencia de los valores únicos de la columna \"maritalstatus\" \u001b[0m\n",
            "------------------------------------------------------------------------------\n",
            "maritalstatus\n",
            "Married          3066\n",
            "Never-married    2766\n",
            "Divorced          663\n",
            "Separated         154\n",
            "Widowed            23\n",
            "Name: count, dtype: int64\n"
          ]
        }
      ]
    },
    {
      "cell_type": "markdown",
      "source": [
        "**3. Cambia el valor 'Never-Married' a 'Single'**"
      ],
      "metadata": {
        "id": "AgElGdfSGIF_"
      }
    },
    {
      "cell_type": "code",
      "source": [
        "#Cambiar el valor 'Never-Married' a 'Single'\n",
        "#df = pd.read_csv('/content/drive/MyDrive/1_ClassFiles/10_Clase 05-09-2025/Tarea/nls97.csv',index_col=0)\n",
        "\n",
        "print('------------------------------------------------------------------------------')\n",
        "print('\\033[1m En la columna \"maritalstatus\" el valor de \"Never-Married\" se cambio por \"Single\" \\033[0m')\n",
        "print('------------------------------------------------------------------------------')\n",
        "df['maritalstatus'] = df['maritalstatus'].replace({'Never-married': 'Single'})\n",
        "\n",
        "print(df['maritalstatus'].unique())"
      ],
      "metadata": {
        "colab": {
          "base_uri": "https://localhost:8080/"
        },
        "id": "jjC6pIMZG2or",
        "outputId": "52bcd7cd-3480-46f3-ac90-b1b199d42400"
      },
      "execution_count": 112,
      "outputs": [
        {
          "output_type": "stream",
          "name": "stdout",
          "text": [
            "------------------------------------------------------------------------------\n",
            "\u001b[1m En la columna \"maritalstatus\" el valor de \"Never-Married\" se cambio por \"Single\" \u001b[0m\n",
            "------------------------------------------------------------------------------\n",
            "['Married' 'Single' nan 'Divorced' 'Separated' 'Widowed']\n"
          ]
        }
      ]
    },
    {
      "cell_type": "markdown",
      "source": [
        "**4. Imprime la frecuencia de cada valor único.**"
      ],
      "metadata": {
        "id": "OlHxtcLEcIx-"
      }
    },
    {
      "cell_type": "code",
      "source": [
        "#Feecuencia de los valores únicos después del cambio\n",
        "print('------------------------------------------------------------------------------')\n",
        "print('\\033[1m Frecuencia de los valores únicos de la columna \"maritalstatus\" después del cambio \\033[0m')\n",
        "print('------------------------------------------------------------------------------')\n",
        "print(df['maritalstatus'].value_counts())"
      ],
      "metadata": {
        "colab": {
          "base_uri": "https://localhost:8080/"
        },
        "id": "tbvH0z46cLEy",
        "outputId": "e9e0804e-225e-4646-fe85-1a03098f9ea9"
      },
      "execution_count": 113,
      "outputs": [
        {
          "output_type": "stream",
          "name": "stdout",
          "text": [
            "------------------------------------------------------------------------------\n",
            "\u001b[1m Frecuencia de los valores únicos de la columna \"maritalstatus\" después del cambio \u001b[0m\n",
            "------------------------------------------------------------------------------\n",
            "maritalstatus\n",
            "Married      3066\n",
            "Single       2766\n",
            "Divorced      663\n",
            "Separated     154\n",
            "Widowed        23\n",
            "Name: count, dtype: int64\n"
          ]
        }
      ]
    },
    {
      "cell_type": "markdown",
      "source": [
        "# **Ejercicio 02: Errores Tipográficos y Valores Inconsistentes: highestdegree.**\n",
        "\n",
        "1. Imprime de la columna 'highestdegrees' los valores únicos.\n",
        "2. Imprime la frecuencia de cada valor único\n",
        "3. Observa que cada valor categórico empieza con 0. Modifica las categorías para que todas estén en minúsculas y ninguna empiece con un número. Por ejemplo, si dice \"2. High School\", debería ser 'high school.\n",
        "4. Los cambios se realizarán en la misma columna 'highestdegrees'.\n",
        "5. Imprime los nuevos valores únicos."
      ],
      "metadata": {
        "id": "tHKtMZtOdIVS"
      }
    },
    {
      "cell_type": "markdown",
      "source": [
        "**1. Imprime de la columna 'highestdegrees' los valores únicos.**"
      ],
      "metadata": {
        "id": "NluLldArdidH"
      }
    },
    {
      "cell_type": "code",
      "source": [
        "print('------------------------------------------------------------------------------')\n",
        "print('\\033[1m Valores únicos de la columna \"highestdegrees\" \\033[0m')\n",
        "print('------------------------------------------------------------------------------')\n",
        "print(df['highestdegree'].unique())\n",
        "\n"
      ],
      "metadata": {
        "colab": {
          "base_uri": "https://localhost:8080/"
        },
        "id": "_1wrZxUtdrOT",
        "outputId": "b853fbe1-4940-4e0f-aabc-97a803a9952e"
      },
      "execution_count": 114,
      "outputs": [
        {
          "output_type": "stream",
          "name": "stdout",
          "text": [
            "------------------------------------------------------------------------------\n",
            "\u001b[1m Valores únicos de la columna \"highestdegrees\" \u001b[0m\n",
            "------------------------------------------------------------------------------\n",
            "['2. High School' '0. None' '4. Bachelors' '3. Associates' '5. Masters'\n",
            " '1. GED' '7. Professional' '6. PhD' nan]\n"
          ]
        }
      ]
    },
    {
      "cell_type": "markdown",
      "source": [
        "**2. Imprime la frecuencia de cada valor único**"
      ],
      "metadata": {
        "id": "H9Fk8PLGiEzb"
      }
    },
    {
      "cell_type": "code",
      "source": [
        "#Feecuencia de los valores únicos\n",
        "print('------------------------------------------------------------------------------')\n",
        "print('\\033[1m Frecuencia de los valores únicos de la columna \"highestdegree\" \\033[0m')\n",
        "print('------------------------------------------------------------------------------')\n",
        "print(df['highestdegree'].value_counts())"
      ],
      "metadata": {
        "colab": {
          "base_uri": "https://localhost:8080/"
        },
        "id": "5orbSOzPiHwE",
        "outputId": "0b325376-27bf-415b-be2e-691fac44e31c"
      },
      "execution_count": 115,
      "outputs": [
        {
          "output_type": "stream",
          "name": "stdout",
          "text": [
            "------------------------------------------------------------------------------\n",
            "\u001b[1m Frecuencia de los valores únicos de la columna \"highestdegree\" \u001b[0m\n",
            "------------------------------------------------------------------------------\n",
            "highestdegree\n",
            "2. High School     3667\n",
            "4. Bachelors       1673\n",
            "1. GED             1146\n",
            "0. None             953\n",
            "3. Associates       737\n",
            "5. Masters          603\n",
            "7. Professional     120\n",
            "6. PhD               54\n",
            "Name: count, dtype: int64\n"
          ]
        }
      ]
    },
    {
      "cell_type": "markdown",
      "source": [
        "**3. Observa que cada valor categórico empieza con 0. Modifica las categorías para que todas estén en minúsculas y ninguna empiece con un número. Por ejemplo, si dice \"2. High School\", debería ser 'high school.**"
      ],
      "metadata": {
        "id": "AP_2HBhxiY66"
      }
    },
    {
      "cell_type": "code",
      "source": [
        "df['highestdegree'] = df['highestdegree'].str.lower().replace({\n",
        "    '0. None':'None',\n",
        "    '1. GED':'GED',\n",
        "    '2. High School':'High School',\n",
        "    '3. Associates':'Associates',\n",
        "    '4. Bachelors':'Bachelors',\n",
        "    '5. Masters':'Masters',\n",
        "    '6. PhD':'PhD',\n",
        "    '7. Professional':'Professional'})\n",
        "\n",
        "print(df['highestdegree'].unique())"
      ],
      "metadata": {
        "colab": {
          "base_uri": "https://localhost:8080/"
        },
        "id": "fsEchhxxiyUc",
        "outputId": "6045c1c6-9096-409d-b353-ff250e9a1b67"
      },
      "execution_count": 116,
      "outputs": [
        {
          "output_type": "stream",
          "name": "stdout",
          "text": [
            "['2. high school' '0. none' '4. bachelors' '3. associates' '5. masters'\n",
            " '1. ged' '7. professional' '6. phd' nan]\n"
          ]
        }
      ]
    },
    {
      "cell_type": "markdown",
      "source": [
        "**4. Los cambios se realizarán en la misma columna 'highestdegrees'.**"
      ],
      "metadata": {
        "id": "6ZJPxufVmXMy"
      }
    },
    {
      "cell_type": "code",
      "source": [
        "print('------------------------------------------------------------------------------')\n",
        "print('\\033[1m Los valores únicos de la columna \"highestdegree\" se cambiaron a minúscula y sin número  \\033[0m')\n",
        "print('------------------------------------------------------------------------------')\n",
        "for val in df['highestdegree'].unique():\n",
        "    print(val)"
      ],
      "metadata": {
        "colab": {
          "base_uri": "https://localhost:8080/"
        },
        "id": "nmfXXB8lme5U",
        "outputId": "2cbc7991-1d45-4e39-afa7-f167dcfbaae1"
      },
      "execution_count": 117,
      "outputs": [
        {
          "output_type": "stream",
          "name": "stdout",
          "text": [
            "------------------------------------------------------------------------------\n",
            "\u001b[1m Los valores únicos de la columna \"highestdegree\" se cambiaron a minúscula y sin número  \u001b[0m\n",
            "------------------------------------------------------------------------------\n",
            "2. high school\n",
            "0. none\n",
            "4. bachelors\n",
            "3. associates\n",
            "5. masters\n",
            "1. ged\n",
            "7. professional\n",
            "6. phd\n",
            "nan\n"
          ]
        }
      ]
    },
    {
      "cell_type": "markdown",
      "source": [
        "**5. Imprime los nuevos valores únicos.**"
      ],
      "metadata": {
        "id": "pFUAoX3omQEv"
      }
    },
    {
      "cell_type": "code",
      "source": [
        "#Imprimimos la frecuencia después de la correción\n",
        "print(df['highestdegree'].value_counts())"
      ],
      "metadata": {
        "colab": {
          "base_uri": "https://localhost:8080/"
        },
        "id": "3U1-rRa4mTIr",
        "outputId": "7d19aff5-b29a-479a-90ef-94fb77292bfc"
      },
      "execution_count": 118,
      "outputs": [
        {
          "output_type": "stream",
          "name": "stdout",
          "text": [
            "highestdegree\n",
            "2. high school     3667\n",
            "4. bachelors       1673\n",
            "1. ged             1146\n",
            "0. none             953\n",
            "3. associates       737\n",
            "5. masters          603\n",
            "7. professional     120\n",
            "6. phd               54\n",
            "Name: count, dtype: int64\n"
          ]
        }
      ]
    },
    {
      "cell_type": "markdown",
      "source": [
        "# **Ejercicio 03: Alta Cardinalidad - Frecuencias Bajas**\n",
        "\n",
        "1. De la columna 'maritalstatus' une las categorías Widowed y 'Single' en una categoría más general llamada 'Single/No Partner'. Crea una nueva columna, 'marital_grouped' donde aparezcan las nuevas categorías de maritalstatus.\n",
        "2. Imprime los valores únicos de la nueva columna 'marital_grouped'.\n",
        "3. Imprime la frecuencia de los valores únicos de la nueva columna 'marital_grouped'"
      ],
      "metadata": {
        "id": "Bnur2le4nsXi"
      }
    },
    {
      "cell_type": "markdown",
      "source": [
        "**1. De la columna 'maritalstatus' une las categorías Widowed y 'Single' en una categoría más general llamada 'Single/No Partner'. Crea una nueva columna, 'marital_grouped' donde aparezcan las nuevas categorías de maritalstatus.**"
      ],
      "metadata": {
        "id": "ttIfh8sioqSB"
      }
    },
    {
      "cell_type": "code",
      "source": [
        "print('------------------------------------------------------------------------------')\n",
        "print('\\033[1m Valores únicos de la columna \"maritalstatus\"  \\033[0m')\n",
        "print('------------------------------------------------------------------------------')\n",
        "\n",
        "print(df['maritalstatus'].unique())\n",
        "\n",
        "df['marital_grouped'] = df['maritalstatus'].replace({\n",
        "    'Single': 'Single/No Partner',\n",
        "    'Widowed': 'Single/No Partner'\n",
        "})\n"
      ],
      "metadata": {
        "colab": {
          "base_uri": "https://localhost:8080/"
        },
        "id": "TAmfpid7pym3",
        "outputId": "2749393d-290f-4ce6-b403-9c75e82cc388"
      },
      "execution_count": 127,
      "outputs": [
        {
          "output_type": "stream",
          "name": "stdout",
          "text": [
            "------------------------------------------------------------------------------\n",
            "\u001b[1m Valores únicos de la columna \"maritalstatus\"  \u001b[0m\n",
            "------------------------------------------------------------------------------\n",
            "['Married' 'Single' nan 'Divorced' 'Separated' 'Widowed']\n"
          ]
        }
      ]
    },
    {
      "cell_type": "markdown",
      "source": [
        "**2. Imprime los valores únicos de la nueva columna 'marital_grouped'.**"
      ],
      "metadata": {
        "id": "qDwW1gqauHCn"
      }
    },
    {
      "cell_type": "code",
      "source": [
        "print('------------------------------------------------------------------------------')\n",
        "print('\\033[1m Valores únicos en la nueva columna \"marital_grouped\"  \\033[0m')\n",
        "print('------------------------------------------------------------------------------')\n",
        "\n",
        "print(df['marital_grouped'].unique())"
      ],
      "metadata": {
        "colab": {
          "base_uri": "https://localhost:8080/"
        },
        "id": "WYtuD_UNuL7t",
        "outputId": "3a1e9465-4c20-4256-a171-20ed44627473"
      },
      "execution_count": 126,
      "outputs": [
        {
          "output_type": "stream",
          "name": "stdout",
          "text": [
            "------------------------------------------------------------------------------\n",
            "\u001b[1m Valores únicos en la nueva columna \"marital_grouped\"  \u001b[0m\n",
            "------------------------------------------------------------------------------\n",
            "['Married' 'Single/No Partner' nan 'Divorced' 'Separated']\n"
          ]
        }
      ]
    },
    {
      "cell_type": "markdown",
      "source": [
        "**3. Imprime la frecuencia de los valores únicos de la nueva columna 'marital_grouped'**"
      ],
      "metadata": {
        "id": "cOaLHyrGugQ4"
      }
    },
    {
      "cell_type": "code",
      "source": [
        "print('------------------------------------------------------------------------------')\n",
        "print('\\033[1m Frecuencia de los valores únicos de la nueva columna \"marital_grouped\"  \\033[0m')\n",
        "print('------------------------------------------------------------------------------')\n",
        "print(df['marital_grouped'].value_counts())"
      ],
      "metadata": {
        "colab": {
          "base_uri": "https://localhost:8080/"
        },
        "id": "ZdSdJ1wdtkAH",
        "outputId": "4c0b8b67-9282-4094-f248-dbecf853496f"
      },
      "execution_count": 128,
      "outputs": [
        {
          "output_type": "stream",
          "name": "stdout",
          "text": [
            "------------------------------------------------------------------------------\n",
            "\u001b[1m Frecuencia de los valores únicos de la nueva columna \"marital_grouped\"  \u001b[0m\n",
            "------------------------------------------------------------------------------\n",
            "marital_grouped\n",
            "Married              3066\n",
            "Single/No Partner    2789\n",
            "Divorced              663\n",
            "Separated             154\n",
            "Name: count, dtype: int64\n"
          ]
        }
      ]
    },
    {
      "cell_type": "markdown",
      "source": [
        "**Ejercicio 04: Tipos de Datos**\n",
        "\n",
        "1. Imprime el tipo de datos de la columna gender\n",
        "2. Imprime la cantidad de bytes de dicha columna\n",
        "3. Si la columna es de tipo object, modifica a category.\n",
        "4. En caso de haber realizado la modificación del tipo de datos, imprime la cantidad de bytes que ocupa dicha columna con el nuevo tipo de datos"
      ],
      "metadata": {
        "id": "vmq57qU_u8-i"
      }
    },
    {
      "cell_type": "markdown",
      "source": [
        "**1. Imprime el tipo de datos de la columna gender**"
      ],
      "metadata": {
        "id": "mIwbkV8IvUHb"
      }
    },
    {
      "cell_type": "code",
      "source": [
        "print('------------------------------------------------------------------------------')\n",
        "print('\\033[1m Tipo de datos de la columna \"gender\"  \\033[0m')\n",
        "print('------------------------------------------------------------------------------')\n",
        "print(df['gender'].dtype)"
      ],
      "metadata": {
        "colab": {
          "base_uri": "https://localhost:8080/"
        },
        "id": "O_n9pqx-vGdO",
        "outputId": "3d8855d3-7a16-4892-8316-809e893bb81c"
      },
      "execution_count": 129,
      "outputs": [
        {
          "output_type": "stream",
          "name": "stdout",
          "text": [
            "------------------------------------------------------------------------------\n",
            "\u001b[1m Tipo de datos de la columna \"gender\"  \u001b[0m\n",
            "------------------------------------------------------------------------------\n",
            "object\n"
          ]
        }
      ]
    },
    {
      "cell_type": "markdown",
      "source": [
        "**2. Imprime la cantidad de bytes de dicha columna**"
      ],
      "metadata": {
        "id": "ctSc5pfhv2oB"
      }
    },
    {
      "cell_type": "code",
      "source": [
        "print('------------------------------------------------------------------------------')\n",
        "print('\\033[1m Cantidad de memoria en bytes para la columna \"gender\"  \\033[0m')\n",
        "print('------------------------------------------------------------------------------')\n",
        "print(df[['gender']].memory_usage(deep=True))"
      ],
      "metadata": {
        "colab": {
          "base_uri": "https://localhost:8080/"
        },
        "id": "imZDDeT8v5Fs",
        "outputId": "591929db-c953-46e3-8f15-57c41307044a"
      },
      "execution_count": 132,
      "outputs": [
        {
          "output_type": "stream",
          "name": "stdout",
          "text": [
            "------------------------------------------------------------------------------\n",
            "\u001b[1m Cantidad de memoria en bytes para la columna \"gender\"  \u001b[0m\n",
            "------------------------------------------------------------------------------\n",
            "Index      71872\n",
            "gender    484922\n",
            "dtype: int64\n"
          ]
        }
      ]
    },
    {
      "cell_type": "markdown",
      "source": [
        "**3. Si la columna es de tipo object, modifica a category.**"
      ],
      "metadata": {
        "id": "w7Kr3XtIxGDw"
      }
    },
    {
      "cell_type": "code",
      "source": [
        "print('------------------------------------------------------------------------------')\n",
        "print('\\033[1m Cambiar el tipo de dato de la columna \"gender\" de object a category  \\033[0m')\n",
        "print('------------------------------------------------------------------------------')\n",
        "df[\"gender\"] = df[\"gender\"].astype(\"category\")\n",
        "print(df['gender'].dtype)"
      ],
      "metadata": {
        "colab": {
          "base_uri": "https://localhost:8080/"
        },
        "id": "olSgCiFOxIiZ",
        "outputId": "1c5fc7ec-e2de-40f4-850d-3dea7133ede6"
      },
      "execution_count": 135,
      "outputs": [
        {
          "output_type": "stream",
          "name": "stdout",
          "text": [
            "------------------------------------------------------------------------------\n",
            "\u001b[1m Cambiar el tipo de dato de la columna \"gender\" de object a category  \u001b[0m\n",
            "------------------------------------------------------------------------------\n",
            "category\n"
          ]
        }
      ]
    },
    {
      "cell_type": "markdown",
      "source": [
        "**4. En caso de haber realizado la modificación del tipo de datos, imprime la cantidad de bytes que ocupa dicha columna con el nuevo tipo de datos**"
      ],
      "metadata": {
        "id": "l170-P0DyMEm"
      }
    },
    {
      "cell_type": "code",
      "source": [
        "print('------------------------------------------------------------------------------')\n",
        "print('\\033[1m Nueva cantidad de memoria en bytes para la columna \"gender\"  \\033[0m')\n",
        "print('------------------------------------------------------------------------------')\n",
        "print(df[['gender']].memory_usage(deep=True))"
      ],
      "metadata": {
        "colab": {
          "base_uri": "https://localhost:8080/"
        },
        "id": "aopgvarryPzN",
        "outputId": "33af229f-2cfd-4936-97d7-8ffed4e34198"
      },
      "execution_count": 136,
      "outputs": [
        {
          "output_type": "stream",
          "name": "stdout",
          "text": [
            "------------------------------------------------------------------------------\n",
            "\u001b[1m Nueva cantidad de memoria en bytes para la columna \"gender\"  \u001b[0m\n",
            "------------------------------------------------------------------------------\n",
            "Index     71872\n",
            "gender     9200\n",
            "dtype: int64\n"
          ]
        }
      ]
    }
  ]
}