{
  "nbformat": 4,
  "nbformat_minor": 0,
  "metadata": {
    "colab": {
      "provenance": [],
      "toc_visible": true,
      "authorship_tag": "ABX9TyOeWWibXYwFJ/pUkT0gA/L4",
      "include_colab_link": true
    },
    "kernelspec": {
      "name": "python3",
      "display_name": "Python 3"
    },
    "language_info": {
      "name": "python"
    }
  },
  "cells": [
    {
      "cell_type": "markdown",
      "metadata": {
        "id": "view-in-github",
        "colab_type": "text"
      },
      "source": [
        "<a href=\"https://colab.research.google.com/github/IsidroJ/Colab_Archivos_Clase_PADP1/blob/main/1_Calse_PADyP_.ipynb\" target=\"_parent\"><img src=\"https://colab.research.google.com/assets/colab-badge.svg\" alt=\"Open In Colab\"/></a>"
      ]
    },
    {
      "cell_type": "markdown",
      "source": [
        "# **Ejemplo de conexión de Google Drive a Google Colab**"
      ],
      "metadata": {
        "id": "mwOfWjS831vc"
      }
    },
    {
      "cell_type": "code",
      "source": [
        "print('Hola que tal')"
      ],
      "metadata": {
        "colab": {
          "base_uri": "https://localhost:8080/"
        },
        "id": "whCCH8Z94R1P",
        "outputId": "0fa64e18-c923-4c69-fa6a-4a27568e668b"
      },
      "execution_count": null,
      "outputs": [
        {
          "output_type": "stream",
          "name": "stdout",
          "text": [
            "Hola que tal\n"
          ]
        }
      ]
    }
  ]
}