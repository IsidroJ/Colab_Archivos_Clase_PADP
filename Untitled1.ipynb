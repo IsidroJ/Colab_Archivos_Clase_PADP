{
  "nbformat": 4,
  "nbformat_minor": 0,
  "metadata": {
    "colab": {
      "provenance": [],
      "mount_file_id": "1LtYuHMZb5ak_47-05ozgvUNDLnIrbJS_",
      "authorship_tag": "ABX9TyMvzinO060eLZTo/Bjagmz8",
      "include_colab_link": true
    },
    "kernelspec": {
      "name": "python3",
      "display_name": "Python 3"
    },
    "language_info": {
      "name": "python"
    }
  },
  "cells": [
    {
      "cell_type": "markdown",
      "metadata": {
        "id": "view-in-github",
        "colab_type": "text"
      },
      "source": [
        "<a href=\"https://colab.research.google.com/github/IsidroJ/Colab_Archivos_Clase_PADP/blob/main/Untitled1.ipynb\" target=\"_parent\"><img src=\"https://colab.research.google.com/assets/colab-badge.svg\" alt=\"Open In Colab\"/></a>"
      ]
    },
    {
      "cell_type": "markdown",
      "source": [
        "**Práctica 15: Normalización de los nombres de la columna.**\n",
        "\n",
        "1. Normaliza los nombres de ls columnas, los cuales deberán estar en minúsculas. Asimismo, reemplaza los espacios con guion bajo\n",
        "2. Imprime los nombres de las columnas para demostrar que has realizado la normalización."
      ],
      "metadata": {
        "id": "3FimnONQ_sGS"
      }
    },
    {
      "cell_type": "code",
      "source": [
        "import numpy as np\n",
        "import pandas as pd\n",
        "import seaborn as sns\n",
        "import matplotlib.pyplot as plt\n",
        "import seaborn as sns"
      ],
      "metadata": {
        "id": "TuxRwQgrEMTD"
      },
      "execution_count": 2,
      "outputs": []
    },
    {
      "cell_type": "code",
      "execution_count": 15,
      "metadata": {
        "colab": {
          "base_uri": "https://localhost:8080/"
        },
        "id": "v0hUj_3W_owy",
        "outputId": "56855634-bd81-4945-9112-84fc16f5991a"
      },
      "outputs": [
        {
          "output_type": "stream",
          "name": "stdout",
          "text": [
            "------------------------------------------------------------------------------\n",
            "\u001b[1m Los datos originales del Dataframe son:\u001b[0m\n",
            "------------------------------------------------------------------------------\n",
            "                                     Unnamed: 0  BOROUGH   NEIGHBORHOOD  \\\n",
            "0                                             4      1.0  ALPHABET CITY   \n",
            "1                                             5      1.0  ALPHABET CITY   \n",
            "2                                             6      1.0  ALPHABET CITY   \n",
            "3                                             7      1.0  ALPHABET CITY   \n",
            "4                                             8      1.0  ALPHABET CITY   \n",
            "...                                         ...      ...            ...   \n",
            "84544                                      8410      5.0        WOODROW   \n",
            "84545                                      8411      5.0        WOODROW   \n",
            "84546                                      8412      5.0        WOODROW   \n",
            "84547                                      8413      5.0        WOODROW   \n",
            "84548  Esta es una línea que no deberías cargar      NaN            NaN   \n",
            "\n",
            "                           BUILDING CLASS CATEGORY TAX CLASS AT PRESENT  \\\n",
            "0      07 RENTALS - WALKUP APARTMENTS                                2A   \n",
            "1      07 RENTALS - WALKUP APARTMENTS                                 2   \n",
            "2      07 RENTALS - WALKUP APARTMENTS                                 2   \n",
            "3      07 RENTALS - WALKUP APARTMENTS                                2B   \n",
            "4      07 RENTALS - WALKUP APARTMENTS                                2A   \n",
            "...                                            ...                  ...   \n",
            "84544  02 TWO FAMILY DWELLINGS                                        1   \n",
            "84545  02 TWO FAMILY DWELLINGS                                        1   \n",
            "84546  22 STORE BUILDINGS                                             4   \n",
            "84547  35 INDOOR PUBLIC AND CULTURAL FACILITIES                       4   \n",
            "84548                                          NaN                  NaN   \n",
            "\n",
            "        BLOCK    LOT EASE-MENT BUILDING CLASS AT PRESENT  \\\n",
            "0       392.0    6.0                                  C2   \n",
            "1       399.0   26.0                                  C7   \n",
            "2       399.0   39.0                                  C7   \n",
            "3       402.0   21.0                                  C4   \n",
            "4       404.0   55.0                                  C2   \n",
            "...       ...    ...       ...                       ...   \n",
            "84544  7349.0   78.0                                  B9   \n",
            "84545  7351.0   60.0                                  B2   \n",
            "84546  7100.0   28.0                                  K6   \n",
            "84547  7105.0  679.0                                  P9   \n",
            "84548     NaN    NaN       NaN                       NaN   \n",
            "\n",
            "                      ADDRESS  ... RESIDENTIAL UNITS  COMMERCIAL UNITS  \\\n",
            "0                153 AVENUE B  ...               5.0               0.0   \n",
            "1       234 EAST 4TH   STREET  ...              28.0               3.0   \n",
            "2       197 EAST 3RD   STREET  ...              16.0               1.0   \n",
            "3         154 EAST 7TH STREET  ...              10.0               0.0   \n",
            "4      301 EAST 10TH   STREET  ...               6.0               0.0   \n",
            "...                       ...  ...               ...               ...   \n",
            "84544        32 PHEASANT LANE  ...               2.0               0.0   \n",
            "84545        49 PITNEY AVENUE  ...               2.0               0.0   \n",
            "84546   2730 ARTHUR KILL ROAD  ...               0.0               7.0   \n",
            "84547       155 CLAY PIT ROAD  ...               0.0               1.0   \n",
            "84548                     NaN  ...               NaN               NaN   \n",
            "\n",
            "       TOTAL UNITS  LAND SQUARE FEET  GROSS SQUARE FEET YEAR BUILT  \\\n",
            "0              5.0              1633               6440     1900.0   \n",
            "1             31.0              4616              18690     1900.0   \n",
            "2             17.0              2212               7803     1900.0   \n",
            "3             10.0              2272               6794     1913.0   \n",
            "4              6.0              2369               4615     1900.0   \n",
            "...            ...               ...                ...        ...   \n",
            "84544          2.0              2498               2377     1998.0   \n",
            "84545          2.0              4000               1496     1925.0   \n",
            "84546          7.0            208033              64117     2001.0   \n",
            "84547          1.0             10796               2400     2006.0   \n",
            "84548          NaN               NaN                NaN        NaN   \n",
            "\n",
            "      TAX CLASS AT TIME OF SALE  BUILDING CLASS AT TIME OF SALE  SALE PRICE  \\\n",
            "0                           2.0                              C2     6625000   \n",
            "1                           2.0                              C7         -     \n",
            "2                           2.0                              C7         -     \n",
            "3                           2.0                              C4     3936272   \n",
            "4                           2.0                              C2     8000000   \n",
            "...                         ...                             ...         ...   \n",
            "84544                       1.0                              B9      550000   \n",
            "84545                       1.0                              B2      460000   \n",
            "84546                       4.0                              K6    11693337   \n",
            "84547                       4.0                              P9       69300   \n",
            "84548                       NaN                             NaN         NaN   \n",
            "\n",
            "                 SALE DATE  \n",
            "0      2017-07-19 00:00:00  \n",
            "1      2016-12-14 00:00:00  \n",
            "2      2016-12-09 00:00:00  \n",
            "3      2016-09-23 00:00:00  \n",
            "4      2016-11-17 00:00:00  \n",
            "...                    ...  \n",
            "84544  2017-04-21 00:00:00  \n",
            "84545  2017-07-05 00:00:00  \n",
            "84546  2016-12-21 00:00:00  \n",
            "84547  2016-10-27 00:00:00  \n",
            "84548                  NaN  \n",
            "\n",
            "[84549 rows x 22 columns]\n",
            "\n",
            "\n",
            "------------------------------------------------------------------------------\n",
            "\u001b[1m Nombre de las columnas después del cambio: \u001b[0m\n",
            "------------------------------------------------------------------------------\n",
            "            Nombre de las columnas\n",
            "0                      INDEX MIIAD\n",
            "1                          BOROUGH\n",
            "2                     NEIGHBORHOOD\n",
            "3          BUILDING CLASS CATEGORY\n",
            "4             TAX CLASS AT PRESENT\n",
            "5                            BLOCK\n",
            "6                              LOT\n",
            "7                        EASE-MENT\n",
            "8        BUILDING CLASS AT PRESENT\n",
            "9                          ADDRESS\n",
            "10                APARTMENT NUMBER\n",
            "11                        ZIP CODE\n",
            "12               RESIDENTIAL UNITS\n",
            "13                COMMERCIAL UNITS\n",
            "14                     TOTAL UNITS\n",
            "15                LAND SQUARE FEET\n",
            "16               GROSS SQUARE FEET\n",
            "17                      YEAR BUILT\n",
            "18       TAX CLASS AT TIME OF SALE\n",
            "19  BUILDING CLASS AT TIME OF SALE\n",
            "20                      SALE PRICE\n",
            "21                       SALE DATE\n"
          ]
        }
      ],
      "source": [
        "df = pd.read_csv('/content/drive/MyDrive/1_ClassFiles/8_Clase 29-08-2025/Practicas-Tarea/miaad-nyc-r-s.csv',\n",
        "                 dtype={0: str}, encoding='utf-8', low_memory=False)\n",
        "\n",
        "print('------------------------------------------------------------------------------')\n",
        "print('\\033[1m Los datos originales del Dataframe son:\\033[0m')\n",
        "print('------------------------------------------------------------------------------')\n",
        "print(df)\n",
        "\n",
        "print('\\n')\n",
        "\n",
        "print('------------------------------------------------------------------------------')\n",
        "print('\\033[1m Nombre de las columnas después del cambio: \\033[0m')\n",
        "print('------------------------------------------------------------------------------')\n",
        "\n",
        "nueva_columna = df.columns.tolist()\n",
        "nueva_columna[0] = \"INDEX MIIAD\"\n",
        "df.columns = nueva_columna\n",
        "dfNuvNomCol = pd.DataFrame({\"Nombre de las columnas\": df.columns})\n",
        "print(dfNuvNomCol)"
      ]
    },
    {
      "cell_type": "code",
      "source": [
        "print(\"-----------------------------------------------------------------------------------------------\")\n",
        "print(\"\\033[1m Modificación de las columnas: nombre en minúscula reemplazando espacios con guión bajo \\033[0m\")\n",
        "print(\"-----------------------------------------------------------------------------------------------\")\n",
        "\n",
        "df.columns = df.columns.str.lower().str.replace(\" \", \"_\")\n",
        "\n",
        "dfNomCol = pd.DataFrame({\"Nombre de las columnas\": df.columns})\n",
        "\n",
        "print(\"------------------------------------------------------------------------------\")\n",
        "print(\"\\033[1m Normalización de las columnas \\033[0m\")\n",
        "print(\"------------------------------------------------------------------------------\")\n",
        "print(dfNomCol)"
      ],
      "metadata": {
        "colab": {
          "base_uri": "https://localhost:8080/"
        },
        "id": "MOg8nBOJGDHv",
        "outputId": "86d5191d-d2eb-48fd-badc-c50849d303d1"
      },
      "execution_count": 18,
      "outputs": [
        {
          "output_type": "stream",
          "name": "stdout",
          "text": [
            "-----------------------------------------------------------------------------------------------\n",
            "\u001b[1m Modificación de las columnas: nombre en minúscula reemplazando espacios con guión bajo \u001b[0m\n",
            "-----------------------------------------------------------------------------------------------\n",
            "------------------------------------------------------------------------------\n",
            "\u001b[1m Normalización de las columnas \u001b[0m\n",
            "------------------------------------------------------------------------------\n",
            "            Nombre de las columnas\n",
            "0                      index_miiad\n",
            "1                          borough\n",
            "2                     neighborhood\n",
            "3          building_class_category\n",
            "4             tax_class_at_present\n",
            "5                            block\n",
            "6                              lot\n",
            "7                        ease-ment\n",
            "8        building_class_at_present\n",
            "9                          address\n",
            "10                apartment_number\n",
            "11                        zip_code\n",
            "12               residential_units\n",
            "13                commercial_units\n",
            "14                     total_units\n",
            "15                land_square_feet\n",
            "16               gross_square_feet\n",
            "17                      year_built\n",
            "18       tax_class_at_time_of_sale\n",
            "19  building_class_at_time_of_sale\n",
            "20                      sale_price\n",
            "21                       sale_date\n"
          ]
        }
      ]
    }
  ]
}