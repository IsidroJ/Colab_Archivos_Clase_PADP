{
  "nbformat": 4,
  "nbformat_minor": 0,
  "metadata": {
    "colab": {
      "provenance": [],
      "mount_file_id": "1zKPBlskGY5Wc999L0W_D9c35xUulqdLt",
      "authorship_tag": "ABX9TyMcSVYSXHtkJtGacq+9A9eb",
      "include_colab_link": true
    },
    "kernelspec": {
      "name": "python3",
      "display_name": "Python 3"
    },
    "language_info": {
      "name": "python"
    }
  },
  "cells": [
    {
      "cell_type": "markdown",
      "metadata": {
        "id": "view-in-github",
        "colab_type": "text"
      },
      "source": [
        "<a href=\"https://colab.research.google.com/github/IsidroJ/Colab_Archivos_Clase_PADP/blob/main/Pr%C3%A1ctica_16_Errores_en_los_Tipos_de_Datos_IJGH.ipynb\" target=\"_parent\"><img src=\"https://colab.research.google.com/assets/colab-badge.svg\" alt=\"Open In Colab\"/></a>"
      ]
    },
    {
      "cell_type": "markdown",
      "source": [
        "**Práctica 16: Errores en los Tipos de Datos**\n",
        "\n",
        "1. Imprime los tipos de datos de cada columna.\n",
        "2. Asegúrate que las columnas de SALE PRICE(sale_price), LAND SQUARE FEET (land_square_feet), GROSS SQUARE FEET (gross_square_feet) sean de tipo flotante. Escribe qué tipo de dato tienen asignado. Si no son correctos, realiza el cambio.\n",
        "3. Imprime de nuevo los tipos de datos para demostrar que has arreglado el problema."
      ],
      "metadata": {
        "id": "Hzxo-58YKIaW"
      }
    },
    {
      "cell_type": "code",
      "execution_count": 17,
      "metadata": {
        "id": "B43wA9uBKBcO"
      },
      "outputs": [],
      "source": [
        "import numpy as np\n",
        "import pandas as pd\n",
        "import seaborn as sns\n",
        "import matplotlib.pyplot as plt\n",
        "import seaborn as sns"
      ]
    },
    {
      "cell_type": "code",
      "source": [
        "df = pd.read_csv('/content/drive/MyDrive/1_ClassFiles/8_Clase 29-08-2025/Practicas-Tarea/miaad-nyc-r-s.csv',\n",
        "                 dtype={0: str}, encoding='utf-8', low_memory=False)\n",
        "\n",
        "nueva_columna = df.columns.tolist()\n",
        "nueva_columna[0] = \"INDEX MIIAD\"\n",
        "df.columns = nueva_columna\n",
        "dfNuvNomCol = pd.DataFrame({\"Nombre de las columnas\": df.columns})\n",
        "#print(dfNuvNomCol)\n",
        "\n",
        "df.columns = df.columns.str.lower().str.replace(\" \", \"_\")\n",
        "\n",
        "dfNomCol = pd.DataFrame({\"Nombre de las columnas\": df.columns})\n",
        "\n"
      ],
      "metadata": {
        "id": "TNxfJCMwKlk-"
      },
      "execution_count": 22,
      "outputs": []
    },
    {
      "cell_type": "code",
      "source": [
        "print(\"------------------------------------------------------------------------------\")\n",
        "print(\"\\033[1m Tipos de datos de cada columna \\033[0m\")\n",
        "print(\"------------------------------------------------------------------------------\")\n",
        "print(df.dtypes)"
      ],
      "metadata": {
        "colab": {
          "base_uri": "https://localhost:8080/"
        },
        "id": "dsWrdQ-ZLozF",
        "outputId": "94a1b698-84bf-4d27-a810-3833bf7960d7"
      },
      "execution_count": 23,
      "outputs": [
        {
          "output_type": "stream",
          "name": "stdout",
          "text": [
            "------------------------------------------------------------------------------\n",
            "\u001b[1m Tipos de datos de cada columna \u001b[0m\n",
            "------------------------------------------------------------------------------\n",
            "index_miiad                        object\n",
            "borough                           float64\n",
            "neighborhood                       object\n",
            "building_class_category            object\n",
            "tax_class_at_present               object\n",
            "block                             float64\n",
            "lot                               float64\n",
            "ease-ment                          object\n",
            "building_class_at_present          object\n",
            "address                            object\n",
            "apartment_number                   object\n",
            "zip_code                          float64\n",
            "residential_units                 float64\n",
            "commercial_units                  float64\n",
            "total_units                       float64\n",
            "land_square_feet                   object\n",
            "gross_square_feet                  object\n",
            "year_built                        float64\n",
            "tax_class_at_time_of_sale         float64\n",
            "building_class_at_time_of_sale     object\n",
            "sale_price                         object\n",
            "sale_date                          object\n",
            "dtype: object\n"
          ]
        }
      ]
    },
    {
      "cell_type": "code",
      "source": [
        "print(\"-----------------------------------------------------------------------------------------------------------\")\n",
        "print(\"\\033[1m Tipos de datos asignados a las columnas sale_price, land_square_fee y gross_square_feet \\033[0m\")\n",
        "print(\"-----------------------------------------------------------------------------------------------------------\")\n",
        "\n",
        "# Imprimir el tipo de dato de cada columna solicitada\n",
        "print(\"sale_price:\", df[\"sale_price\"].dtype)\n",
        "print(\"land_square_feet:\", df[\"land_square_feet\"].dtype)\n",
        "print(\"gross_square_feet:\", df[\"gross_square_feet\"].dtype)"
      ],
      "metadata": {
        "colab": {
          "base_uri": "https://localhost:8080/"
        },
        "id": "DoQu70nUMo2U",
        "outputId": "e3592083-95ea-4d57-e780-3e3e767b6daf"
      },
      "execution_count": 24,
      "outputs": [
        {
          "output_type": "stream",
          "name": "stdout",
          "text": [
            "-----------------------------------------------------------------------------------------------------------\n",
            "\u001b[1m Tipos de datos asignados a las columnas sale_price, land_square_fee y gross_square_feet \u001b[0m\n",
            "-----------------------------------------------------------------------------------------------------------\n",
            "sale_price: object\n",
            "land_square_feet: object\n",
            "gross_square_feet: object\n"
          ]
        }
      ]
    },
    {
      "cell_type": "code",
      "source": [
        "print(\"--------------------------------------------------------------------------------------------------------------------------\")\n",
        "print(\"\\033[1m Convertir los datos de las columnas (sale_price, land_square_fee y gross_square_feeta float) a flotante \\033[0m\")\n",
        "print(\"--------------------------------------------------------------------------------------------------------------------------\")\n",
        "\n",
        "\n",
        "df[\"sale_price\"] = pd.to_numeric(df[\"sale_price\"], errors=\"coerce\")\n",
        "df[\"land_square_feet\"] = pd.to_numeric(df[\"land_square_feet\"], errors=\"coerce\")\n",
        "df[\"gross_square_feet\"] = pd.to_numeric(df[\"gross_square_feet\"], errors=\"coerce\")\n",
        "\n",
        "print('\\n')\n",
        "\n",
        "print(\"------------------------------------------------------------------------------\")\n",
        "print(\"\\033[1m Tipos de datos de cada columna \\033[0m\")\n",
        "print(\"------------------------------------------------------------------------------\")\n",
        "print(df.dtypes)\n",
        "\n",
        "print('\\n')\n",
        "\n",
        "print(\"------------------------------------------------------------------------------------------------------------------\")\n",
        "print(\"\\033[1m Comprobar el cambio del tipo de dato de: sale_price, land_square_fee y gross_square_feeta float  \\033[0m\")\n",
        "print(\"------------------------------------------------------------------------------------------------------------------\")\n",
        "print(df[[\"sale_price\", \"land_square_feet\", \"gross_square_feet\"]].dtypes)"
      ],
      "metadata": {
        "colab": {
          "base_uri": "https://localhost:8080/"
        },
        "id": "H9AyZXnMM_V9",
        "outputId": "c7c5f102-3e4c-4e41-c3e2-7f561c6e440a"
      },
      "execution_count": 21,
      "outputs": [
        {
          "output_type": "stream",
          "name": "stdout",
          "text": [
            "--------------------------------------------------------------------------------------------------------------------------\n",
            "\u001b[1m Convertir los datos de las columnas (sale_price, land_square_fee y gross_square_feeta float) a flotante \u001b[0m\n",
            "--------------------------------------------------------------------------------------------------------------------------\n",
            "\n",
            "\n",
            "------------------------------------------------------------------------------\n",
            "\u001b[1m Tipos de datos de cada columna \u001b[0m\n",
            "------------------------------------------------------------------------------\n",
            "index_miiad                        object\n",
            "borough                           float64\n",
            "neighborhood                       object\n",
            "building_class_category            object\n",
            "tax_class_at_present               object\n",
            "block                             float64\n",
            "lot                               float64\n",
            "ease-ment                          object\n",
            "building_class_at_present          object\n",
            "address                            object\n",
            "apartment_number                   object\n",
            "zip_code                          float64\n",
            "residential_units                 float64\n",
            "commercial_units                  float64\n",
            "total_units                       float64\n",
            "land_square_feet                  float64\n",
            "gross_square_feet                 float64\n",
            "year_built                        float64\n",
            "tax_class_at_time_of_sale         float64\n",
            "building_class_at_time_of_sale     object\n",
            "sale_price                        float64\n",
            "sale_date                          object\n",
            "dtype: object\n",
            "\n",
            "\n",
            "------------------------------------------------------------------------------------------------------------------\n",
            "\u001b[1m Comprobar el cambio del tipo de dato de: sale_price, land_square_fee y gross_square_feeta float  \u001b[0m\n",
            "------------------------------------------------------------------------------------------------------------------\n",
            "sale_price           float64\n",
            "land_square_feet     float64\n",
            "gross_square_feet    float64\n",
            "dtype: object\n"
          ]
        }
      ]
    }
  ]
}