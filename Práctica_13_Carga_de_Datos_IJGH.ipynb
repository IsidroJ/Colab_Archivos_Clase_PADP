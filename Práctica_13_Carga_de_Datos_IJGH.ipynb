{
  "nbformat": 4,
  "nbformat_minor": 0,
  "metadata": {
    "colab": {
      "provenance": [],
      "mount_file_id": "1a50doqD34pBjsCQJKvc-ZyFB5soZCgrQ",
      "authorship_tag": "ABX9TyMrUVZ+hFkFTKST72KEhG8h",
      "include_colab_link": true
    },
    "kernelspec": {
      "name": "python3",
      "display_name": "Python 3"
    },
    "language_info": {
      "name": "python"
    }
  },
  "cells": [
    {
      "cell_type": "markdown",
      "metadata": {
        "id": "view-in-github",
        "colab_type": "text"
      },
      "source": [
        "<a href=\"https://colab.research.google.com/github/IsidroJ/Colab_Archivos_Clase_PADP/blob/main/Pr%C3%A1ctica_13_Carga_de_Datos_IJGH.ipynb\" target=\"_parent\"><img src=\"https://colab.research.google.com/assets/colab-badge.svg\" alt=\"Open In Colab\"/></a>"
      ]
    },
    {
      "cell_type": "markdown",
      "source": [
        "**Práctica 13: Carga de Datos**\n",
        "\n",
        "Al final del archivo contiene una línea que dice \"Esta es una línea que no deberías cargar\". Esta línea es irrelevante por lo tanto al cargar el CSV a un dataframe se debería de ignorar.\n",
        "\n",
        "1. Carga el archivo a un dataframe usando el código necesario para omitir la última fila.\n",
        "2. Usa df.tail(3) para demostrar que no has cargado la última línea\n",
        "3. Imprime la cantidad de filas y columnas del dataframe"
      ],
      "metadata": {
        "id": "ztI270B0jZny"
      }
    },
    {
      "cell_type": "code",
      "execution_count": 1,
      "metadata": {
        "id": "8axAZxO8jPGr"
      },
      "outputs": [],
      "source": [
        "import numpy as np\n",
        "import pandas as pd\n",
        "import seaborn as sns\n",
        "import matplotlib.pyplot as plt\n",
        "import seaborn as sns"
      ]
    },
    {
      "cell_type": "code",
      "source": [
        "df = pd.read_csv('/content/drive/MyDrive/1_ClassFiles/8_Clase 29-08-2025/miaad-nyc-r-s.csv')\n",
        "print('------------------------------------------------------------------------------')\n",
        "print('\\033[1m Datos originales \\033[0m')\n",
        "print('------------------------------------------------------------------------------')\n",
        "print(df)\n",
        "\n",
        "print('\\n')\n",
        "\n",
        "print('------------------------------------------------------------------------------')\n",
        "num_filas = df.shape[0]\n",
        "num_columnas = df.shape[1]\n",
        "print('\\033[1m Número de filas del Dataframe: \\033[0m', num_filas)\n",
        "print('\\033[1m Número de columnas del Dataframe: \\033[0m', num_columnas)\n",
        "print('------------------------------------------------------------------------------')\n",
        "\n",
        "print('\\n')\n",
        "\n",
        "print('--------------------------------------------------------------------------------------------------------------------------------------------------------------------------')\n",
        "print('\\033[1m Como se puede observar el Dataframe en la fila 84548 de la columna que no tiene nombre aparece la expresión \"Esta es una línea que no deberías cargar\" \\033[0m')\n",
        "print('--------------------------------------------------------------------------------------------------------------------------------------------------------------------------')\n",
        "\n",
        "print('\\n')"
      ],
      "metadata": {
        "colab": {
          "base_uri": "https://localhost:8080/"
        },
        "id": "KKnFic0UkGWl",
        "outputId": "f456b451-0227-44e5-f349-b802dd8a6e3d"
      },
      "execution_count": 39,
      "outputs": [
        {
          "output_type": "stream",
          "name": "stdout",
          "text": [
            "------------------------------------------------------------------------------\n",
            "\u001b[1m Datos originales \u001b[0m\n",
            "------------------------------------------------------------------------------\n",
            "                                     Unnamed: 0  BOROUGH   NEIGHBORHOOD  \\\n",
            "0                                             4      1.0  ALPHABET CITY   \n",
            "1                                             5      1.0  ALPHABET CITY   \n",
            "2                                             6      1.0  ALPHABET CITY   \n",
            "3                                             7      1.0  ALPHABET CITY   \n",
            "4                                             8      1.0  ALPHABET CITY   \n",
            "...                                         ...      ...            ...   \n",
            "84544                                      8410      5.0        WOODROW   \n",
            "84545                                      8411      5.0        WOODROW   \n",
            "84546                                      8412      5.0        WOODROW   \n",
            "84547                                      8413      5.0        WOODROW   \n",
            "84548  Esta es una línea que no deberías cargar      NaN            NaN   \n",
            "\n",
            "                           BUILDING CLASS CATEGORY TAX CLASS AT PRESENT  \\\n",
            "0      07 RENTALS - WALKUP APARTMENTS                                2A   \n",
            "1      07 RENTALS - WALKUP APARTMENTS                                 2   \n",
            "2      07 RENTALS - WALKUP APARTMENTS                                 2   \n",
            "3      07 RENTALS - WALKUP APARTMENTS                                2B   \n",
            "4      07 RENTALS - WALKUP APARTMENTS                                2A   \n",
            "...                                            ...                  ...   \n",
            "84544  02 TWO FAMILY DWELLINGS                                        1   \n",
            "84545  02 TWO FAMILY DWELLINGS                                        1   \n",
            "84546  22 STORE BUILDINGS                                             4   \n",
            "84547  35 INDOOR PUBLIC AND CULTURAL FACILITIES                       4   \n",
            "84548                                          NaN                  NaN   \n",
            "\n",
            "        BLOCK    LOT EASE-MENT BUILDING CLASS AT PRESENT  \\\n",
            "0       392.0    6.0                                  C2   \n",
            "1       399.0   26.0                                  C7   \n",
            "2       399.0   39.0                                  C7   \n",
            "3       402.0   21.0                                  C4   \n",
            "4       404.0   55.0                                  C2   \n",
            "...       ...    ...       ...                       ...   \n",
            "84544  7349.0   78.0                                  B9   \n",
            "84545  7351.0   60.0                                  B2   \n",
            "84546  7100.0   28.0                                  K6   \n",
            "84547  7105.0  679.0                                  P9   \n",
            "84548     NaN    NaN       NaN                       NaN   \n",
            "\n",
            "                      ADDRESS  ... RESIDENTIAL UNITS  COMMERCIAL UNITS  \\\n",
            "0                153 AVENUE B  ...               5.0               0.0   \n",
            "1       234 EAST 4TH   STREET  ...              28.0               3.0   \n",
            "2       197 EAST 3RD   STREET  ...              16.0               1.0   \n",
            "3         154 EAST 7TH STREET  ...              10.0               0.0   \n",
            "4      301 EAST 10TH   STREET  ...               6.0               0.0   \n",
            "...                       ...  ...               ...               ...   \n",
            "84544        32 PHEASANT LANE  ...               2.0               0.0   \n",
            "84545        49 PITNEY AVENUE  ...               2.0               0.0   \n",
            "84546   2730 ARTHUR KILL ROAD  ...               0.0               7.0   \n",
            "84547       155 CLAY PIT ROAD  ...               0.0               1.0   \n",
            "84548                     NaN  ...               NaN               NaN   \n",
            "\n",
            "       TOTAL UNITS  LAND SQUARE FEET  GROSS SQUARE FEET YEAR BUILT  \\\n",
            "0              5.0              1633               6440     1900.0   \n",
            "1             31.0              4616              18690     1900.0   \n",
            "2             17.0              2212               7803     1900.0   \n",
            "3             10.0              2272               6794     1913.0   \n",
            "4              6.0              2369               4615     1900.0   \n",
            "...            ...               ...                ...        ...   \n",
            "84544          2.0              2498               2377     1998.0   \n",
            "84545          2.0              4000               1496     1925.0   \n",
            "84546          7.0            208033              64117     2001.0   \n",
            "84547          1.0             10796               2400     2006.0   \n",
            "84548          NaN               NaN                NaN        NaN   \n",
            "\n",
            "      TAX CLASS AT TIME OF SALE  BUILDING CLASS AT TIME OF SALE  SALE PRICE  \\\n",
            "0                           2.0                              C2     6625000   \n",
            "1                           2.0                              C7         -     \n",
            "2                           2.0                              C7         -     \n",
            "3                           2.0                              C4     3936272   \n",
            "4                           2.0                              C2     8000000   \n",
            "...                         ...                             ...         ...   \n",
            "84544                       1.0                              B9      550000   \n",
            "84545                       1.0                              B2      460000   \n",
            "84546                       4.0                              K6    11693337   \n",
            "84547                       4.0                              P9       69300   \n",
            "84548                       NaN                             NaN         NaN   \n",
            "\n",
            "                 SALE DATE  \n",
            "0      2017-07-19 00:00:00  \n",
            "1      2016-12-14 00:00:00  \n",
            "2      2016-12-09 00:00:00  \n",
            "3      2016-09-23 00:00:00  \n",
            "4      2016-11-17 00:00:00  \n",
            "...                    ...  \n",
            "84544  2017-04-21 00:00:00  \n",
            "84545  2017-07-05 00:00:00  \n",
            "84546  2016-12-21 00:00:00  \n",
            "84547  2016-10-27 00:00:00  \n",
            "84548                  NaN  \n",
            "\n",
            "[84549 rows x 22 columns]\n",
            "\n",
            "\n",
            "------------------------------------------------------------------------------\n",
            "\u001b[1m Número de filas del Dataframe: \u001b[0m 84549\n",
            "\u001b[1m Número de columnas del Dataframe: \u001b[0m 22\n",
            "------------------------------------------------------------------------------\n",
            "\n",
            "\n",
            "--------------------------------------------------------------------------------------------------------------------------------------------------------------------------\n",
            "\u001b[1m Como se puede observar el Dataframe en la fila 84548 de la columna que no tiene nombre aparece la expresión \"Esta es una línea que no deberías cargar\" \u001b[0m\n",
            "--------------------------------------------------------------------------------------------------------------------------------------------------------------------------\n",
            "\n",
            "\n"
          ]
        },
        {
          "output_type": "stream",
          "name": "stderr",
          "text": [
            "/tmp/ipython-input-1717411065.py:1: DtypeWarning: Columns (0) have mixed types. Specify dtype option on import or set low_memory=False.\n",
            "  df = pd.read_csv('/content/drive/MyDrive/1_ClassFiles/8_Clase 29-08-2025/miaad-nyc-r-s.csv')\n"
          ]
        }
      ]
    },
    {
      "cell_type": "code",
      "source": [
        "df = pd.read_csv('/content/drive/MyDrive/1_ClassFiles/8_Clase 29-08-2025/miaad-nyc-r-s.csv', skipfooter=1)  #elimina la última línea del archivo. Si se coloca skipfooter=2, se omitirían las últimas dos filas, y así sucesivamente.\n",
        "print('------------------------------------------------------------------------------')\n",
        "print('\\033[1m Dataframe con limpieza de datos \\033[0m')\n",
        "print('------------------------------------------------------------------------------')\n",
        "print(df)"
      ],
      "metadata": {
        "colab": {
          "base_uri": "https://localhost:8080/"
        },
        "id": "kaqFaUCXpQvk",
        "outputId": "16718c6f-ae9c-4697-fad3-489a03888009"
      },
      "execution_count": 36,
      "outputs": [
        {
          "output_type": "stream",
          "name": "stderr",
          "text": [
            "/tmp/ipython-input-2330516863.py:1: ParserWarning: Falling back to the 'python' engine because the 'c' engine does not support skipfooter; you can avoid this warning by specifying engine='python'.\n",
            "  df = pd.read_csv('/content/drive/MyDrive/1_ClassFiles/8_Clase 29-08-2025/miaad-nyc-r-s.csv', skipfooter=1)  #elimina la última línea del archivo. Si se coloca skipfooter=2, se omitirían las últimas dos filas, y así sucesivamente.\n"
          ]
        },
        {
          "output_type": "stream",
          "name": "stdout",
          "text": [
            "------------------------------------------------------------------------------\n",
            "\u001b[1m Dataframe con limpieza de datos \u001b[0m\n",
            "------------------------------------------------------------------------------\n",
            "       Unnamed: 0  BOROUGH   NEIGHBORHOOD  \\\n",
            "0               4        1  ALPHABET CITY   \n",
            "1               5        1  ALPHABET CITY   \n",
            "2               6        1  ALPHABET CITY   \n",
            "3               7        1  ALPHABET CITY   \n",
            "4               8        1  ALPHABET CITY   \n",
            "...           ...      ...            ...   \n",
            "84543        8409        5        WOODROW   \n",
            "84544        8410        5        WOODROW   \n",
            "84545        8411        5        WOODROW   \n",
            "84546        8412        5        WOODROW   \n",
            "84547        8413        5        WOODROW   \n",
            "\n",
            "                           BUILDING CLASS CATEGORY TAX CLASS AT PRESENT  \\\n",
            "0      07 RENTALS - WALKUP APARTMENTS                                2A   \n",
            "1      07 RENTALS - WALKUP APARTMENTS                                 2   \n",
            "2      07 RENTALS - WALKUP APARTMENTS                                 2   \n",
            "3      07 RENTALS - WALKUP APARTMENTS                                2B   \n",
            "4      07 RENTALS - WALKUP APARTMENTS                                2A   \n",
            "...                                            ...                  ...   \n",
            "84543  02 TWO FAMILY DWELLINGS                                        1   \n",
            "84544  02 TWO FAMILY DWELLINGS                                        1   \n",
            "84545  02 TWO FAMILY DWELLINGS                                        1   \n",
            "84546  22 STORE BUILDINGS                                             4   \n",
            "84547  35 INDOOR PUBLIC AND CULTURAL FACILITIES                       4   \n",
            "\n",
            "       BLOCK  LOT EASE-MENT BUILDING CLASS AT PRESENT                 ADDRESS  \\\n",
            "0        392    6                                  C2            153 AVENUE B   \n",
            "1        399   26                                  C7   234 EAST 4TH   STREET   \n",
            "2        399   39                                  C7   197 EAST 3RD   STREET   \n",
            "3        402   21                                  C4     154 EAST 7TH STREET   \n",
            "4        404   55                                  C2  301 EAST 10TH   STREET   \n",
            "...      ...  ...       ...                       ...                     ...   \n",
            "84543   7349   34                                  B9           37 QUAIL LANE   \n",
            "84544   7349   78                                  B9        32 PHEASANT LANE   \n",
            "84545   7351   60                                  B2        49 PITNEY AVENUE   \n",
            "84546   7100   28                                  K6   2730 ARTHUR KILL ROAD   \n",
            "84547   7105  679                                  P9       155 CLAY PIT ROAD   \n",
            "\n",
            "       ... RESIDENTIAL UNITS  COMMERCIAL UNITS  TOTAL UNITS  LAND SQUARE FEET  \\\n",
            "0      ...                 5                 0            5              1633   \n",
            "1      ...                28                 3           31              4616   \n",
            "2      ...                16                 1           17              2212   \n",
            "3      ...                10                 0           10              2272   \n",
            "4      ...                 6                 0            6              2369   \n",
            "...    ...               ...               ...          ...               ...   \n",
            "84543  ...                 2                 0            2              2400   \n",
            "84544  ...                 2                 0            2              2498   \n",
            "84545  ...                 2                 0            2              4000   \n",
            "84546  ...                 0                 7            7            208033   \n",
            "84547  ...                 0                 1            1             10796   \n",
            "\n",
            "       GROSS SQUARE FEET YEAR BUILT TAX CLASS AT TIME OF SALE  \\\n",
            "0                   6440       1900                         2   \n",
            "1                  18690       1900                         2   \n",
            "2                   7803       1900                         2   \n",
            "3                   6794       1913                         2   \n",
            "4                   4615       1900                         2   \n",
            "...                  ...        ...                       ...   \n",
            "84543               2575       1998                         1   \n",
            "84544               2377       1998                         1   \n",
            "84545               1496       1925                         1   \n",
            "84546              64117       2001                         4   \n",
            "84547               2400       2006                         4   \n",
            "\n",
            "       BUILDING CLASS AT TIME OF SALE  SALE PRICE            SALE DATE  \n",
            "0                                  C2     6625000  2017-07-19 00:00:00  \n",
            "1                                  C7         -    2016-12-14 00:00:00  \n",
            "2                                  C7         -    2016-12-09 00:00:00  \n",
            "3                                  C4     3936272  2016-09-23 00:00:00  \n",
            "4                                  C2     8000000  2016-11-17 00:00:00  \n",
            "...                               ...         ...                  ...  \n",
            "84543                              B9      450000  2016-11-28 00:00:00  \n",
            "84544                              B9      550000  2017-04-21 00:00:00  \n",
            "84545                              B2      460000  2017-07-05 00:00:00  \n",
            "84546                              K6    11693337  2016-12-21 00:00:00  \n",
            "84547                              P9       69300  2016-10-27 00:00:00  \n",
            "\n",
            "[84548 rows x 22 columns]\n"
          ]
        }
      ]
    },
    {
      "cell_type": "code",
      "source": [
        "print('---------------------------------------------------------------------------------------------------------------------------')\n",
        "print('\\033[1m Se muestran las últimas tres filas del Dataframe, donde se puede verificar que se eliminó la última fila \\033[0m')\n",
        "print('---------------------------------------------------------------------------------------------------------------------------')\n",
        "\n",
        "print(df.tail(3))"
      ],
      "metadata": {
        "colab": {
          "base_uri": "https://localhost:8080/"
        },
        "id": "ODadTCQIurRc",
        "outputId": "067bba75-8ac7-403d-86ec-f3b354ae6f36"
      },
      "execution_count": 40,
      "outputs": [
        {
          "output_type": "stream",
          "name": "stdout",
          "text": [
            "---------------------------------------------------------------------------------------------------------------------------\n",
            "\u001b[1m Se muestran las últimas tres filas del Dataframe, donde se puede verificar que se eliminó la última fila \u001b[0m\n",
            "---------------------------------------------------------------------------------------------------------------------------\n",
            "                                     Unnamed: 0  BOROUGH NEIGHBORHOOD  \\\n",
            "84546                                      8412      5.0      WOODROW   \n",
            "84547                                      8413      5.0      WOODROW   \n",
            "84548  Esta es una línea que no deberías cargar      NaN          NaN   \n",
            "\n",
            "                           BUILDING CLASS CATEGORY TAX CLASS AT PRESENT  \\\n",
            "84546  22 STORE BUILDINGS                                             4   \n",
            "84547  35 INDOOR PUBLIC AND CULTURAL FACILITIES                       4   \n",
            "84548                                          NaN                  NaN   \n",
            "\n",
            "        BLOCK    LOT EASE-MENT BUILDING CLASS AT PRESENT  \\\n",
            "84546  7100.0   28.0                                  K6   \n",
            "84547  7105.0  679.0                                  P9   \n",
            "84548     NaN    NaN       NaN                       NaN   \n",
            "\n",
            "                     ADDRESS  ... RESIDENTIAL UNITS  COMMERCIAL UNITS  \\\n",
            "84546  2730 ARTHUR KILL ROAD  ...               0.0               7.0   \n",
            "84547      155 CLAY PIT ROAD  ...               0.0               1.0   \n",
            "84548                    NaN  ...               NaN               NaN   \n",
            "\n",
            "       TOTAL UNITS  LAND SQUARE FEET  GROSS SQUARE FEET YEAR BUILT  \\\n",
            "84546          7.0            208033              64117     2001.0   \n",
            "84547          1.0             10796               2400     2006.0   \n",
            "84548          NaN               NaN                NaN        NaN   \n",
            "\n",
            "      TAX CLASS AT TIME OF SALE  BUILDING CLASS AT TIME OF SALE  SALE PRICE  \\\n",
            "84546                       4.0                              K6    11693337   \n",
            "84547                       4.0                              P9       69300   \n",
            "84548                       NaN                             NaN         NaN   \n",
            "\n",
            "                 SALE DATE  \n",
            "84546  2016-12-21 00:00:00  \n",
            "84547  2016-10-27 00:00:00  \n",
            "84548                  NaN  \n",
            "\n",
            "[3 rows x 22 columns]\n"
          ]
        }
      ]
    }
  ]
}