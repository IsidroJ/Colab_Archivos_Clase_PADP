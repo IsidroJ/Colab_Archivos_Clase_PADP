{
  "nbformat": 4,
  "nbformat_minor": 0,
  "metadata": {
    "colab": {
      "provenance": [],
      "mount_file_id": "1fS2J8HCpwuLhReoxgxaQVwPCdCjTln0u",
      "authorship_tag": "ABX9TyN32avHd2u2CBeYSHMfLlqa",
      "include_colab_link": true
    },
    "kernelspec": {
      "name": "python3",
      "display_name": "Python 3"
    },
    "language_info": {
      "name": "python"
    }
  },
  "cells": [
    {
      "cell_type": "markdown",
      "metadata": {
        "id": "view-in-github",
        "colab_type": "text"
      },
      "source": [
        "<a href=\"https://colab.research.google.com/github/IsidroJ/Colab_Archivos_Clase_PADP/blob/main/Pr%C3%A1ctica_14_Agregar_una_columna_IJGH.ipynb\" target=\"_parent\"><img src=\"https://colab.research.google.com/assets/colab-badge.svg\" alt=\"Open In Colab\"/></a>"
      ]
    },
    {
      "cell_type": "markdown",
      "source": [
        "**Práctica 14: Agregar una columna**\n",
        "\n",
        "1. Imprime los nombres de la columnas del archivo\n",
        "2. Asegúrate que el nombre de la primera columna debería ser INDEX MIIAD. Si esto no es así, entonces agrega dicho nombre a la columna y vuelve a imprimir los nombres para mostrar el cambio realizado."
      ],
      "metadata": {
        "id": "nQ3ffNkxqrxt"
      }
    },
    {
      "cell_type": "code",
      "execution_count": 1,
      "metadata": {
        "id": "koxRvv-rqksy"
      },
      "outputs": [],
      "source": [
        "import numpy as np\n",
        "import pandas as pd\n",
        "import seaborn as sns\n",
        "import matplotlib.pyplot as plt\n",
        "import seaborn as sns"
      ]
    },
    {
      "cell_type": "code",
      "source": [
        "df = pd.read_csv('/content/drive/MyDrive/1_ClassFiles/8_Clase 29-08-2025/Practicas-Tarea/miaad-nyc-r-s.csv')\n",
        "print('------------------------------------------------------------------------------')\n",
        "print('\\033[1m Datos originales \\033[0m')\n",
        "print('------------------------------------------------------------------------------')\n",
        "print(df)\n",
        "\n"
      ],
      "metadata": {
        "colab": {
          "base_uri": "https://localhost:8080/"
        },
        "id": "bgj0_iqYq6TJ",
        "outputId": "9036c0c9-f301-48d1-d5d5-69f53ea02d3a"
      },
      "execution_count": 32,
      "outputs": [
        {
          "output_type": "stream",
          "name": "stdout",
          "text": [
            "------------------------------------------------------------------------------\n",
            "\u001b[1m Datos originales \u001b[0m\n",
            "------------------------------------------------------------------------------\n",
            "                                     Unnamed: 0  BOROUGH   NEIGHBORHOOD  \\\n",
            "0                                             4      1.0  ALPHABET CITY   \n",
            "1                                             5      1.0  ALPHABET CITY   \n",
            "2                                             6      1.0  ALPHABET CITY   \n",
            "3                                             7      1.0  ALPHABET CITY   \n",
            "4                                             8      1.0  ALPHABET CITY   \n",
            "...                                         ...      ...            ...   \n",
            "84544                                      8410      5.0        WOODROW   \n",
            "84545                                      8411      5.0        WOODROW   \n",
            "84546                                      8412      5.0        WOODROW   \n",
            "84547                                      8413      5.0        WOODROW   \n",
            "84548  Esta es una línea que no deberías cargar      NaN            NaN   \n",
            "\n",
            "                           BUILDING CLASS CATEGORY TAX CLASS AT PRESENT  \\\n",
            "0      07 RENTALS - WALKUP APARTMENTS                                2A   \n",
            "1      07 RENTALS - WALKUP APARTMENTS                                 2   \n",
            "2      07 RENTALS - WALKUP APARTMENTS                                 2   \n",
            "3      07 RENTALS - WALKUP APARTMENTS                                2B   \n",
            "4      07 RENTALS - WALKUP APARTMENTS                                2A   \n",
            "...                                            ...                  ...   \n",
            "84544  02 TWO FAMILY DWELLINGS                                        1   \n",
            "84545  02 TWO FAMILY DWELLINGS                                        1   \n",
            "84546  22 STORE BUILDINGS                                             4   \n",
            "84547  35 INDOOR PUBLIC AND CULTURAL FACILITIES                       4   \n",
            "84548                                          NaN                  NaN   \n",
            "\n",
            "        BLOCK    LOT EASE-MENT BUILDING CLASS AT PRESENT  \\\n",
            "0       392.0    6.0                                  C2   \n",
            "1       399.0   26.0                                  C7   \n",
            "2       399.0   39.0                                  C7   \n",
            "3       402.0   21.0                                  C4   \n",
            "4       404.0   55.0                                  C2   \n",
            "...       ...    ...       ...                       ...   \n",
            "84544  7349.0   78.0                                  B9   \n",
            "84545  7351.0   60.0                                  B2   \n",
            "84546  7100.0   28.0                                  K6   \n",
            "84547  7105.0  679.0                                  P9   \n",
            "84548     NaN    NaN       NaN                       NaN   \n",
            "\n",
            "                      ADDRESS  ... RESIDENTIAL UNITS  COMMERCIAL UNITS  \\\n",
            "0                153 AVENUE B  ...               5.0               0.0   \n",
            "1       234 EAST 4TH   STREET  ...              28.0               3.0   \n",
            "2       197 EAST 3RD   STREET  ...              16.0               1.0   \n",
            "3         154 EAST 7TH STREET  ...              10.0               0.0   \n",
            "4      301 EAST 10TH   STREET  ...               6.0               0.0   \n",
            "...                       ...  ...               ...               ...   \n",
            "84544        32 PHEASANT LANE  ...               2.0               0.0   \n",
            "84545        49 PITNEY AVENUE  ...               2.0               0.0   \n",
            "84546   2730 ARTHUR KILL ROAD  ...               0.0               7.0   \n",
            "84547       155 CLAY PIT ROAD  ...               0.0               1.0   \n",
            "84548                     NaN  ...               NaN               NaN   \n",
            "\n",
            "       TOTAL UNITS  LAND SQUARE FEET  GROSS SQUARE FEET YEAR BUILT  \\\n",
            "0              5.0              1633               6440     1900.0   \n",
            "1             31.0              4616              18690     1900.0   \n",
            "2             17.0              2212               7803     1900.0   \n",
            "3             10.0              2272               6794     1913.0   \n",
            "4              6.0              2369               4615     1900.0   \n",
            "...            ...               ...                ...        ...   \n",
            "84544          2.0              2498               2377     1998.0   \n",
            "84545          2.0              4000               1496     1925.0   \n",
            "84546          7.0            208033              64117     2001.0   \n",
            "84547          1.0             10796               2400     2006.0   \n",
            "84548          NaN               NaN                NaN        NaN   \n",
            "\n",
            "      TAX CLASS AT TIME OF SALE  BUILDING CLASS AT TIME OF SALE  SALE PRICE  \\\n",
            "0                           2.0                              C2     6625000   \n",
            "1                           2.0                              C7         -     \n",
            "2                           2.0                              C7         -     \n",
            "3                           2.0                              C4     3936272   \n",
            "4                           2.0                              C2     8000000   \n",
            "...                         ...                             ...         ...   \n",
            "84544                       1.0                              B9      550000   \n",
            "84545                       1.0                              B2      460000   \n",
            "84546                       4.0                              K6    11693337   \n",
            "84547                       4.0                              P9       69300   \n",
            "84548                       NaN                             NaN         NaN   \n",
            "\n",
            "                 SALE DATE  \n",
            "0      2017-07-19 00:00:00  \n",
            "1      2016-12-14 00:00:00  \n",
            "2      2016-12-09 00:00:00  \n",
            "3      2016-09-23 00:00:00  \n",
            "4      2016-11-17 00:00:00  \n",
            "...                    ...  \n",
            "84544  2017-04-21 00:00:00  \n",
            "84545  2017-07-05 00:00:00  \n",
            "84546  2016-12-21 00:00:00  \n",
            "84547  2016-10-27 00:00:00  \n",
            "84548                  NaN  \n",
            "\n",
            "[84549 rows x 22 columns]\n"
          ]
        },
        {
          "output_type": "stream",
          "name": "stderr",
          "text": [
            "/tmp/ipython-input-3737159221.py:1: DtypeWarning: Columns (0) have mixed types. Specify dtype option on import or set low_memory=False.\n",
            "  df = pd.read_csv('/content/drive/MyDrive/1_ClassFiles/8_Clase 29-08-2025/Practicas-Tarea/miaad-nyc-r-s.csv')\n"
          ]
        }
      ]
    },
    {
      "cell_type": "code",
      "source": [
        "print('------------------------------------------------------------------------------')\n",
        "print('\\033[1m Nombres de columnas del Dataframe: \\033[0m')\n",
        "print('------------------------------------------------------------------------------')\n",
        "print(df.columns)\n",
        "\n",
        "print('\\n')\n",
        "\n",
        "dfNomCol = pd.DataFrame({\"Nombre de las columnas\": df.columns})\n",
        "\n",
        "print(\"------------------------------------------------------------------------------\")\n",
        "print(\"\\033[1m Nombre de las columnas \\033[0m\")\n",
        "print(\"------------------------------------------------------------------------------\")\n",
        "print(dfNomCol)\n",
        "\n",
        "print('\\n')\n",
        "\n",
        "print('--------------------------------------------------------------------------------------------------------------------------------------------------------------------------')\n",
        "print('\\033[1m Como se puede observar en el Dataframe, la primera columna no tiene nombre, se agregará un nombre a la columna\" \\033[0m')\n",
        "print('--------------------------------------------------------------------------------------------------------------------------------------------------------------------------')\n",
        "\n"
      ],
      "metadata": {
        "colab": {
          "base_uri": "https://localhost:8080/"
        },
        "id": "qetZdqiMrmm2",
        "outputId": "bad2777f-bfe5-491d-a56a-02e7d9c875ac"
      },
      "execution_count": 33,
      "outputs": [
        {
          "output_type": "stream",
          "name": "stdout",
          "text": [
            "------------------------------------------------------------------------------\n",
            "\u001b[1m Nombres de columnas del Dataframe: \u001b[0m\n",
            "------------------------------------------------------------------------------\n",
            "Index(['Unnamed: 0', 'BOROUGH', 'NEIGHBORHOOD', 'BUILDING CLASS CATEGORY',\n",
            "       'TAX CLASS AT PRESENT', 'BLOCK', 'LOT', 'EASE-MENT',\n",
            "       'BUILDING CLASS AT PRESENT', 'ADDRESS', 'APARTMENT NUMBER', 'ZIP CODE',\n",
            "       'RESIDENTIAL UNITS', 'COMMERCIAL UNITS', 'TOTAL UNITS',\n",
            "       'LAND SQUARE FEET', 'GROSS SQUARE FEET', 'YEAR BUILT',\n",
            "       'TAX CLASS AT TIME OF SALE', 'BUILDING CLASS AT TIME OF SALE',\n",
            "       'SALE PRICE', 'SALE DATE'],\n",
            "      dtype='object')\n",
            "\n",
            "\n",
            "------------------------------------------------------------------------------\n",
            "\u001b[1m Nombre de las columnas \u001b[0m\n",
            "------------------------------------------------------------------------------\n",
            "            Nombre de las columnas\n",
            "0                       Unnamed: 0\n",
            "1                          BOROUGH\n",
            "2                     NEIGHBORHOOD\n",
            "3          BUILDING CLASS CATEGORY\n",
            "4             TAX CLASS AT PRESENT\n",
            "5                            BLOCK\n",
            "6                              LOT\n",
            "7                        EASE-MENT\n",
            "8        BUILDING CLASS AT PRESENT\n",
            "9                          ADDRESS\n",
            "10                APARTMENT NUMBER\n",
            "11                        ZIP CODE\n",
            "12               RESIDENTIAL UNITS\n",
            "13                COMMERCIAL UNITS\n",
            "14                     TOTAL UNITS\n",
            "15                LAND SQUARE FEET\n",
            "16               GROSS SQUARE FEET\n",
            "17                      YEAR BUILT\n",
            "18       TAX CLASS AT TIME OF SALE\n",
            "19  BUILDING CLASS AT TIME OF SALE\n",
            "20                      SALE PRICE\n",
            "21                       SALE DATE\n",
            "\n",
            "\n",
            "--------------------------------------------------------------------------------------------------------------------------------------------------------------------------\n",
            "\u001b[1m Como se puede observar en el Dataframe, la primera columna no tiene nombre, se agregará un nombre a la columna\" \u001b[0m\n",
            "--------------------------------------------------------------------------------------------------------------------------------------------------------------------------\n"
          ]
        }
      ]
    },
    {
      "cell_type": "code",
      "source": [
        "df = pd.read_csv('/content/drive/MyDrive/1_ClassFiles/8_Clase 29-08-2025/Practicas-Tarea/miaad-nyc-r-s.csv', dtype={0: str},   # primera columna como texto\n",
        "    encoding='utf-8', low_memory=False  )\n",
        "\n",
        "if df.columns[0] != \"INDEX MIIAD\":\n",
        "    print('------------------------------------------------------------------------------')\n",
        "    print('\\033[1m La primera columna no se llama \"INDEX MIIAD\". Se le asignará un nombre \\033[0m')\n",
        "    print('------------------------------------------------------------------------------')\n",
        "\n",
        "    print('\\n')\n",
        "    print('------------------------------------------------------------------------------')\n",
        "    print('\\033[1m Nombre de las columnas después del cambio: \\033[0m')\n",
        "    print('------------------------------------------------------------------------------')\n",
        "\n",
        "    # Renombrar la primera columna\n",
        "    nueva_columna = df.columns.tolist()\n",
        "    nueva_columna[0] = \"INDEX MIIAD\"\n",
        "    df.columns = nueva_columna\n",
        "    dfNuvNomCol = pd.DataFrame({\"Nombre de las columnas\": df.columns})\n",
        "\n",
        "    print(dfNuvNomCol)\n"
      ],
      "metadata": {
        "colab": {
          "base_uri": "https://localhost:8080/"
        },
        "id": "kswFkHk2uAzF",
        "outputId": "83e61c2f-3999-4519-80ef-c6e1fbe031e8"
      },
      "execution_count": 48,
      "outputs": [
        {
          "output_type": "stream",
          "name": "stdout",
          "text": [
            "------------------------------------------------------------------------------\n",
            "\u001b[1m La primera columna no se llama \"INDEX MIIAD\". Se le asignará un nombre \u001b[0m\n",
            "------------------------------------------------------------------------------\n",
            "\n",
            "\n",
            "------------------------------------------------------------------------------\n",
            "\u001b[1m Nombre de las columnas después del cambio: \u001b[0m\n",
            "------------------------------------------------------------------------------\n",
            "            Nombre de las columnas\n",
            "0                      INDEX MIIAD\n",
            "1                          BOROUGH\n",
            "2                     NEIGHBORHOOD\n",
            "3          BUILDING CLASS CATEGORY\n",
            "4             TAX CLASS AT PRESENT\n",
            "5                            BLOCK\n",
            "6                              LOT\n",
            "7                        EASE-MENT\n",
            "8        BUILDING CLASS AT PRESENT\n",
            "9                          ADDRESS\n",
            "10                APARTMENT NUMBER\n",
            "11                        ZIP CODE\n",
            "12               RESIDENTIAL UNITS\n",
            "13                COMMERCIAL UNITS\n",
            "14                     TOTAL UNITS\n",
            "15                LAND SQUARE FEET\n",
            "16               GROSS SQUARE FEET\n",
            "17                      YEAR BUILT\n",
            "18       TAX CLASS AT TIME OF SALE\n",
            "19  BUILDING CLASS AT TIME OF SALE\n",
            "20                      SALE PRICE\n",
            "21                       SALE DATE\n"
          ]
        }
      ]
    }
  ]
}