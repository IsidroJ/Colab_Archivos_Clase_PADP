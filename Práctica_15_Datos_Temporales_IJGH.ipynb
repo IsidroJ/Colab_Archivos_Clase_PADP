{
  "nbformat": 4,
  "nbformat_minor": 0,
  "metadata": {
    "colab": {
      "provenance": [],
      "mount_file_id": "1arbwluKxCZtaZdCere2zV2d6ml8U6Sir",
      "authorship_tag": "ABX9TyPfo5k0NVgeOCob4nYzrojO",
      "include_colab_link": true
    },
    "kernelspec": {
      "name": "python3",
      "display_name": "Python 3"
    },
    "language_info": {
      "name": "python"
    }
  },
  "cells": [
    {
      "cell_type": "markdown",
      "metadata": {
        "id": "view-in-github",
        "colab_type": "text"
      },
      "source": [
        "<a href=\"https://colab.research.google.com/github/IsidroJ/Colab_Archivos_Clase_PADP/blob/main/Pr%C3%A1ctica_15_Datos_Temporales_IJGH.ipynb\" target=\"_parent\"><img src=\"https://colab.research.google.com/assets/colab-badge.svg\" alt=\"Open In Colab\"/></a>"
      ]
    },
    {
      "cell_type": "markdown",
      "source": [
        "# **Datos Temporales**\n",
        "\n",
        "**El objetivo** de esta actividad es que los estudiantes practiquen los temas vistos de limpieza y transformación de datos categóricos.\n",
        "\n",
        "\n",
        "**Instrucciones:**\n",
        "\n",
        "1. Descarga el archivo airdata.csv, proporcionado en esta tarea. También lo puedes encontrar en recursos.\n",
        "2. Crea un notebook en colab y guarda el archivo csv  en tu drive.\n",
        "3. Agrega secciones en el colab poniendo como título el nombre de cada ejercicio."
      ],
      "metadata": {
        "id": "a12C3wlzhn-n"
      }
    },
    {
      "cell_type": "markdown",
      "source": [
        "# **Ejercicio 01:Tipo de Datos Correcto**\n",
        "\n",
        "1. Carga el conjunto de datos airdata.csv y verifica que cada columna tenga el tipo de datos correcto.\n",
        "2. Si una columna de tipo temporal no está en el tipo de correcto realiza la conversión.\n",
        "3. Usa dtypes para mostrar que cada columna, principalmente la que contiene datos temporales, está en el tipo de datos correcto.\n",
        "4. Imprime las primeras tres líneas."
      ],
      "metadata": {
        "id": "t_Y0-jXLimfX"
      }
    },
    {
      "cell_type": "markdown",
      "source": [
        "**1. Carga el conjunto de datos airdata.csv y verifica que cada columna tenga el tipo de datos correcto.**"
      ],
      "metadata": {
        "id": "pNo9usSIizdG"
      }
    },
    {
      "cell_type": "code",
      "execution_count": null,
      "metadata": {
        "colab": {
          "base_uri": "https://localhost:8080/"
        },
        "id": "4hanGa45g-y8",
        "outputId": "ff33d394-a75a-4103-a776-5d47789eb563"
      },
      "outputs": [
        {
          "output_type": "stream",
          "name": "stdout",
          "text": [
            "        DateTime  Temperature  Humidity  Wind_Speed  Wind_Direction  \\\n",
            "0  1/1/2020 0:00     2.180529        87    1.484318       75.963760   \n",
            "1  1/1/2020 1:00     1.490529        89    2.741678      113.198590   \n",
            "2  1/1/2020 2:00     1.690529        85    3.563818      135.000000   \n",
            "3  1/1/2020 3:00     1.430529        84    2.811690      129.805570   \n",
            "4  1/1/2020 4:00     0.840529        86    1.800000      126.869896   \n",
            "\n",
            "   NO2_Location_A  NO2_Location_B  NO2_Location_C  \n",
            "0           39.23           52.88           62.37  \n",
            "1           38.30           44.95           52.53  \n",
            "2             NaN           48.40           54.80  \n",
            "3           37.28           47.18           50.80  \n",
            "4           29.97           41.48           54.43  \n",
            "DateTime           object\n",
            "Temperature       float64\n",
            "Humidity            int64\n",
            "Wind_Speed        float64\n",
            "Wind_Direction    float64\n",
            "NO2_Location_A    float64\n",
            "NO2_Location_B    float64\n",
            "NO2_Location_C    float64\n",
            "dtype: object\n"
          ]
        }
      ],
      "source": [
        "import datetime as dt\n",
        "import pandas as pd\n",
        "\n",
        "df = pd.read_csv('/content/drive/MyDrive/1_ClassFiles/11_Calse 12-09-2025/Airdata.csv')\n",
        "\n",
        "print(df.head())\n",
        "print(df.dtypes)"
      ]
    },
    {
      "cell_type": "markdown",
      "source": [
        "**2. Si una columna de tipo temporal no está en el tipo de correcto realiza la conversión.**"
      ],
      "metadata": {
        "id": "spXbvgeTjR3y"
      }
    },
    {
      "cell_type": "code",
      "source": [
        "df['DateTime']=pd.to_datetime(df['DateTime'])\n"
      ],
      "metadata": {
        "id": "Rwl1_O0ojVjI"
      },
      "execution_count": null,
      "outputs": []
    },
    {
      "cell_type": "markdown",
      "source": [
        "**3. Usa dtypes para mostrar que cada columna, principalmente la que contiene datos temporales, está en el tipo de datos correcto.**"
      ],
      "metadata": {
        "id": "-eY3NC2jj1QW"
      }
    },
    {
      "cell_type": "code",
      "source": [
        "print(df.dtypes)"
      ],
      "metadata": {
        "colab": {
          "base_uri": "https://localhost:8080/"
        },
        "id": "81w4UAuFj17k",
        "outputId": "214622e0-8c2a-4470-d81f-841db047f812"
      },
      "execution_count": null,
      "outputs": [
        {
          "output_type": "stream",
          "name": "stdout",
          "text": [
            "DateTime          datetime64[ns]\n",
            "Temperature              float64\n",
            "Humidity                   int64\n",
            "Wind_Speed               float64\n",
            "Wind_Direction           float64\n",
            "NO2_Location_A           float64\n",
            "NO2_Location_B           float64\n",
            "NO2_Location_C           float64\n",
            "dtype: object\n"
          ]
        }
      ]
    },
    {
      "cell_type": "markdown",
      "source": [
        "**4. Imprime las primeras tres líneas.**"
      ],
      "metadata": {
        "id": "kYo-0CyzkB2I"
      }
    },
    {
      "cell_type": "code",
      "source": [
        "print(df.head(3))"
      ],
      "metadata": {
        "colab": {
          "base_uri": "https://localhost:8080/"
        },
        "id": "WLWOHmSekCLd",
        "outputId": "ae32f08c-df71-4aa4-fa52-48a578ad8e10"
      },
      "execution_count": null,
      "outputs": [
        {
          "output_type": "stream",
          "name": "stdout",
          "text": [
            "             DateTime  Temperature  Humidity  Wind_Speed  Wind_Direction  \\\n",
            "0 2020-01-01 00:00:00     2.180529        87    1.484318        75.96376   \n",
            "1 2020-01-01 01:00:00     1.490529        89    2.741678       113.19859   \n",
            "2 2020-01-01 02:00:00     1.690529        85    3.563818       135.00000   \n",
            "\n",
            "   NO2_Location_A  NO2_Location_B  NO2_Location_C  \n",
            "0           39.23           52.88           62.37  \n",
            "1           38.30           44.95           52.53  \n",
            "2             NaN           48.40           54.80  \n"
          ]
        }
      ]
    },
    {
      "cell_type": "markdown",
      "source": [
        "# **Ejercicio 02: Extraer componentes de fecha y tiempo**\n",
        "\n",
        "1. De la columna 'DateTime' extrae el año, mes, día y hora. Crea una nueva columna para cada componente que extraes.\n",
        "2. Imprime las primeras tres líneas del dataframe que ahora deberá tener 4 nuevas columnas."
      ],
      "metadata": {
        "id": "CxbUpEyRkOQy"
      }
    },
    {
      "cell_type": "markdown",
      "source": [
        "**1. De la columna 'DateTime' extrae el año, mes, día y hora. Crea una nueva columna para cada componente que extraes.**"
      ],
      "metadata": {
        "id": "BWyNP5mgkXnV"
      }
    },
    {
      "cell_type": "code",
      "source": [
        "print('------------------------------------------------------------------------------')\n",
        "print('\\033[1m De la columna \"DateTime\" extrae el año, mes, día y hora \\033[0m')\n",
        "print('------------------------------------------------------------------------------')\n",
        "print('Año: ',df['DateTime'].dt.year)\n",
        "print('Mes: ',df['DateTime'].dt.month)\n",
        "print('Dia: ',df['DateTime'].dt.day)\n",
        "print('Hora: ',df['DateTime'].dt.hour)\n",
        "\n",
        "\n",
        "#Crea una nueva columna para cada componente que extraes\n",
        "\n",
        "df['Año'] = df['DateTime'].dt.year\n",
        "df['Mes'] = df['DateTime'].dt.month\n",
        "df['Día'] = df['DateTime'].dt.day\n",
        "df['Hora'] = df['DateTime'].dt.hour\n"
      ],
      "metadata": {
        "colab": {
          "base_uri": "https://localhost:8080/"
        },
        "id": "-e7EsEtOka7M",
        "outputId": "ab7ad284-e202-46c9-bae8-9488ab2b7a79"
      },
      "execution_count": null,
      "outputs": [
        {
          "output_type": "stream",
          "name": "stdout",
          "text": [
            "------------------------------------------------------------------------------\n",
            "\u001b[1m De la columna \"DateTime\" extrae el año, mes, día y hora \u001b[0m\n",
            "------------------------------------------------------------------------------\n",
            "Año:  0       2020\n",
            "1       2020\n",
            "2       2020\n",
            "3       2020\n",
            "4       2020\n",
            "        ... \n",
            "8779    2020\n",
            "8780    2020\n",
            "8781    2020\n",
            "8782    2020\n",
            "8783    2020\n",
            "Name: DateTime, Length: 8784, dtype: int32\n",
            "Mes:  0        1\n",
            "1        1\n",
            "2        1\n",
            "3        1\n",
            "4        1\n",
            "        ..\n",
            "8779    12\n",
            "8780    12\n",
            "8781    12\n",
            "8782    12\n",
            "8783    12\n",
            "Name: DateTime, Length: 8784, dtype: int32\n",
            "Dia:  0        1\n",
            "1        1\n",
            "2        1\n",
            "3        1\n",
            "4        1\n",
            "        ..\n",
            "8779    31\n",
            "8780    31\n",
            "8781    31\n",
            "8782    31\n",
            "8783    31\n",
            "Name: DateTime, Length: 8784, dtype: int32\n",
            "Hora:  0        0\n",
            "1        1\n",
            "2        2\n",
            "3        3\n",
            "4        4\n",
            "        ..\n",
            "8779    19\n",
            "8780    20\n",
            "8781    21\n",
            "8782    22\n",
            "8783    23\n",
            "Name: DateTime, Length: 8784, dtype: int32\n"
          ]
        }
      ]
    },
    {
      "cell_type": "markdown",
      "source": [
        "**2. Imprime las primeras tres líneas del dataframe que ahora deberá tener 4 nuevas columnas.**"
      ],
      "metadata": {
        "id": "aaWBi-0FoQCl"
      }
    },
    {
      "cell_type": "code",
      "source": [
        "print(df.head(3))"
      ],
      "metadata": {
        "colab": {
          "base_uri": "https://localhost:8080/"
        },
        "id": "pidf7nBUoPLD",
        "outputId": "7006f113-5b6a-404c-ac56-443cbc19fd50"
      },
      "execution_count": null,
      "outputs": [
        {
          "output_type": "stream",
          "name": "stdout",
          "text": [
            "             DateTime  Temperature  Humidity  Wind_Speed  Wind_Direction  \\\n",
            "0 2020-01-01 00:00:00     2.180529        87    1.484318        75.96376   \n",
            "1 2020-01-01 01:00:00     1.490529        89    2.741678       113.19859   \n",
            "2 2020-01-01 02:00:00     1.690529        85    3.563818       135.00000   \n",
            "\n",
            "   NO2_Location_A  NO2_Location_B  NO2_Location_C   Año  Mes  Día  Hora  \n",
            "0           39.23           52.88           62.37  2020    1    1     0  \n",
            "1           38.30           44.95           52.53  2020    1    1     1  \n",
            "2             NaN           48.40           54.80  2020    1    1     2  \n"
          ]
        }
      ]
    },
    {
      "cell_type": "markdown",
      "source": [
        "# **Ejercicio 03: Aritmética - Suma de Intervalos (timedelta)**\n",
        "\n",
        "1. Suma 10 días, 7 horas y 15 minutos a cada elemento de la columna 'DateTime'. Guarda el resultado en una nueva columna y agrega al dataframe.\n",
        "2. Imprime la columna 'DateTime' y la columna que resulta de sumar 10 días, 7 horas y 15 minutos."
      ],
      "metadata": {
        "id": "6Y_7pkzSp6WT"
      }
    },
    {
      "cell_type": "markdown",
      "source": [
        "**1. Suma 10 días, 7 horas y 15 minutos a cada elemento de la columna 'DateTime'. Guarda el resultado en una nueva columna y agrega al dataframe.**"
      ],
      "metadata": {
        "id": "WTmiSBFdqS4f"
      }
    },
    {
      "cell_type": "code",
      "source": [
        "df['Nuevo_DateTime'] = df['DateTime'] + pd.Timedelta(days=10, hours=7, minutes=15)"
      ],
      "metadata": {
        "id": "nIvRDdhlqDqQ"
      },
      "execution_count": null,
      "outputs": []
    },
    {
      "cell_type": "markdown",
      "source": [
        "**2. Imprime la columna 'DateTime' y la columna que resulta de sumar 10 días, 7 horas y 15 minutos.**"
      ],
      "metadata": {
        "id": "BgwfFCF0uDnQ"
      }
    },
    {
      "cell_type": "code",
      "source": [
        "print(df[['DateTime', 'Nuevo_DateTime']])"
      ],
      "metadata": {
        "colab": {
          "base_uri": "https://localhost:8080/"
        },
        "id": "0pRZPnlPuD-j",
        "outputId": "75090c6a-57b4-4687-8df5-c8cbc341bd9d"
      },
      "execution_count": null,
      "outputs": [
        {
          "output_type": "stream",
          "name": "stdout",
          "text": [
            "                DateTime      Nuevo_DateTime\n",
            "0    2020-01-01 00:00:00 2020-01-11 07:15:00\n",
            "1    2020-01-01 01:00:00 2020-01-11 08:15:00\n",
            "2    2020-01-01 02:00:00 2020-01-11 09:15:00\n",
            "3    2020-01-01 03:00:00 2020-01-11 10:15:00\n",
            "4    2020-01-01 04:00:00 2020-01-11 11:15:00\n",
            "...                  ...                 ...\n",
            "8779 2020-12-31 19:00:00 2021-01-11 02:15:00\n",
            "8780 2020-12-31 20:00:00 2021-01-11 03:15:00\n",
            "8781 2020-12-31 21:00:00 2021-01-11 04:15:00\n",
            "8782 2020-12-31 22:00:00 2021-01-11 05:15:00\n",
            "8783 2020-12-31 23:00:00 2021-01-11 06:15:00\n",
            "\n",
            "[8784 rows x 2 columns]\n"
          ]
        }
      ]
    },
    {
      "cell_type": "markdown",
      "source": [
        "# **Ejercicio 04: Timestamp**\n",
        "\n",
        "1. Convierte la columna 'DateTime' la cual tiene un formato de fecha legible a a timestamp Unix. Guarda el resultado en una nueva columna.\n",
        "2. Imprime las primeras tres filas de  la columna 'DateTime' y la columna que representa dicha fecha en timestamp Unix."
      ],
      "metadata": {
        "id": "C4NSoaW2uTOJ"
      }
    },
    {
      "cell_type": "markdown",
      "source": [
        "**1. Convierte la columna 'DateTime' la cual tiene un formato de fecha legible a a timestamp Unix. Guarda el resultado en una nueva columna.**"
      ],
      "metadata": {
        "id": "-4a1P4iK2kG4"
      }
    },
    {
      "cell_type": "code",
      "source": [
        "import pandas as pd\n",
        "from datetime import timezone\n",
        "\n",
        "df['Timestamp_Unix'] = df['DateTime'].apply(lambda d: int(d.replace(tzinfo=timezone.utc).timestamp()))\n"
      ],
      "metadata": {
        "id": "QkKaODTtuais"
      },
      "execution_count": null,
      "outputs": []
    },
    {
      "cell_type": "markdown",
      "source": [
        "**2. Imprime las primeras tres filas de  la columna 'DateTime' y la columna que representa dicha fecha en timestamp Unix**"
      ],
      "metadata": {
        "id": "ooT20JRm1rvh"
      }
    },
    {
      "cell_type": "code",
      "source": [
        "print(df.head(3)[['DateTime', 'Timestamp_Unix']])\n"
      ],
      "metadata": {
        "colab": {
          "base_uri": "https://localhost:8080/"
        },
        "id": "NEaRrhDJ1sT-",
        "outputId": "b8a5ff90-d1b1-4393-e360-a7d38366b5e0"
      },
      "execution_count": null,
      "outputs": [
        {
          "output_type": "stream",
          "name": "stdout",
          "text": [
            "             DateTime  Timestamp_Unix\n",
            "0 2020-01-01 00:00:00      1577836800\n",
            "1 2020-01-01 01:00:00      1577840400\n",
            "2 2020-01-01 02:00:00      1577844000\n"
          ]
        }
      ]
    },
    {
      "cell_type": "markdown",
      "source": [
        "# **Ejercicio 05: Filtrado de Fechas**\n",
        "\n",
        "1. Utiliza la columna 'DateTime' y Filtra aquellas fechas que son mayores a 2020-11-01.\n",
        "2. Imprime el resultado."
      ],
      "metadata": {
        "id": "_BDHXLPg24I_"
      }
    },
    {
      "cell_type": "markdown",
      "source": [
        "**1. Utiliza la columna 'DateTime' y Filtra aquellas fechas que son mayores a 2020-11-01.**"
      ],
      "metadata": {
        "id": "IakPQrus3DkG"
      }
    },
    {
      "cell_type": "code",
      "source": [
        "df_filtrado = df[df['DateTime'] > '2020-11-01']\n"
      ],
      "metadata": {
        "id": "EX9SszOo3En8"
      },
      "execution_count": null,
      "outputs": []
    },
    {
      "cell_type": "markdown",
      "source": [
        "**2. Imprime el resultado.**"
      ],
      "metadata": {
        "id": "tS3xCZF-3pFI"
      }
    },
    {
      "cell_type": "code",
      "source": [
        "print(df_filtrado)"
      ],
      "metadata": {
        "colab": {
          "base_uri": "https://localhost:8080/"
        },
        "id": "77fnOWvW3ptZ",
        "outputId": "0ba0588d-bb44-415b-d69d-384a2debf875"
      },
      "execution_count": null,
      "outputs": [
        {
          "output_type": "stream",
          "name": "stdout",
          "text": [
            "                DateTime  Temperature  Humidity  Wind_Speed  Wind_Direction  \\\n",
            "7321 2020-11-01 01:00:00    13.620529        58    6.638072       130.60129   \n",
            "7322 2020-11-01 02:00:00    13.980529        40    6.618519       157.61987   \n",
            "7323 2020-11-01 03:00:00    13.010529        43    8.209263       164.74487   \n",
            "7324 2020-11-01 04:00:00    12.190529        51    7.568566       154.65382   \n",
            "7325 2020-11-01 05:00:00    12.510529        59    7.594208       148.57043   \n",
            "...                  ...          ...       ...         ...             ...   \n",
            "8779 2020-12-31 19:00:00     4.920528        72    4.553680       251.56506   \n",
            "8780 2020-12-31 20:00:00     4.990529        74    3.259939       186.34020   \n",
            "8781 2020-12-31 21:00:00     4.360529        84   10.587917       252.18112   \n",
            "8782 2020-12-31 22:00:00     3.820528        88    8.435069       219.80557   \n",
            "8783 2020-12-31 23:00:00     3.170529        89    6.792466       212.00539   \n",
            "\n",
            "      NO2_Location_A  NO2_Location_B  NO2_Location_C   Año  Mes  Día  Hora  \\\n",
            "7321           17.50           23.88           44.07  2020   11    1     1   \n",
            "7322           13.38           18.92           35.80  2020   11    1     2   \n",
            "7323           11.95           13.95           30.15  2020   11    1     3   \n",
            "7324           10.10           14.35           31.45  2020   11    1     4   \n",
            "7325           10.30           14.42           32.55  2020   11    1     5   \n",
            "...              ...             ...             ...   ...  ...  ...   ...   \n",
            "8779           53.44           32.65           66.82  2020   12   31    19   \n",
            "8780           49.80           34.03           67.31  2020   12   31    20   \n",
            "8781           43.32           25.55           59.33  2020   12   31    21   \n",
            "8782           39.88           19.90           43.70  2020   12   31    22   \n",
            "8783           39.04           30.33           46.87  2020   12   31    23   \n",
            "\n",
            "          Nuevo_DateTime  Timestamp_Unix  \n",
            "7321 2020-11-11 08:15:00      1604192400  \n",
            "7322 2020-11-11 09:15:00      1604196000  \n",
            "7323 2020-11-11 10:15:00      1604199600  \n",
            "7324 2020-11-11 11:15:00      1604203200  \n",
            "7325 2020-11-11 12:15:00      1604206800  \n",
            "...                  ...             ...  \n",
            "8779 2021-01-11 02:15:00      1609441200  \n",
            "8780 2021-01-11 03:15:00      1609444800  \n",
            "8781 2021-01-11 04:15:00      1609448400  \n",
            "8782 2021-01-11 05:15:00      1609452000  \n",
            "8783 2021-01-11 06:15:00      1609455600  \n",
            "\n",
            "[1463 rows x 14 columns]\n"
          ]
        }
      ]
    }
  ]
}