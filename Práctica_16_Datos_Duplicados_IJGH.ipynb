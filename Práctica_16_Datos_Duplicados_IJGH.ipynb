{
  "nbformat": 4,
  "nbformat_minor": 0,
  "metadata": {
    "colab": {
      "provenance": [],
      "mount_file_id": "1D9SY8NbYgsXuntvai1k4TtGdKvD-M05x",
      "authorship_tag": "ABX9TyMMxaV6xHYpe/csU8dK13GF",
      "include_colab_link": true
    },
    "kernelspec": {
      "name": "python3",
      "display_name": "Python 3"
    },
    "language_info": {
      "name": "python"
    }
  },
  "cells": [
    {
      "cell_type": "markdown",
      "metadata": {
        "id": "view-in-github",
        "colab_type": "text"
      },
      "source": [
        "<a href=\"https://colab.research.google.com/github/IsidroJ/Colab_Archivos_Clase_PADP/blob/main/Pr%C3%A1ctica_16_Datos_Duplicados_IJGH.ipynb\" target=\"_parent\"><img src=\"https://colab.research.google.com/assets/colab-badge.svg\" alt=\"Open In Colab\"/></a>"
      ]
    },
    {
      "cell_type": "markdown",
      "source": [
        "# **Práctica 16: Datos Duplicados**\n",
        "\n",
        "El **objetivo** de esta actividad es que los estudiantes pongan en práctica lo visto en el vídeo y en el notebook que se proporciona.\n",
        "\n",
        "Instrucciones:\n",
        "\n",
        "1. Descarga el archivo dirtydata.csv, proporcionado en esta tarea También lo puedes encontrar en recursos.\n",
        "2. Crea un notebook en colab y guarda el archivo csv  en tu drive.\n",
        "3. Agrega secciones en el colab poniendo como título el nombre de cada ejercicio."
      ],
      "metadata": {
        "id": "ApmL41AkGlNi"
      }
    },
    {
      "cell_type": "markdown",
      "source": [
        "# **Ejercicio 01. Datos Perdidos.**\n",
        "\n",
        "1. Carga el conjunto de datos dirty.csv y verifica que su carga sea correcta.\n",
        "2. Imprime la cantidad de datos perdidos que tiene el conjunto de datos.\n",
        "3. Calcula la media de la columna Calories.\n",
        "4. Aplica imputación por promedio (mean) en la columna Calories.\n",
        "5. Calcula de nuevo la media de la columna Calories después de que has imputado."
      ],
      "metadata": {
        "id": "xtB3ZGJrHGRX"
      }
    },
    {
      "cell_type": "markdown",
      "source": [
        "**1. Carga el conjunto de datos dirty.csv y verifica que su carga sea correcta.**"
      ],
      "metadata": {
        "id": "6kZ5pqiCHkQp"
      }
    },
    {
      "cell_type": "code",
      "source": [
        "import pandas as pd\n",
        "import numpy as np\n",
        "\n",
        "df = pd.read_csv('/content/drive/MyDrive/1_ClassFiles/13_Clase 19-09-2025/dirtydata.csv')\n",
        "print(df)"
      ],
      "metadata": {
        "colab": {
          "base_uri": "https://localhost:8080/"
        },
        "id": "z1yrXoULHhDP",
        "outputId": "139c5389-a832-4582-9dfb-0269457b24a3"
      },
      "execution_count": 54,
      "outputs": [
        {
          "output_type": "stream",
          "name": "stdout",
          "text": [
            "    Duration          Date  Pulse  Maxpulse  Calories\n",
            "0         60  '2020/12/01'    110       130     409.1\n",
            "1         60  '2020/12/02'    117       145     479.0\n",
            "2         60  '2020/12/03'    103       135     340.0\n",
            "3         45  '2020/12/04'    109       175     282.4\n",
            "4         45  '2020/12/05'    117       148     406.0\n",
            "5         60  '2020/12/06'    102       127     300.0\n",
            "6         60  '2020/12/07'    110       136     374.0\n",
            "7        450  '2020/12/08'    104       134     253.3\n",
            "8         30  '2020/12/09'    109       133     195.1\n",
            "9         60  '2020/12/10'     98       124     269.0\n",
            "10        60  '2020/12/11'    103       147     329.3\n",
            "11        60  '2020/12/12'    100       120     250.7\n",
            "12        60  '2020/12/12'    100       120     250.7\n",
            "13        60  '2020/12/13'    106       128     345.3\n",
            "14        60  '2020/12/14'    104       132     379.3\n",
            "15        60  '2020/12/15'     98       123     275.0\n",
            "16        60  '2020/12/16'     98       120     215.2\n",
            "17        60  '2020/12/17'    100       120     300.0\n",
            "18        45  '2020/12/18'     90       112       NaN\n",
            "19        60  '2020/12/19'    103       123     323.0\n",
            "20        45  '2020/12/20'     97       125     243.0\n",
            "21        60  '2020/12/21'    108       131     364.2\n",
            "22        45           NaN    100       119     282.0\n",
            "23        60  '2020/12/23'    130       101     300.0\n",
            "24        45  '2020/12/24'    105       132     246.0\n",
            "25        60  '2020/12/25'    102       126     334.5\n",
            "26        60      20201226    100       120     250.0\n",
            "27        60  '2020/12/27'     92       118     241.0\n",
            "28        60  '2020/12/28'    103       132       NaN\n",
            "29        60  '2020/12/29'    100       132     280.0\n",
            "30        60  '2020/12/30'    102       129     380.3\n",
            "31        60  '2020/12/31'     92       115     243.0\n"
          ]
        }
      ]
    },
    {
      "cell_type": "markdown",
      "source": [
        "**2. Imprime la cantidad de datos perdidos que tiene el conjunto de datos.**"
      ],
      "metadata": {
        "id": "pXdzlKYYOrQO"
      }
    },
    {
      "cell_type": "code",
      "execution_count": 55,
      "metadata": {
        "colab": {
          "base_uri": "https://localhost:8080/"
        },
        "id": "9mMA9lghGEo9",
        "outputId": "8753e0bf-fe97-438e-a473-4f1d8cc67407"
      },
      "outputs": [
        {
          "output_type": "stream",
          "name": "stdout",
          "text": [
            "------------------------------------------------------------------------------\n",
            "\u001b[1m Cantidad total de datos perdidos \u001b[0m\n",
            "------------------------------------------------------------------------------\n",
            "Total:  3\n",
            "\n",
            "\n",
            "------------------------------------------------------------------------------\n",
            "\u001b[1m Cantidad de datos perdidos pro columna \u001b[0m\n",
            "------------------------------------------------------------------------------\n",
            "Duration    0\n",
            "Date        1\n",
            "Pulse       0\n",
            "Maxpulse    0\n",
            "Calories    2\n",
            "dtype: int64\n"
          ]
        }
      ],
      "source": [
        "#print(df.isna())\n",
        "print('------------------------------------------------------------------------------')\n",
        "print('\\033[1m Cantidad total de datos perdidos \\033[0m')\n",
        "print('------------------------------------------------------------------------------')\n",
        "print('Total: ', df.isnull().sum().sum())\n",
        "print('\\n')\n",
        "\n",
        "\n",
        "print('------------------------------------------------------------------------------')\n",
        "print('\\033[1m Cantidad de datos perdidos pro columna \\033[0m')\n",
        "print('------------------------------------------------------------------------------')\n",
        "print(df.isnull().sum())"
      ]
    },
    {
      "cell_type": "markdown",
      "source": [
        "**3. Calcula la media de la columna Calories.**"
      ],
      "metadata": {
        "id": "pOZgNOsrOxlN"
      }
    },
    {
      "cell_type": "code",
      "source": [
        "print('------------------------------------------------------------------------------')\n",
        "print('\\033[1m Valor promedio de la columna Calories \\033[0m')\n",
        "print('------------------------------------------------------------------------------')\n",
        "PromedioCalorias = df['Calories'].mean()\n",
        "print(PromedioCalorias)"
      ],
      "metadata": {
        "colab": {
          "base_uri": "https://localhost:8080/"
        },
        "id": "XJKZsKTqO3Nc",
        "outputId": "c9fd2fab-716f-4532-8082-0cfba97d44bf"
      },
      "execution_count": 56,
      "outputs": [
        {
          "output_type": "stream",
          "name": "stdout",
          "text": [
            "------------------------------------------------------------------------------\n",
            "\u001b[1m Valor promedio de la columna Calories \u001b[0m\n",
            "------------------------------------------------------------------------------\n",
            "304.68\n"
          ]
        }
      ]
    },
    {
      "cell_type": "markdown",
      "source": [
        "**4. Aplica imputación por promedio (mean) en la columna Calories.**"
      ],
      "metadata": {
        "id": "Z5Z9XLNVPRlC"
      }
    },
    {
      "cell_type": "code",
      "source": [
        "print('------------------------------------------------------------------------------')\n",
        "print('\\033[1m Imputación por promedio a la columna \"Calories\" \\033[0m')\n",
        "print('------------------------------------------------------------------------------')\n",
        "\n",
        "df['Calories'].fillna(PromedioCalorias, inplace=True)  #.fillna() Es un método de Pandas que se utiliza para rellenar valores faltantes (NaN) en una Serie o DataFrame.\n",
        "print(df)"
      ],
      "metadata": {
        "colab": {
          "base_uri": "https://localhost:8080/"
        },
        "id": "L35hw7LNPUYf",
        "outputId": "586b36cd-f48e-4a41-aa6d-09ac502c05f0"
      },
      "execution_count": 59,
      "outputs": [
        {
          "output_type": "stream",
          "name": "stdout",
          "text": [
            "------------------------------------------------------------------------------\n",
            "\u001b[1m Imputación por promedio a la columna \"Calories\" \u001b[0m\n",
            "------------------------------------------------------------------------------\n",
            "    Duration          Date  Pulse  Maxpulse  Calories\n",
            "0         60  '2020/12/01'    110       130    409.10\n",
            "1         60  '2020/12/02'    117       145    479.00\n",
            "2         60  '2020/12/03'    103       135    340.00\n",
            "3         45  '2020/12/04'    109       175    282.40\n",
            "4         45  '2020/12/05'    117       148    406.00\n",
            "5         60  '2020/12/06'    102       127    300.00\n",
            "6         60  '2020/12/07'    110       136    374.00\n",
            "7        450  '2020/12/08'    104       134    253.30\n",
            "8         30  '2020/12/09'    109       133    195.10\n",
            "9         60  '2020/12/10'     98       124    269.00\n",
            "10        60  '2020/12/11'    103       147    329.30\n",
            "11        60  '2020/12/12'    100       120    250.70\n",
            "12        60  '2020/12/12'    100       120    250.70\n",
            "13        60  '2020/12/13'    106       128    345.30\n",
            "14        60  '2020/12/14'    104       132    379.30\n",
            "15        60  '2020/12/15'     98       123    275.00\n",
            "16        60  '2020/12/16'     98       120    215.20\n",
            "17        60  '2020/12/17'    100       120    300.00\n",
            "18        45  '2020/12/18'     90       112    304.68\n",
            "19        60  '2020/12/19'    103       123    323.00\n",
            "20        45  '2020/12/20'     97       125    243.00\n",
            "21        60  '2020/12/21'    108       131    364.20\n",
            "22        45           NaN    100       119    282.00\n",
            "23        60  '2020/12/23'    130       101    300.00\n",
            "24        45  '2020/12/24'    105       132    246.00\n",
            "25        60  '2020/12/25'    102       126    334.50\n",
            "26        60      20201226    100       120    250.00\n",
            "27        60  '2020/12/27'     92       118    241.00\n",
            "28        60  '2020/12/28'    103       132    304.68\n",
            "29        60  '2020/12/29'    100       132    280.00\n",
            "30        60  '2020/12/30'    102       129    380.30\n",
            "31        60  '2020/12/31'     92       115    243.00\n"
          ]
        },
        {
          "output_type": "stream",
          "name": "stderr",
          "text": [
            "/tmp/ipython-input-3584038935.py:5: FutureWarning: A value is trying to be set on a copy of a DataFrame or Series through chained assignment using an inplace method.\n",
            "The behavior will change in pandas 3.0. This inplace method will never work because the intermediate object on which we are setting values always behaves as a copy.\n",
            "\n",
            "For example, when doing 'df[col].method(value, inplace=True)', try using 'df.method({col: value}, inplace=True)' or df[col] = df[col].method(value) instead, to perform the operation inplace on the original object.\n",
            "\n",
            "\n",
            "  df['Calories'].fillna(PromedioCalorias, inplace=True)  #.fillna() Es un método de Pandas que se utiliza para rellenar valores faltantes (NaN) en una Serie o DataFrame.\n"
          ]
        }
      ]
    },
    {
      "cell_type": "markdown",
      "source": [
        "**5. Calcula de nuevo la media de la columna Calories después de que has imputado.**"
      ],
      "metadata": {
        "id": "GK02TnY1SBpq"
      }
    },
    {
      "cell_type": "code",
      "source": [
        "print('------------------------------------------------------------------------------')\n",
        "print('\\033[1m Nuevo valor promedio de la columna \"Calories\" \\033[0m')\n",
        "print('------------------------------------------------------------------------------')\n",
        "\n",
        "NuevoPromedioCalorias = df['Calories'].mean()\n",
        "print(NuevoPromedioCalorias)"
      ],
      "metadata": {
        "colab": {
          "base_uri": "https://localhost:8080/"
        },
        "id": "jN2fBOC1SHE7",
        "outputId": "8d3d0dbd-9ca5-4e03-d10a-2f256a4d25ce"
      },
      "execution_count": 60,
      "outputs": [
        {
          "output_type": "stream",
          "name": "stdout",
          "text": [
            "------------------------------------------------------------------------------\n",
            "\u001b[1m Nuevo valor promedio de la columna \"Calories\" \u001b[0m\n",
            "------------------------------------------------------------------------------\n",
            "304.67999999999995\n"
          ]
        }
      ]
    },
    {
      "cell_type": "markdown",
      "source": [
        "# **Ejercicio 02. Duplicidad Parcial Una columna: Contar y Filtrar los registros duplicados en Duration**\n",
        "\n",
        "1. Carga el conjunto de datos dirty.csv y verifica que su carga sea correcta.\n",
        "2. Cuenta la cantidad de registros duplicados utilizando solo la información de columna Duration e imprime.\n",
        "3. Utiliza value_counts() e imprime la cantidad de registros que hay por cada valor único.\n",
        "4. Filtra los datos y obten los registros sin duplicados."
      ],
      "metadata": {
        "id": "ROBT4KeJS4rk"
      }
    },
    {
      "cell_type": "markdown",
      "source": [
        "**1. Carga el conjunto de datos dirty.csv y verifica que su carga sea correcta.**"
      ],
      "metadata": {
        "id": "H33HMATdTDOV"
      }
    },
    {
      "cell_type": "code",
      "source": [
        "import pandas as pd\n",
        "\n",
        "df = pd.read_csv('/content/drive/MyDrive/1_ClassFiles/13_Clase 19-09-2025/dirtydata.csv')\n",
        "print(df)"
      ],
      "metadata": {
        "colab": {
          "base_uri": "https://localhost:8080/"
        },
        "id": "C5T4yyUhTCrC",
        "outputId": "c52d99af-5447-4f67-94ca-c04f4bcd8156"
      },
      "execution_count": 61,
      "outputs": [
        {
          "output_type": "stream",
          "name": "stdout",
          "text": [
            "    Duration          Date  Pulse  Maxpulse  Calories\n",
            "0         60  '2020/12/01'    110       130     409.1\n",
            "1         60  '2020/12/02'    117       145     479.0\n",
            "2         60  '2020/12/03'    103       135     340.0\n",
            "3         45  '2020/12/04'    109       175     282.4\n",
            "4         45  '2020/12/05'    117       148     406.0\n",
            "5         60  '2020/12/06'    102       127     300.0\n",
            "6         60  '2020/12/07'    110       136     374.0\n",
            "7        450  '2020/12/08'    104       134     253.3\n",
            "8         30  '2020/12/09'    109       133     195.1\n",
            "9         60  '2020/12/10'     98       124     269.0\n",
            "10        60  '2020/12/11'    103       147     329.3\n",
            "11        60  '2020/12/12'    100       120     250.7\n",
            "12        60  '2020/12/12'    100       120     250.7\n",
            "13        60  '2020/12/13'    106       128     345.3\n",
            "14        60  '2020/12/14'    104       132     379.3\n",
            "15        60  '2020/12/15'     98       123     275.0\n",
            "16        60  '2020/12/16'     98       120     215.2\n",
            "17        60  '2020/12/17'    100       120     300.0\n",
            "18        45  '2020/12/18'     90       112       NaN\n",
            "19        60  '2020/12/19'    103       123     323.0\n",
            "20        45  '2020/12/20'     97       125     243.0\n",
            "21        60  '2020/12/21'    108       131     364.2\n",
            "22        45           NaN    100       119     282.0\n",
            "23        60  '2020/12/23'    130       101     300.0\n",
            "24        45  '2020/12/24'    105       132     246.0\n",
            "25        60  '2020/12/25'    102       126     334.5\n",
            "26        60      20201226    100       120     250.0\n",
            "27        60  '2020/12/27'     92       118     241.0\n",
            "28        60  '2020/12/28'    103       132       NaN\n",
            "29        60  '2020/12/29'    100       132     280.0\n",
            "30        60  '2020/12/30'    102       129     380.3\n",
            "31        60  '2020/12/31'     92       115     243.0\n"
          ]
        }
      ]
    },
    {
      "cell_type": "markdown",
      "source": [
        "**2. Cuenta la cantidad de registros duplicados utilizando solo la información de columna Duration e imprime.**"
      ],
      "metadata": {
        "id": "5mWBVrGYTX4q"
      }
    },
    {
      "cell_type": "code",
      "source": [
        "ND_Duración = df.duplicated(subset=['Duration'], keep=False).sum()\n",
        "print('------------------------------------------------------------------------------')\n",
        "print('\\033[1m Número total de registros duplicados para la columna \"Duration\" (todas las apariciones) es: \\033[0m')\n",
        "print('------------------------------------------------------------------------------')\n",
        "print(ND_Duración)"
      ],
      "metadata": {
        "colab": {
          "base_uri": "https://localhost:8080/"
        },
        "id": "Z4khPhKQTZXC",
        "outputId": "7c2d7237-903b-4165-d6da-a4271e7ffa02"
      },
      "execution_count": 63,
      "outputs": [
        {
          "output_type": "stream",
          "name": "stdout",
          "text": [
            "------------------------------------------------------------------------------\n",
            "\u001b[1m Número total de registros duplicados para la columna \"Duration\" (todas las apariciones) es: \u001b[0m\n",
            "------------------------------------------------------------------------------\n",
            "30\n"
          ]
        }
      ]
    },
    {
      "cell_type": "markdown",
      "source": [
        "**3. Utiliza value_counts() e imprime la cantidad de registros que hay por cada valor único.**"
      ],
      "metadata": {
        "id": "g78WAsXqVH3s"
      }
    },
    {
      "cell_type": "code",
      "source": [
        "CD_Duration = df['Duration'].value_counts()\n",
        "print('------------------------------------------------------------------------------')\n",
        "print('\\033[1m Todos los valores únicos y sus respectivas cantidades en la columna \"Duration\" es: \\033[0m')\n",
        "print('------------------------------------------------------------------------------')\n",
        "print(CD_Duration)"
      ],
      "metadata": {
        "colab": {
          "base_uri": "https://localhost:8080/"
        },
        "id": "vhDOKT7oVR-X",
        "outputId": "12e23541-48aa-410e-8a6f-18789a57ea52"
      },
      "execution_count": 64,
      "outputs": [
        {
          "output_type": "stream",
          "name": "stdout",
          "text": [
            "------------------------------------------------------------------------------\n",
            "\u001b[1m Todos los valores únicos y sus respectivas cantidades en la columna \"Duration\" es: \u001b[0m\n",
            "------------------------------------------------------------------------------\n",
            "Duration\n",
            "60     24\n",
            "45      6\n",
            "450     1\n",
            "30      1\n",
            "Name: count, dtype: int64\n"
          ]
        }
      ]
    },
    {
      "cell_type": "markdown",
      "source": [
        "**4. Filtra los datos y obten los registros sin duplicados.**"
      ],
      "metadata": {
        "id": "KMWsSff3WDEi"
      }
    },
    {
      "cell_type": "code",
      "source": [
        "print('------------------------------------------------------------------------------')\n",
        "print('\\033[1m Filtra los datos duplicados de la columna Duration y conserva la primera aparición \\033[0m')\n",
        "print('------------------------------------------------------------------------------')\n",
        "SinDuplicados = df.drop_duplicates(subset=['Duration'])\n",
        "print(SinDuplicados)"
      ],
      "metadata": {
        "colab": {
          "base_uri": "https://localhost:8080/"
        },
        "id": "S4OCsN5SWFBb",
        "outputId": "9e6b7ae6-97bd-492e-fa67-95e50aff6516"
      },
      "execution_count": 65,
      "outputs": [
        {
          "output_type": "stream",
          "name": "stdout",
          "text": [
            "------------------------------------------------------------------------------\n",
            "\u001b[1m Filtra los datos duplicados de la columna Duration y conserva la primera aparición \u001b[0m\n",
            "------------------------------------------------------------------------------\n",
            "   Duration          Date  Pulse  Maxpulse  Calories\n",
            "0        60  '2020/12/01'    110       130     409.1\n",
            "3        45  '2020/12/04'    109       175     282.4\n",
            "7       450  '2020/12/08'    104       134     253.3\n",
            "8        30  '2020/12/09'    109       133     195.1\n"
          ]
        }
      ]
    },
    {
      "cell_type": "markdown",
      "source": [
        "# **Ejercicio 03 Duplicidad Parcial Dos columnas: Contar y Filtrar los registros duplicados en Pulse y MaxPulse**\n",
        "\n",
        "1. Carga el conjunto de datos dirty.csv y verifica que su carga sea correcta.\n",
        "2. Cuenta la cantidad de registros duplicados utilizando la información de las columnas Pulse y Maxpulse.\n",
        "3. Utiliza value_counts() e imprime la cantidad de registros que hay por cada valor único.\n",
        "4. Filtra los datos y obten los registros cuando keep = 'last'."
      ],
      "metadata": {
        "id": "nX_Rcdi_YTSJ"
      }
    },
    {
      "cell_type": "markdown",
      "source": [
        "**1. Carga el conjunto de datos dirty.csv y verifica que su carga sea correcta.**\n",
        "\n"
      ],
      "metadata": {
        "id": "Q-BRfaTEYfrS"
      }
    },
    {
      "cell_type": "code",
      "source": [
        "import pandas as pd\n",
        "\n",
        "df = pd.read_csv('/content/drive/MyDrive/1_ClassFiles/13_Clase 19-09-2025/dirtydata.csv')\n",
        "print(df)"
      ],
      "metadata": {
        "colab": {
          "base_uri": "https://localhost:8080/"
        },
        "id": "PxBz5o_gYe8K",
        "outputId": "b18279ef-69d7-4421-d6c7-3c3c5faa4d2d"
      },
      "execution_count": 75,
      "outputs": [
        {
          "output_type": "stream",
          "name": "stdout",
          "text": [
            "    Duration          Date  Pulse  Maxpulse  Calories\n",
            "0         60  '2020/12/01'    110       130     409.1\n",
            "1         60  '2020/12/02'    117       145     479.0\n",
            "2         60  '2020/12/03'    103       135     340.0\n",
            "3         45  '2020/12/04'    109       175     282.4\n",
            "4         45  '2020/12/05'    117       148     406.0\n",
            "5         60  '2020/12/06'    102       127     300.0\n",
            "6         60  '2020/12/07'    110       136     374.0\n",
            "7        450  '2020/12/08'    104       134     253.3\n",
            "8         30  '2020/12/09'    109       133     195.1\n",
            "9         60  '2020/12/10'     98       124     269.0\n",
            "10        60  '2020/12/11'    103       147     329.3\n",
            "11        60  '2020/12/12'    100       120     250.7\n",
            "12        60  '2020/12/12'    100       120     250.7\n",
            "13        60  '2020/12/13'    106       128     345.3\n",
            "14        60  '2020/12/14'    104       132     379.3\n",
            "15        60  '2020/12/15'     98       123     275.0\n",
            "16        60  '2020/12/16'     98       120     215.2\n",
            "17        60  '2020/12/17'    100       120     300.0\n",
            "18        45  '2020/12/18'     90       112       NaN\n",
            "19        60  '2020/12/19'    103       123     323.0\n",
            "20        45  '2020/12/20'     97       125     243.0\n",
            "21        60  '2020/12/21'    108       131     364.2\n",
            "22        45           NaN    100       119     282.0\n",
            "23        60  '2020/12/23'    130       101     300.0\n",
            "24        45  '2020/12/24'    105       132     246.0\n",
            "25        60  '2020/12/25'    102       126     334.5\n",
            "26        60      20201226    100       120     250.0\n",
            "27        60  '2020/12/27'     92       118     241.0\n",
            "28        60  '2020/12/28'    103       132       NaN\n",
            "29        60  '2020/12/29'    100       132     280.0\n",
            "30        60  '2020/12/30'    102       129     380.3\n",
            "31        60  '2020/12/31'     92       115     243.0\n"
          ]
        }
      ]
    },
    {
      "cell_type": "markdown",
      "source": [
        "**2. Cuenta la cantidad de registros duplicados utilizando la información de las columnas Pulse y Maxpulse.**"
      ],
      "metadata": {
        "id": "EQIirBvdYnen"
      }
    },
    {
      "cell_type": "code",
      "source": [
        "NDM_PyM = df.duplicated(subset=['Pulse', 'Maxpulse'], keep=False).sum()\n",
        "print('------------------------------------------------------------------------------')\n",
        "print('\\033[1m Número total de registros duplicados considerando \"Pulse\" y \"Maxpulse\" (todas las apariciones y se repiten juntos): \\033[0m')\n",
        "print('------------------------------------------------------------------------------')\n",
        "print(NDM_PyM)\n"
      ],
      "metadata": {
        "colab": {
          "base_uri": "https://localhost:8080/"
        },
        "id": "JPUJbb9HY0gj",
        "outputId": "b15982b7-1f49-4979-da88-94c5b430f2a4"
      },
      "execution_count": 76,
      "outputs": [
        {
          "output_type": "stream",
          "name": "stdout",
          "text": [
            "------------------------------------------------------------------------------\n",
            "\u001b[1m Número total de registros duplicados considerando \"Pulse\" y \"Maxpulse\" (todas las apariciones y se repiten juntos): \u001b[0m\n",
            "------------------------------------------------------------------------------\n",
            "4\n"
          ]
        }
      ]
    },
    {
      "cell_type": "markdown",
      "source": [
        "**3. Utiliza value_counts() e imprime la cantidad de registros que hay por cada valor único.**"
      ],
      "metadata": {
        "id": "dWsrADB6cVVJ"
      }
    },
    {
      "cell_type": "code",
      "source": [
        "CVU_PyM = df[['Pulse', 'Maxpulse']].value_counts()\n",
        "print('------------------------------------------------------------------------------')\n",
        "print('\\033[1m Todos los valores únicos y sus respectivas cantidades de las columnas \"Pulse\" y \"Maxpulse\" es: \\033[0m')\n",
        "print('------------------------------------------------------------------------------')\n",
        "print(CVU_PyM)"
      ],
      "metadata": {
        "colab": {
          "base_uri": "https://localhost:8080/"
        },
        "id": "gQPaGhm6cYlY",
        "outputId": "e5b3d962-a409-420c-c3dd-2b3bd1276c78"
      },
      "execution_count": 78,
      "outputs": [
        {
          "output_type": "stream",
          "name": "stdout",
          "text": [
            "------------------------------------------------------------------------------\n",
            "\u001b[1m Todos los valores únicos y sus respectivas cantidades de las columnas \"Pulse\" y \"Maxpulse\" es: \u001b[0m\n",
            "------------------------------------------------------------------------------\n",
            "Pulse  Maxpulse\n",
            "100    120         4\n",
            "92     115         1\n",
            "       118         1\n",
            "97     125         1\n",
            "90     112         1\n",
            "98     120         1\n",
            "       123         1\n",
            "       124         1\n",
            "100    119         1\n",
            "       132         1\n",
            "102    126         1\n",
            "       127         1\n",
            "       129         1\n",
            "103    123         1\n",
            "       132         1\n",
            "       135         1\n",
            "       147         1\n",
            "104    132         1\n",
            "       134         1\n",
            "105    132         1\n",
            "106    128         1\n",
            "108    131         1\n",
            "109    133         1\n",
            "       175         1\n",
            "110    130         1\n",
            "       136         1\n",
            "117    145         1\n",
            "       148         1\n",
            "130    101         1\n",
            "Name: count, dtype: int64\n"
          ]
        }
      ]
    },
    {
      "cell_type": "markdown",
      "source": [
        "**4. Filtra los datos y obten los registros cuando keep = 'last'.**"
      ],
      "metadata": {
        "id": "FS2-RpQcf7OS"
      }
    },
    {
      "cell_type": "code",
      "source": [
        "print('------------------------------------------------------------------------------')\n",
        "print('\\033[1m Filtra los datos y obten los registros cuando keep = \"last\" de las columnas \"Pulse\" y \"Maxpulse\": \\033[0m')\n",
        "print('------------------------------------------------------------------------------')\n",
        "\n",
        "print(df[df.duplicated(subset=['Pulse', 'Maxpulse'], keep='last')])\n"
      ],
      "metadata": {
        "colab": {
          "base_uri": "https://localhost:8080/"
        },
        "id": "N4KYy15OgAm1",
        "outputId": "8f4a2383-1f73-4626-8edb-b7b6e1ade65d"
      },
      "execution_count": 84,
      "outputs": [
        {
          "output_type": "stream",
          "name": "stdout",
          "text": [
            "------------------------------------------------------------------------------\n",
            "\u001b[1m Filtra los datos y obten los registros cuando keep = \"last\" de las columnas \"Pulse\" y \"Maxpulse\": \u001b[0m\n",
            "------------------------------------------------------------------------------\n",
            "    Duration          Date  Pulse  Maxpulse  Calories\n",
            "11        60  '2020/12/12'    100       120     250.7\n",
            "12        60  '2020/12/12'    100       120     250.7\n",
            "17        60  '2020/12/17'    100       120     300.0\n"
          ]
        }
      ]
    },
    {
      "cell_type": "markdown",
      "source": [
        "# **Ejercicio 04 Duplicidad Total o Exacta: Contar y Filtrar los registros duplicados**\n",
        "\n",
        "1. Carga el conjunto de datos dirty.csv y verifica que su carga sea correcta.\n",
        "2. Cuenta la cantidad de registros duplicados exactos (todas las columnas).\n",
        "3. Utiliza sum() e imprime la cantidad de registros con duplicidad exacta.\n",
        "4. Filtra los datos y obten los registros cuando keep = 'last'."
      ],
      "metadata": {
        "id": "mfsudoB5hJjX"
      }
    },
    {
      "cell_type": "code",
      "source": [
        "import pandas as pd\n",
        "\n",
        "df = pd.read_csv('/content/drive/MyDrive/1_ClassFiles/13_Clase 19-09-2025/dirtydata.csv')\n",
        "print(df)"
      ],
      "metadata": {
        "colab": {
          "base_uri": "https://localhost:8080/"
        },
        "id": "FeHe3JTWpggE",
        "outputId": "001898fe-d6cc-405f-f5bf-55edbf152178"
      },
      "execution_count": 85,
      "outputs": [
        {
          "output_type": "stream",
          "name": "stdout",
          "text": [
            "    Duration          Date  Pulse  Maxpulse  Calories\n",
            "0         60  '2020/12/01'    110       130     409.1\n",
            "1         60  '2020/12/02'    117       145     479.0\n",
            "2         60  '2020/12/03'    103       135     340.0\n",
            "3         45  '2020/12/04'    109       175     282.4\n",
            "4         45  '2020/12/05'    117       148     406.0\n",
            "5         60  '2020/12/06'    102       127     300.0\n",
            "6         60  '2020/12/07'    110       136     374.0\n",
            "7        450  '2020/12/08'    104       134     253.3\n",
            "8         30  '2020/12/09'    109       133     195.1\n",
            "9         60  '2020/12/10'     98       124     269.0\n",
            "10        60  '2020/12/11'    103       147     329.3\n",
            "11        60  '2020/12/12'    100       120     250.7\n",
            "12        60  '2020/12/12'    100       120     250.7\n",
            "13        60  '2020/12/13'    106       128     345.3\n",
            "14        60  '2020/12/14'    104       132     379.3\n",
            "15        60  '2020/12/15'     98       123     275.0\n",
            "16        60  '2020/12/16'     98       120     215.2\n",
            "17        60  '2020/12/17'    100       120     300.0\n",
            "18        45  '2020/12/18'     90       112       NaN\n",
            "19        60  '2020/12/19'    103       123     323.0\n",
            "20        45  '2020/12/20'     97       125     243.0\n",
            "21        60  '2020/12/21'    108       131     364.2\n",
            "22        45           NaN    100       119     282.0\n",
            "23        60  '2020/12/23'    130       101     300.0\n",
            "24        45  '2020/12/24'    105       132     246.0\n",
            "25        60  '2020/12/25'    102       126     334.5\n",
            "26        60      20201226    100       120     250.0\n",
            "27        60  '2020/12/27'     92       118     241.0\n",
            "28        60  '2020/12/28'    103       132       NaN\n",
            "29        60  '2020/12/29'    100       132     280.0\n",
            "30        60  '2020/12/30'    102       129     380.3\n",
            "31        60  '2020/12/31'     92       115     243.0\n"
          ]
        }
      ]
    },
    {
      "cell_type": "markdown",
      "source": [
        "**2. Cuenta la cantidad de registros duplicados exactos (todas las columnas).**"
      ],
      "metadata": {
        "id": "guTySgvLprlI"
      }
    },
    {
      "cell_type": "code",
      "source": [
        "CD_Exacto = df.duplicated().sum()\n",
        "print('------------------------------------------------------------------------------')\n",
        "print('\\033[1m Cantidad de registros duplicados exactos (todas las columnas): \\033[0m')\n",
        "print('------------------------------------------------------------------------------')\n",
        "print(CD_Exacto)"
      ],
      "metadata": {
        "colab": {
          "base_uri": "https://localhost:8080/"
        },
        "id": "S3WEbkVlpu7V",
        "outputId": "8a243d95-99cd-48b7-c496-e36383778cd1"
      },
      "execution_count": 89,
      "outputs": [
        {
          "output_type": "stream",
          "name": "stdout",
          "text": [
            "------------------------------------------------------------------------------\n",
            "\u001b[1m Cantidad de registros duplicados exactos (todas las columnas): \u001b[0m\n",
            "------------------------------------------------------------------------------\n",
            "1\n"
          ]
        }
      ]
    },
    {
      "cell_type": "markdown",
      "source": [
        "**3. Utiliza sum() e imprime la cantidad de registros con duplicidad exacta.**"
      ],
      "metadata": {
        "id": "Bsr34IT-rEEJ"
      }
    },
    {
      "cell_type": "code",
      "source": [
        "CD_Exacto = df.duplicated().sum()\n",
        "print('------------------------------------------------------------------------------')\n",
        "print('\\033[1m cantidad de registros con duplicidad exacta: \\033[0m')\n",
        "print('------------------------------------------------------------------------------')\n",
        "print(CD_Exacto)\n",
        "\n",
        "print('\\n')\n",
        "\n",
        "print('------------------------------------------------------------------------------')\n",
        "print('\\033[1m Registro duplicado en todas las columnas \\033[0m')\n",
        "print('------------------------------------------------------------------------------')\n",
        "print(df[df.duplicated(keep='first')])"
      ],
      "metadata": {
        "colab": {
          "base_uri": "https://localhost:8080/"
        },
        "id": "CpqJ4RvYrEby",
        "outputId": "b1438ade-29b0-47a0-956a-b5934e5dcb11"
      },
      "execution_count": 93,
      "outputs": [
        {
          "output_type": "stream",
          "name": "stdout",
          "text": [
            "------------------------------------------------------------------------------\n",
            "\u001b[1m cantidad de registros con duplicidad exacta: \u001b[0m\n",
            "------------------------------------------------------------------------------\n",
            "1\n",
            "\n",
            "\n",
            "------------------------------------------------------------------------------\n",
            "\u001b[1m Registro duplicado en todas las columnas \u001b[0m\n",
            "------------------------------------------------------------------------------\n",
            "    Duration          Date  Pulse  Maxpulse  Calories\n",
            "12        60  '2020/12/12'    100       120     250.7\n"
          ]
        }
      ]
    },
    {
      "cell_type": "markdown",
      "source": [
        "**4. Filtra los datos y obten los registros cuando keep = 'last'.**"
      ],
      "metadata": {
        "id": "HM_VSdg3ssZq"
      }
    },
    {
      "cell_type": "code",
      "source": [
        "print('------------------------------------------------------------------------------')\n",
        "print('\\033[1m Datos filtrados cuando  keep = \"last\" \\033[0m')\n",
        "print('------------------------------------------------------------------------------')\n",
        "print(df[df.duplicated(keep='last')])"
      ],
      "metadata": {
        "colab": {
          "base_uri": "https://localhost:8080/"
        },
        "id": "2D91ObJIswco",
        "outputId": "053b55e1-d229-403d-b443-d23c09fdfd8d"
      },
      "execution_count": 94,
      "outputs": [
        {
          "output_type": "stream",
          "name": "stdout",
          "text": [
            "------------------------------------------------------------------------------\n",
            "\u001b[1m Datos filtrados cuando  keep = \"last\" \u001b[0m\n",
            "------------------------------------------------------------------------------\n",
            "    Duration          Date  Pulse  Maxpulse  Calories\n",
            "11        60  '2020/12/12'    100       120     250.7\n"
          ]
        }
      ]
    },
    {
      "cell_type": "markdown",
      "source": [
        "# **Ejercicio 05: Cálculo de la media con duplicados y sin duplicados**\n",
        "\n",
        "1. Carga el conjunto de datos dirty.csv y verifica que su carga sea correcta.\n",
        "2. Calcula e imprime la media de las columnas Pulse y MaxPulse.\n",
        "3. Identifica los valores duplicados en las columnas Pulse y MaxPulse (Duplicidad Parcial) y elimina los registro repetidos. Quédate con las últimas ocurrencias.\n",
        "4. Utiliza el conjunto anterior sin datos duplicados (recuerda que solo quedaron las últimas ocurrencias de los datos) y calcula la media de las columnas Pulse y MaxPulse."
      ],
      "metadata": {
        "id": "PT90NdLjtJe9"
      }
    },
    {
      "cell_type": "markdown",
      "source": [
        "**1. Carga el conjunto de datos dirty.csv y verifica que su carga sea correcta.**"
      ],
      "metadata": {
        "id": "vCM55mjctY1F"
      }
    },
    {
      "cell_type": "code",
      "source": [
        "import pandas as pd\n",
        "\n",
        "df = pd.read_csv('/content/drive/MyDrive/1_ClassFiles/13_Clase 19-09-2025/dirtydata.csv')\n",
        "print(df)"
      ],
      "metadata": {
        "colab": {
          "base_uri": "https://localhost:8080/"
        },
        "id": "dEb-EF9StV6M",
        "outputId": "d0d4e4d9-214a-4eb1-f85b-fed921e87a72"
      },
      "execution_count": 95,
      "outputs": [
        {
          "output_type": "stream",
          "name": "stdout",
          "text": [
            "    Duration          Date  Pulse  Maxpulse  Calories\n",
            "0         60  '2020/12/01'    110       130     409.1\n",
            "1         60  '2020/12/02'    117       145     479.0\n",
            "2         60  '2020/12/03'    103       135     340.0\n",
            "3         45  '2020/12/04'    109       175     282.4\n",
            "4         45  '2020/12/05'    117       148     406.0\n",
            "5         60  '2020/12/06'    102       127     300.0\n",
            "6         60  '2020/12/07'    110       136     374.0\n",
            "7        450  '2020/12/08'    104       134     253.3\n",
            "8         30  '2020/12/09'    109       133     195.1\n",
            "9         60  '2020/12/10'     98       124     269.0\n",
            "10        60  '2020/12/11'    103       147     329.3\n",
            "11        60  '2020/12/12'    100       120     250.7\n",
            "12        60  '2020/12/12'    100       120     250.7\n",
            "13        60  '2020/12/13'    106       128     345.3\n",
            "14        60  '2020/12/14'    104       132     379.3\n",
            "15        60  '2020/12/15'     98       123     275.0\n",
            "16        60  '2020/12/16'     98       120     215.2\n",
            "17        60  '2020/12/17'    100       120     300.0\n",
            "18        45  '2020/12/18'     90       112       NaN\n",
            "19        60  '2020/12/19'    103       123     323.0\n",
            "20        45  '2020/12/20'     97       125     243.0\n",
            "21        60  '2020/12/21'    108       131     364.2\n",
            "22        45           NaN    100       119     282.0\n",
            "23        60  '2020/12/23'    130       101     300.0\n",
            "24        45  '2020/12/24'    105       132     246.0\n",
            "25        60  '2020/12/25'    102       126     334.5\n",
            "26        60      20201226    100       120     250.0\n",
            "27        60  '2020/12/27'     92       118     241.0\n",
            "28        60  '2020/12/28'    103       132       NaN\n",
            "29        60  '2020/12/29'    100       132     280.0\n",
            "30        60  '2020/12/30'    102       129     380.3\n",
            "31        60  '2020/12/31'     92       115     243.0\n"
          ]
        }
      ]
    },
    {
      "cell_type": "markdown",
      "source": [
        "**2. Calcula e imprime la media de las columnas Pulse y MaxPulse.**"
      ],
      "metadata": {
        "id": "Mkr2lym0tfzc"
      }
    },
    {
      "cell_type": "code",
      "source": [
        "print('------------------------------------------------------------------------------')\n",
        "print('\\033[1m Valor promedio de la columna Pulse \\033[0m')\n",
        "print('------------------------------------------------------------------------------')\n",
        "PromedioPulse = df['Pulse'].mean()\n",
        "print(PromedioPulse)\n",
        "\n",
        "print('\\n')\n",
        "\n",
        "print('------------------------------------------------------------------------------')\n",
        "print('\\033[1m Valor promedio de la columna Maxpulse \\033[0m')\n",
        "print('------------------------------------------------------------------------------')\n",
        "PromedioMaxMaxpulse = df['Maxpulse'].mean()\n",
        "print(PromedioMaxMaxpulse)"
      ],
      "metadata": {
        "colab": {
          "base_uri": "https://localhost:8080/"
        },
        "id": "srBWAfpLthnG",
        "outputId": "414cba84-8cfa-4c6c-83db-7e9ae3acd585"
      },
      "execution_count": 102,
      "outputs": [
        {
          "output_type": "stream",
          "name": "stdout",
          "text": [
            "------------------------------------------------------------------------------\n",
            "\u001b[1m Valor promedio de la columna Pulse \u001b[0m\n",
            "------------------------------------------------------------------------------\n",
            "103.5\n",
            "\n",
            "\n",
            "------------------------------------------------------------------------------\n",
            "\u001b[1m Valor promedio de la columna Maxpulse \u001b[0m\n",
            "------------------------------------------------------------------------------\n",
            "128.5\n"
          ]
        }
      ]
    },
    {
      "cell_type": "markdown",
      "source": [
        "**3. Identifica los valores duplicados en las columnas Pulse y MaxPulse (Duplicidad Parcial) y elimina los registro repetidos. Quédate con las últimas ocurrencias.**"
      ],
      "metadata": {
        "id": "R5_IR9r4uuvO"
      }
    },
    {
      "cell_type": "code",
      "source": [
        "DD_PyM = df.drop_duplicates(subset=['Pulse', 'Maxpulse'], keep='last')\n",
        "\n",
        "print('------------------------------------------------------------------------------')\n",
        "print('\\033[1m DataFrame después de eliminar duplicados (manteniendo la última ocurrencia) \\033[0m')\n",
        "print('------------------------------------------------------------------------------')\n",
        "print(DD_PyM)"
      ],
      "metadata": {
        "colab": {
          "base_uri": "https://localhost:8080/"
        },
        "id": "j0hYZXQLuxhI",
        "outputId": "a7087deb-ec65-49f5-f16f-cb245f7d5961"
      },
      "execution_count": 105,
      "outputs": [
        {
          "output_type": "stream",
          "name": "stdout",
          "text": [
            "------------------------------------------------------------------------------\n",
            "\u001b[1m DataFrame después de eliminar duplicados (manteniendo la última ocurrencia) \u001b[0m\n",
            "------------------------------------------------------------------------------\n",
            "    Duration          Date  Pulse  Maxpulse  Calories\n",
            "0         60  '2020/12/01'    110       130     409.1\n",
            "1         60  '2020/12/02'    117       145     479.0\n",
            "2         60  '2020/12/03'    103       135     340.0\n",
            "3         45  '2020/12/04'    109       175     282.4\n",
            "4         45  '2020/12/05'    117       148     406.0\n",
            "5         60  '2020/12/06'    102       127     300.0\n",
            "6         60  '2020/12/07'    110       136     374.0\n",
            "7        450  '2020/12/08'    104       134     253.3\n",
            "8         30  '2020/12/09'    109       133     195.1\n",
            "9         60  '2020/12/10'     98       124     269.0\n",
            "10        60  '2020/12/11'    103       147     329.3\n",
            "13        60  '2020/12/13'    106       128     345.3\n",
            "14        60  '2020/12/14'    104       132     379.3\n",
            "15        60  '2020/12/15'     98       123     275.0\n",
            "16        60  '2020/12/16'     98       120     215.2\n",
            "18        45  '2020/12/18'     90       112       NaN\n",
            "19        60  '2020/12/19'    103       123     323.0\n",
            "20        45  '2020/12/20'     97       125     243.0\n",
            "21        60  '2020/12/21'    108       131     364.2\n",
            "22        45           NaN    100       119     282.0\n",
            "23        60  '2020/12/23'    130       101     300.0\n",
            "24        45  '2020/12/24'    105       132     246.0\n",
            "25        60  '2020/12/25'    102       126     334.5\n",
            "26        60      20201226    100       120     250.0\n",
            "27        60  '2020/12/27'     92       118     241.0\n",
            "28        60  '2020/12/28'    103       132       NaN\n",
            "29        60  '2020/12/29'    100       132     280.0\n",
            "30        60  '2020/12/30'    102       129     380.3\n",
            "31        60  '2020/12/31'     92       115     243.0\n"
          ]
        }
      ]
    }
  ]
}