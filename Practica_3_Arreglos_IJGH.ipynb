{
  "nbformat": 4,
  "nbformat_minor": 0,
  "metadata": {
    "colab": {
      "provenance": [],
      "mount_file_id": "1RviM0xMFwkiFKYllS-ddUxMrMKS9dtgB",
      "authorship_tag": "ABX9TyMUUDft3s35PPjUq7rEZApO",
      "include_colab_link": true
    },
    "kernelspec": {
      "name": "python3",
      "display_name": "Python 3"
    },
    "language_info": {
      "name": "python"
    }
  },
  "cells": [
    {
      "cell_type": "markdown",
      "metadata": {
        "id": "view-in-github",
        "colab_type": "text"
      },
      "source": [
        "<a href=\"https://colab.research.google.com/github/IsidroJ/Colab_Archivos_Clase_PADP/blob/main/Practica_3_Arreglos_IJGH.ipynb\" target=\"_parent\"><img src=\"https://colab.research.google.com/assets/colab-badge.svg\" alt=\"Open In Colab\"/></a>"
      ]
    },
    {
      "cell_type": "markdown",
      "source": [
        "# **Practica 3. Creación de un arreglo y operaciones básicas**\n",
        "\n",
        "Crea un arreglo unidimensional de 20 elementos con valores aleatorios entre 1 y 100. Luego, realiza las siguientes operaciones:\n",
        "\n",
        "1. Encuentra el valor máximo del arreglo.\n",
        "\n",
        "2. Encuentra el valor mínimo del arreglo.\n",
        "\n",
        "3. Calcula la media del arreglo.\n",
        "\n",
        "4. Suma 10 a cada elemento del arreglo."
      ],
      "metadata": {
        "id": "VCp9pXdbBxVi"
      }
    },
    {
      "cell_type": "code",
      "execution_count": 3,
      "metadata": {
        "colab": {
          "base_uri": "https://localhost:8080/"
        },
        "id": "xRwuQpwDBXzX",
        "outputId": "8c4a70da-0bb6-4889-97fb-dd1faf8416ae"
      },
      "outputs": [
        {
          "output_type": "stream",
          "name": "stdout",
          "text": [
            "[ 2 97 63  5 68 28 41  3 55 34 95 58 85 36 85 61 65 83 17 28]\n"
          ]
        }
      ],
      "source": [
        "import numpy as np\n",
        "arreglo = np.random.randint(1, 101, 20)\n",
        "print(arreglo)"
      ]
    },
    {
      "cell_type": "markdown",
      "source": [
        "**1. Encuentra el valor máximo del arreglo.**"
      ],
      "metadata": {
        "id": "6At1IdUCF1_Z"
      }
    },
    {
      "cell_type": "code",
      "source": [
        "valor_max = np.max(arreglo)\n",
        "print(f\"El valor máximo del arrego es: {valor_max}\")\n"
      ],
      "metadata": {
        "colab": {
          "base_uri": "https://localhost:8080/"
        },
        "id": "1r5GxX2uF3bf",
        "outputId": "03e45798-ab45-499f-fc59-adf98f72aa08"
      },
      "execution_count": 5,
      "outputs": [
        {
          "output_type": "stream",
          "name": "stdout",
          "text": [
            "El valor máximo del arrego es: 97\n"
          ]
        }
      ]
    },
    {
      "cell_type": "markdown",
      "source": [
        "**2. Encuentra el valor mínimo del arreglo.**"
      ],
      "metadata": {
        "id": "XHYJD3VaHIcK"
      }
    },
    {
      "cell_type": "code",
      "source": [
        "valor_min = np.min(arreglo)\n",
        "print(f\"El valor mínomo del arrego es: {valor_min}\")\n"
      ],
      "metadata": {
        "colab": {
          "base_uri": "https://localhost:8080/"
        },
        "outputId": "6a40dc3e-c9a9-4bda-cf7c-f92306aeb083",
        "id": "sQzMf4dVHK3k"
      },
      "execution_count": 6,
      "outputs": [
        {
          "output_type": "stream",
          "name": "stdout",
          "text": [
            "El valor mínomo del arrego es: 2\n"
          ]
        }
      ]
    },
    {
      "cell_type": "markdown",
      "source": [
        "**3. Calcula la media del arreglo.**"
      ],
      "metadata": {
        "id": "mW_P3_V8Hg-o"
      }
    },
    {
      "cell_type": "code",
      "source": [
        "promedio = np.mean(arreglo)\n",
        "print(f\"El valor promedio del arrego es: {promedio}\")\n"
      ],
      "metadata": {
        "colab": {
          "base_uri": "https://localhost:8080/"
        },
        "id": "NTH7L-TxHmUQ",
        "outputId": "29a0c3f9-c1fb-480f-e33a-b1cc5c206fbb"
      },
      "execution_count": 7,
      "outputs": [
        {
          "output_type": "stream",
          "name": "stdout",
          "text": [
            "El valor promedio del arrego es: 50.45\n"
          ]
        }
      ]
    },
    {
      "cell_type": "markdown",
      "source": [
        "**4. Suma 10 a cada elemento del arreglo.**"
      ],
      "metadata": {
        "id": "tquKYRY-H6k6"
      }
    },
    {
      "cell_type": "code",
      "source": [
        "EleArr5 = arreglo + 5\n",
        "print(f\"Arreglo origibal: \\n {arreglo}\")\n",
        "print('\\n')\n",
        "print(f\"Se sumaron 5 unidades a cada elemento del arrego, el nuevo arrego es: \\n {EleArr5}\")\n"
      ],
      "metadata": {
        "colab": {
          "base_uri": "https://localhost:8080/"
        },
        "id": "0xo7U-4cIC0l",
        "outputId": "742def29-d91b-4602-f40d-ecf8f37a6fb1"
      },
      "execution_count": 16,
      "outputs": [
        {
          "output_type": "stream",
          "name": "stdout",
          "text": [
            "Arreglo origibal: \n",
            " [ 2 97 63  5 68 28 41  3 55 34 95 58 85 36 85 61 65 83 17 28]\n",
            "\n",
            "\n",
            "Se sumaron 5 unidades a cada elemnto del arrego, el nuevo arrego es: \n",
            " [  7 102  68  10  73  33  46   8  60  39 100  63  90  41  90  66  70  88\n",
            "  22  33]\n"
          ]
        }
      ]
    }
  ]
}