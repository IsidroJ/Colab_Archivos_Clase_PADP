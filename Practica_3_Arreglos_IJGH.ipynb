{
  "nbformat": 4,
  "nbformat_minor": 0,
  "metadata": {
    "colab": {
      "provenance": [],
      "mount_file_id": "1RviM0xMFwkiFKYllS-ddUxMrMKS9dtgB",
      "authorship_tag": "ABX9TyPw12jsAx2A4SK4mLkjHPmO",
      "include_colab_link": true
    },
    "kernelspec": {
      "name": "python3",
      "display_name": "Python 3"
    },
    "language_info": {
      "name": "python"
    }
  },
  "cells": [
    {
      "cell_type": "markdown",
      "metadata": {
        "id": "view-in-github",
        "colab_type": "text"
      },
      "source": [
        "<a href=\"https://colab.research.google.com/github/IsidroJ/Colab_Archivos_Clase_PADP/blob/main/Practica_3_Arreglos_IJGH.ipynb\" target=\"_parent\"><img src=\"https://colab.research.google.com/assets/colab-badge.svg\" alt=\"Open In Colab\"/></a>"
      ]
    },
    {
      "cell_type": "markdown",
      "source": [
        "# **Practica 3. Creación de un arreglo y operaciones básicas**\n",
        "\n",
        "Crea un arreglo unidimensional de 20 elementos con valores aleatorios entre 1 y 100. Luego, realiza las siguientes operaciones:\n",
        "\n",
        "1. Encuentra el valor máximo del arreglo.\n",
        "\n",
        "2. Encuentra el valor mínimo del arreglo.\n",
        "\n",
        "3. Calcula la media del arreglo.\n",
        "\n",
        "4. Suma 10 a cada elemento del arreglo."
      ],
      "metadata": {
        "id": "VCp9pXdbBxVi"
      }
    },
    {
      "cell_type": "code",
      "execution_count": 19,
      "metadata": {
        "colab": {
          "base_uri": "https://localhost:8080/"
        },
        "id": "xRwuQpwDBXzX",
        "outputId": "31440bb1-434d-44c4-adab-3ba4f46bc1ef"
      },
      "outputs": [
        {
          "output_type": "stream",
          "name": "stdout",
          "text": [
            "El arrego es:\n",
            " [11  5 56 57 37 50 76 72 81 28 68 33 46 17 20 19 87 61 69 11]\n"
          ]
        }
      ],
      "source": [
        "import numpy as np\n",
        "arreglo = np.random.randint(1, 101, 20)\n",
        "print(f\"El arrego es:\\n {arreglo}\")\n"
      ]
    },
    {
      "cell_type": "markdown",
      "source": [
        "**1. Encuentra el valor máximo del arreglo.**"
      ],
      "metadata": {
        "id": "6At1IdUCF1_Z"
      }
    },
    {
      "cell_type": "code",
      "source": [
        "valor_max = np.max(arreglo)\n",
        "print(f\"El valor máximo del arrego es: {valor_max}\")\n"
      ],
      "metadata": {
        "colab": {
          "base_uri": "https://localhost:8080/"
        },
        "id": "1r5GxX2uF3bf",
        "outputId": "fd7e8862-98a8-47cd-dede-275a0936a717"
      },
      "execution_count": 20,
      "outputs": [
        {
          "output_type": "stream",
          "name": "stdout",
          "text": [
            "El valor máximo del arrego es: 87\n"
          ]
        }
      ]
    },
    {
      "cell_type": "markdown",
      "source": [
        "**2. Encuentra el valor mínimo del arreglo.**"
      ],
      "metadata": {
        "id": "XHYJD3VaHIcK"
      }
    },
    {
      "cell_type": "code",
      "source": [
        "valor_min = np.min(arreglo)\n",
        "print(f\"El valor mínomo del arrego es: {valor_min}\")\n"
      ],
      "metadata": {
        "colab": {
          "base_uri": "https://localhost:8080/"
        },
        "outputId": "36addd58-251f-440b-b0a2-871ecb3e3850",
        "id": "sQzMf4dVHK3k"
      },
      "execution_count": 21,
      "outputs": [
        {
          "output_type": "stream",
          "name": "stdout",
          "text": [
            "El valor mínomo del arrego es: 5\n"
          ]
        }
      ]
    },
    {
      "cell_type": "markdown",
      "source": [
        "**3. Calcula la media del arreglo.**"
      ],
      "metadata": {
        "id": "mW_P3_V8Hg-o"
      }
    },
    {
      "cell_type": "code",
      "source": [
        "promedio = np.mean(arreglo)\n",
        "print(f\"El valor promedio del arrego es: {promedio}\")\n"
      ],
      "metadata": {
        "colab": {
          "base_uri": "https://localhost:8080/"
        },
        "id": "NTH7L-TxHmUQ",
        "outputId": "0bdd8a58-9d9d-4dfa-bdd1-f5d6c3e3325f"
      },
      "execution_count": 22,
      "outputs": [
        {
          "output_type": "stream",
          "name": "stdout",
          "text": [
            "El valor promedio del arrego es: 45.2\n"
          ]
        }
      ]
    },
    {
      "cell_type": "markdown",
      "source": [
        "**4. Suma 10 a cada elemento del arreglo.**"
      ],
      "metadata": {
        "id": "tquKYRY-H6k6"
      }
    },
    {
      "cell_type": "code",
      "source": [
        "EleArr5 = arreglo + 5\n",
        "print(f\"Arreglo origibal: \\n {arreglo}\")\n",
        "print('\\n')\n",
        "print(f\"Se sumaron 5 unidades a cada elemento del arrego, el nuevo arrego es: \\n {EleArr5}\")\n"
      ],
      "metadata": {
        "colab": {
          "base_uri": "https://localhost:8080/"
        },
        "id": "0xo7U-4cIC0l",
        "outputId": "8323a9f7-642c-47fa-8258-8e9b91e378e2"
      },
      "execution_count": 23,
      "outputs": [
        {
          "output_type": "stream",
          "name": "stdout",
          "text": [
            "Arreglo origibal: \n",
            " [11  5 56 57 37 50 76 72 81 28 68 33 46 17 20 19 87 61 69 11]\n",
            "\n",
            "\n",
            "Se sumaron 5 unidades a cada elemento del arrego, el nuevo arrego es: \n",
            " [16 10 61 62 42 55 81 77 86 33 73 38 51 22 25 24 92 66 74 16]\n"
          ]
        }
      ]
    }
  ]
}